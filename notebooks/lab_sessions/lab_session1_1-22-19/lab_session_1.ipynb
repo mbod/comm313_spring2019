{
 "cells": [
  {
   "cell_type": "markdown",
   "metadata": {},
   "source": [
    "# Lab Session 1 - Getting started, with Python working with text (strings), lists and Counters\n",
    "\n",
    "## Objectives\n",
    "\n",
    "* **Become familiar with using Jupyter Notebooks** \n",
    "    * navigating your notebook server, creating new notebooks and folders, uploading files, etc. \n",
    "    * creating a text file\n",
    "    * using cells - adding, setting type, executing\n",
    "    * documenting your code with Markdown cells, formatting, using images and links\n",
    "    * running code cells\n",
    "     \n",
    "      \n",
    "* **Working with text in Python**\n",
    "    * creating a text object (string) and assigning a named pointer (variable)\n",
    "    * viewing an object vs using `print()` function\n",
    "    * using the `len()` function\n",
    "    * using string methods/functions\n",
    "    * indexing and slicing\n",
    "    \n",
    "    \n",
    "* **Lists of text**\n",
    "    * using `split()` on text to create a list of tokens\n",
    "    * indexing and slicing\n",
    "    * counting and searching within a list of words\n",
    "    * using `set()` to get list of tokens\n",
    "\n",
    "\n",
    "* **Using `Counter` to create frequency lists**"
   ]
  },
  {
   "cell_type": "markdown",
   "metadata": {},
   "source": [
    "## 1. Become familiar with using Jupyter Notebooks"
   ]
  },
  {
   "cell_type": "markdown",
   "metadata": {},
   "source": [
    "### Tasks\n",
    "\n",
    "* __Using text files__\n",
    "    * Create an empty text file (New > Text file)\n",
    "    * Rename it\n",
    "    * Add some text\n",
    "    * Save it\n",
    "    \n",
    "    \n",
    "* __Using folders__\n",
    "    * Create a new folder (New > Text file)\n",
    "    * Rename it (select checkbox and use rename icon)\n",
    "    * Move the text file you created into the folder\n",
    "    * It will be a good idea to have a folder called **data** in your top level directory to keep corpus files\n",
    "    \n",
    "    \n",
    "* __Uploading__\n",
    "    * Create or a find a text file and an image file on your computer\n",
    "    * Upload them your Jupyter server space (using Upload icon)\n",
    "    \n",
    "    \n",
    "    \n",
    "* __Create a Python notebook__\n",
    "    * Create a new Python notebook\n",
    "    * Rename it\n",
    "    * Play around adding and deleting cells (try using both the menu items and icons but also the keyboard shortcuts)\n",
    "    * Create a Markdown cell and use Markdown to produce the following:\n",
    "    \n",
    "    ![](markdown_ex1.png)\n",
    "\n",
    "      **N.B.** the horizontal rule between the Level 1 and Level 2 headings\n",
    "      \n",
    "      These links could help: \n",
    "      \n",
    "         * https://daringfireball.net/projects/markdown\n",
    "         * http://jupyter-notebook.readthedocs.io/en/stable/examples/Notebook/Working%20With%20Markdown%20Cells.html\n",
    "      \n",
    "    * Add a Markdown cell and:\n",
    "        * Include the image file you uploaded above\n",
    "        * Add a hyperlink to this news story:\n",
    "            * https://www.theguardian.com/us-news/2018/jan/17/trump-fake-news-awards-winners\n",
    "            * While you are at it copy the text of that news story and save it in a text file in your **data** folder"
   ]
  },
  {
   "cell_type": "markdown",
   "metadata": {},
   "source": [
    "## 2. Working with text in Python"
   ]
  },
  {
   "cell_type": "markdown",
   "metadata": {},
   "source": [
    "* Text can be used in Python by creating a string object. A piece of text is surrounded by matching quotes--either\n",
    "    * single `' some text '` \n",
    "    * or double `\" some more \"`\n",
    "    * but not `\" like this '`"
   ]
  },
  {
   "cell_type": "code",
   "execution_count": 39,
   "metadata": {},
   "outputs": [
    {
     "data": {
      "text/plain": [
       "'some text'"
      ]
     },
     "execution_count": 39,
     "metadata": {},
     "output_type": "execute_result"
    }
   ],
   "source": [
    "'some text'"
   ]
  },
  {
   "cell_type": "code",
   "execution_count": 38,
   "metadata": {},
   "outputs": [
    {
     "data": {
      "text/plain": [
       "'some more'"
      ]
     },
     "execution_count": 38,
     "metadata": {},
     "output_type": "execute_result"
    }
   ],
   "source": [
    "\"some more\""
   ]
  },
  {
   "cell_type": "code",
   "execution_count": 40,
   "metadata": {},
   "outputs": [
    {
     "ename": "SyntaxError",
     "evalue": "EOL while scanning string literal (<ipython-input-40-6d1922882682>, line 1)",
     "output_type": "error",
     "traceback": [
      "\u001b[0;36m  File \u001b[0;32m\"<ipython-input-40-6d1922882682>\"\u001b[0;36m, line \u001b[0;32m1\u001b[0m\n\u001b[0;31m    \"like this'\u001b[0m\n\u001b[0m               ^\u001b[0m\n\u001b[0;31mSyntaxError\u001b[0m\u001b[0;31m:\u001b[0m EOL while scanning string literal\n"
     ]
    }
   ],
   "source": [
    "\"like this'"
   ]
  },
  {
   "cell_type": "markdown",
   "metadata": {},
   "source": [
    "* To make it easier to access and work on the text data we can assign a _named pointer_ (similar to a variable in other languages but not exactly the same thing)."
   ]
  },
  {
   "cell_type": "code",
   "execution_count": 42,
   "metadata": {},
   "outputs": [
    {
     "data": {
      "text/plain": [
       "'some text'"
      ]
     },
     "execution_count": 42,
     "metadata": {},
     "output_type": "execute_result"
    }
   ],
   "source": [
    "text = \"some text\"\n",
    "text"
   ]
  },
  {
   "cell_type": "markdown",
   "metadata": {},
   "source": [
    "* The name you use for a pointer should be useful to remind you (and others who look at your code) what the data. \n",
    "* So \n",
    "    * single character names are not a great idea\n",
    "    * but neither are really long ones\n",
    "    * the convention is to use lowercase and underscores between words, e.g.\n",
    "        * `some_text = \"abc\"`\n",
    "        * instead of `someText = \"abc\"`"
   ]
  },
  {
   "cell_type": "markdown",
   "metadata": {},
   "source": [
    "### TASK\n",
    "\n",
    "* create or copy 3 or 4 sentences and put them into Python objects with named pointers `sent1`, `sent2`, ..etc.."
   ]
  },
  {
   "cell_type": "code",
   "execution_count": null,
   "metadata": {},
   "outputs": [],
   "source": []
  },
  {
   "cell_type": "markdown",
   "metadata": {},
   "source": [
    "* __DISPLAY THEM__\n",
    "\n",
    "    1. by entering the name and executing the cell\n",
    "    2. using the `print()` function  \n",
    "    \n",
    "  _What is the difference?_"
   ]
  },
  {
   "cell_type": "code",
   "execution_count": null,
   "metadata": {},
   "outputs": [],
   "source": []
  },
  {
   "cell_type": "markdown",
   "metadata": {},
   "source": [
    "### TASK\n",
    "\n",
    "* use the `len()` function on your sentence objects to count the number of characters\n",
    "* change one of your sentences into all uppercase using the `.upper()` function\n",
    "* change another into all lowercase using the `.lower()` function"
   ]
  },
  {
   "cell_type": "code",
   "execution_count": null,
   "metadata": {},
   "outputs": [],
   "source": []
  },
  {
   "cell_type": "code",
   "execution_count": 44,
   "metadata": {},
   "outputs": [
    {
     "data": {
      "text/plain": [
       "'this is a sentence'"
      ]
     },
     "execution_count": 44,
     "metadata": {},
     "output_type": "execute_result"
    }
   ],
   "source": [
    "sent=\"This is a SENTENCE\"\n",
    "sent.lower()"
   ]
  },
  {
   "cell_type": "code",
   "execution_count": 45,
   "metadata": {},
   "outputs": [
    {
     "data": {
      "text/plain": [
       "'This is a SENTENCE'"
      ]
     },
     "execution_count": 45,
     "metadata": {},
     "output_type": "execute_result"
    }
   ],
   "source": [
    "sent"
   ]
  },
  {
   "cell_type": "markdown",
   "metadata": {},
   "source": [
    "* **N.B.** how the case of the object has not been permanently changed\n",
    "* _How would you store the result of the case change function?_"
   ]
  },
  {
   "cell_type": "code",
   "execution_count": null,
   "metadata": {},
   "outputs": [],
   "source": []
  },
  {
   "cell_type": "markdown",
   "metadata": {},
   "source": [
    "### TASK\n",
    "\n",
    "* Try using some other string functions like:\n",
    "    * `.title()`\n",
    "    * `.swapcase()`\n",
    "    * `.capitalize()`\n",
    "    * `.islower()`\n",
    "    * `.startswith()`\n",
    "    * `.count()`\n",
    "    * _What's the difference between_ `.find()` _and_ `.index()` _and_ `.rfind()`?"
   ]
  },
  {
   "cell_type": "code",
   "execution_count": null,
   "metadata": {},
   "outputs": [],
   "source": []
  },
  {
   "cell_type": "markdown",
   "metadata": {},
   "source": [
    "  \n",
    "* Use `dir(str)` to get a list of the functions/methods that are available for strings and try and figure out what some of them do and how to use them\n",
    "* The `help()` function or putting a `?` next to it will give you access to the documentation, e.g.\n",
    "    * `help(sent.islower)`\n",
    "    * `sent.islower?`\n",
    "    * `?sent.title`"
   ]
  },
  {
   "cell_type": "markdown",
   "metadata": {},
   "source": [
    "### Indexing\n",
    "\n",
    "* You can select a character from a string using its index\n",
    "* To do this use the square bracket notation:\n",
    "    * `sent[0]` - will get the first character\n",
    "    * `sent[1]` - the second character\n",
    "    * `sent[-1]` - the last\n",
    "    * `sent[-2]` - the second from last"
   ]
  },
  {
   "cell_type": "code",
   "execution_count": null,
   "metadata": {},
   "outputs": [],
   "source": []
  },
  {
   "cell_type": "markdown",
   "metadata": {},
   "source": [
    "* **N.B.** the first character has an index of **ZERO** not **ONE**"
   ]
  },
  {
   "cell_type": "code",
   "execution_count": 52,
   "metadata": {},
   "outputs": [
    {
     "name": "stdout",
     "output_type": "stream",
     "text": [
      "This is a SENTENCE\n",
      "h <- oh! I thought this would be a T\n"
     ]
    }
   ],
   "source": [
    "print(sent)\n",
    "print(sent[1], '<-', 'oh! I thought this would be a T')"
   ]
  },
  {
   "cell_type": "code",
   "execution_count": null,
   "metadata": {},
   "outputs": [],
   "source": []
  },
  {
   "cell_type": "markdown",
   "metadata": {},
   "source": [
    "### Slicing\n",
    "\n",
    "* You can access a sequence of characters in a string using **slicing**\n",
    "* The syntax is:\n",
    "    * `sent[start_index:end_index]`"
   ]
  },
  {
   "cell_type": "code",
   "execution_count": 53,
   "metadata": {},
   "outputs": [
    {
     "data": {
      "text/plain": [
       "'Th'"
      ]
     },
     "execution_count": 53,
     "metadata": {},
     "output_type": "execute_result"
    }
   ],
   "source": [
    "sent[0:2]"
   ]
  },
  {
   "cell_type": "code",
   "execution_count": 54,
   "metadata": {},
   "outputs": [
    {
     "data": {
      "text/plain": [
       "'Thi'"
      ]
     },
     "execution_count": 54,
     "metadata": {},
     "output_type": "execute_result"
    }
   ],
   "source": [
    "sent[0:3]"
   ]
  },
  {
   "cell_type": "markdown",
   "metadata": {},
   "source": [
    "* PRACTICE THIS!!\n",
    "* **N.B.** the end index is the point in the string up to which you are going to include characters but not the character itself"
   ]
  },
  {
   "cell_type": "code",
   "execution_count": 57,
   "metadata": {},
   "outputs": [
    {
     "data": {
      "text/plain": [
       "'s'"
      ]
     },
     "execution_count": 57,
     "metadata": {},
     "output_type": "execute_result"
    }
   ],
   "source": [
    "# index 3 in \"This is a SENTENCE\" is the character 's'\n",
    "sent[3] "
   ]
  },
  {
   "cell_type": "code",
   "execution_count": 59,
   "metadata": {},
   "outputs": [
    {
     "data": {
      "text/plain": [
       "'Thi'"
      ]
     },
     "execution_count": 59,
     "metadata": {},
     "output_type": "execute_result"
    }
   ],
   "source": [
    "# sent[0:3] should give back 'This' ... right?\n",
    "sent[0:3]"
   ]
  },
  {
   "cell_type": "code",
   "execution_count": null,
   "metadata": {},
   "outputs": [],
   "source": []
  },
  {
   "cell_type": "markdown",
   "metadata": {},
   "source": [
    "### TASKS \n",
    "* What happens when you leave the first number blank?\n",
    "    * e.g. `sent[:4]`\n",
    "* What happens when you leave the second number blank?\n",
    "    * e.g. `sent[:4]`\n",
    "* There is a third number you can include when slicing\n",
    "    * e.g. `sent[0:10:2]` \n",
    "    \n",
    "  _What does it do?_"
   ]
  },
  {
   "cell_type": "code",
   "execution_count": null,
   "metadata": {},
   "outputs": [],
   "source": []
  },
  {
   "cell_type": "code",
   "execution_count": null,
   "metadata": {},
   "outputs": [],
   "source": []
  },
  {
   "cell_type": "markdown",
   "metadata": {},
   "source": [
    "## 3. Working with lists of text (tokens)"
   ]
  },
  {
   "cell_type": "markdown",
   "metadata": {},
   "source": [
    "* We can use the `.split()` function to **tokenize** (or split into **tokens**) a piece of text"
   ]
  },
  {
   "cell_type": "code",
   "execution_count": 61,
   "metadata": {},
   "outputs": [],
   "source": [
    "text2='''\n",
    "Donald Trump, who has routinely peddled conspiracy theories and mistruths from the office of the presidency, sought to question the accuracy of the media on Wednesday by unveiling the so-called “Fake News Awards”.\n",
    "\n",
    "The president used his preferred medium of Twitter to announce “the winners”, which ranged from minor errors by journalists on social media to news reports that later invited corrections, with the New York Times and CNN the most frequently named.\n",
    "'''"
   ]
  },
  {
   "cell_type": "code",
   "execution_count": 63,
   "metadata": {},
   "outputs": [],
   "source": [
    "tokens=text2.split()"
   ]
  },
  {
   "cell_type": "code",
   "execution_count": 64,
   "metadata": {},
   "outputs": [
    {
     "data": {
      "text/plain": [
       "['Donald',\n",
       " 'Trump,',\n",
       " 'who',\n",
       " 'has',\n",
       " 'routinely',\n",
       " 'peddled',\n",
       " 'conspiracy',\n",
       " 'theories',\n",
       " 'and',\n",
       " 'mistruths',\n",
       " 'from',\n",
       " 'the',\n",
       " 'office',\n",
       " 'of',\n",
       " 'the',\n",
       " 'presidency,',\n",
       " 'sought',\n",
       " 'to',\n",
       " 'question',\n",
       " 'the',\n",
       " 'accuracy',\n",
       " 'of',\n",
       " 'the',\n",
       " 'media',\n",
       " 'on',\n",
       " 'Wednesday',\n",
       " 'by',\n",
       " 'unveiling',\n",
       " 'the',\n",
       " 'so-called',\n",
       " '“Fake',\n",
       " 'News',\n",
       " 'Awards”.',\n",
       " 'The',\n",
       " 'president',\n",
       " 'used',\n",
       " 'his',\n",
       " 'preferred',\n",
       " 'medium',\n",
       " 'of',\n",
       " 'Twitter',\n",
       " 'to',\n",
       " 'announce',\n",
       " '“the',\n",
       " 'winners”,',\n",
       " 'which',\n",
       " 'ranged',\n",
       " 'from',\n",
       " 'minor',\n",
       " 'errors',\n",
       " 'by',\n",
       " 'journalists',\n",
       " 'on',\n",
       " 'social',\n",
       " 'media',\n",
       " 'to',\n",
       " 'news',\n",
       " 'reports',\n",
       " 'that',\n",
       " 'later',\n",
       " 'invited',\n",
       " 'corrections,',\n",
       " 'with',\n",
       " 'the',\n",
       " 'New',\n",
       " 'York',\n",
       " 'Times',\n",
       " 'and',\n",
       " 'CNN',\n",
       " 'the',\n",
       " 'most',\n",
       " 'frequently',\n",
       " 'named.']"
      ]
     },
     "execution_count": 64,
     "metadata": {},
     "output_type": "execute_result"
    }
   ],
   "source": [
    "tokens"
   ]
  },
  {
   "cell_type": "markdown",
   "metadata": {},
   "source": [
    "### TASKS \n",
    "\n",
    "* Read about the `.split()` function using the `help()` function\n",
    "* Assign a named pointer to the result of using the function\n",
    "    * `tokens = \"This is my sentence of words and more words\".split()`\n",
    "* Now you have a **LIST** object which is a sequence of objects\n",
    "* You can index and slice a list. Practice doing this on your list of tokens.\n",
    "* Use `dir(list)` to find out what specific functions can be used on a list object and try some out."
   ]
  },
  {
   "cell_type": "code",
   "execution_count": null,
   "metadata": {},
   "outputs": [],
   "source": []
  },
  {
   "cell_type": "code",
   "execution_count": null,
   "metadata": {},
   "outputs": [],
   "source": []
  },
  {
   "cell_type": "markdown",
   "metadata": {},
   "source": [
    "### TASKS \n",
    "\n",
    "* Take the two paragraphs from the article above (or another one that interests you) and turn them into a string with a named pointer. (You can use a whole text if you are feeling ambitious)\n",
    "* Turn you string into lowercase and create a list of tokens\n",
    "* Use the `.count()` function to tabulate how often common words like _the_ and _on_ occur\n",
    "* Use the `.index()` function to find the location of all the instances of a common word like _and_"
   ]
  },
  {
   "cell_type": "markdown",
   "metadata": {},
   "source": [
    "## 4. Using `Counter` to create frequency lists"
   ]
  },
  {
   "cell_type": "markdown",
   "metadata": {},
   "source": [
    "### TASKS \n",
    "\n",
    "* Take your list of tokens and create a frequency list using the `Counter` object\n",
    "\n",
    "\n",
    "* List the most common words\n",
    "\n",
    "\n",
    "* If you haven't already been working with a whole text load in the contents of one of your text files with the `open()` and `.read()` functions:\n",
    "    * `a_long_text = open('data/your_text_file.txt').read()`\n",
    "\n",
    "\n",
    "* Tokenize your text\n",
    "\n",
    "\n",
    "* Create a frequency list and investigate"
   ]
  },
  {
   "cell_type": "code",
   "execution_count": 69,
   "metadata": {},
   "outputs": [],
   "source": [
    "from collections import Counter"
   ]
  },
  {
   "cell_type": "code",
   "execution_count": 70,
   "metadata": {},
   "outputs": [],
   "source": [
    "freq = Counter()"
   ]
  },
  {
   "cell_type": "code",
   "execution_count": 71,
   "metadata": {},
   "outputs": [],
   "source": [
    "freq.update(tokens)"
   ]
  },
  {
   "cell_type": "code",
   "execution_count": 72,
   "metadata": {},
   "outputs": [
    {
     "data": {
      "text/plain": [
       "[('the', 7),\n",
       " ('of', 3),\n",
       " ('to', 3),\n",
       " ('and', 2),\n",
       " ('from', 2),\n",
       " ('media', 2),\n",
       " ('on', 2),\n",
       " ('by', 2),\n",
       " ('Donald', 1),\n",
       " ('Trump,', 1)]"
      ]
     },
     "execution_count": 72,
     "metadata": {},
     "output_type": "execute_result"
    }
   ],
   "source": [
    "freq.most_common(10)"
   ]
  },
  {
   "cell_type": "code",
   "execution_count": 73,
   "metadata": {},
   "outputs": [
    {
     "data": {
      "text/plain": [
       "7"
      ]
     },
     "execution_count": 73,
     "metadata": {},
     "output_type": "execute_result"
    }
   ],
   "source": [
    "freq['the']"
   ]
  },
  {
   "cell_type": "code",
   "execution_count": 75,
   "metadata": {},
   "outputs": [
    {
     "data": {
      "text/plain": [
       "3"
      ]
     },
     "execution_count": 75,
     "metadata": {},
     "output_type": "execute_result"
    }
   ],
   "source": [
    "freq.get('to')"
   ]
  },
  {
   "cell_type": "code",
   "execution_count": null,
   "metadata": {},
   "outputs": [],
   "source": []
  }
 ],
 "metadata": {
  "kernelspec": {
   "display_name": "Python 3",
   "language": "python",
   "name": "python3"
  },
  "language_info": {
   "codemirror_mode": {
    "name": "ipython",
    "version": 3
   },
   "file_extension": ".py",
   "mimetype": "text/x-python",
   "name": "python",
   "nbconvert_exporter": "python",
   "pygments_lexer": "ipython3",
   "version": "3.6.3"
  }
 },
 "nbformat": 4,
 "nbformat_minor": 2
}
