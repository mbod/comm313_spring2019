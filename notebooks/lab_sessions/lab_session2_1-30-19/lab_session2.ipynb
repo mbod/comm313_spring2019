{
 "cells": [
  {
   "cell_type": "markdown",
   "metadata": {},
   "source": [
    "# Lab Session 2 - Review, Code blocks, Conditions, Loops, Functions (1/30/19)\n",
    "\n",
    "## Objectives\n",
    "\n",
    "* **Review handling text with `strings` and `lists` of words**\n",
    "\n",
    "* **Understand how whitespace/indentation functions in Python**\n",
    "      \n",
    "* **Reading text from a file**\n",
    "      \n",
    "* **Using conditions to allow optional steps**\n",
    "    \n",
    "* **Repeating steps and walking through a list using a loop**\n",
    "\n",
    "* **Grouping steps into a unit with functions**\n"
   ]
  },
  {
   "cell_type": "markdown",
   "metadata": {},
   "source": [
    "### 1. Review: text in `strings`"
   ]
  },
  {
   "cell_type": "markdown",
   "metadata": {},
   "source": [
    "* create a string object with 5 characters `B e a r !`\n",
    "* in a notebook/interactive context the result of entering this is for it to be passed back to you and displayed"
   ]
  },
  {
   "cell_type": "code",
   "execution_count": 2,
   "metadata": {},
   "outputs": [
    {
     "data": {
      "text/plain": [
       "'BEARS!'"
      ]
     },
     "execution_count": 2,
     "metadata": {},
     "output_type": "execute_result"
    }
   ],
   "source": [
    "'BEARS!'"
   ]
  },
  {
   "cell_type": "markdown",
   "metadata": {},
   "source": [
    "* the `'` quotes around the output indicate that it is a string type object\n",
    "* using the `print()` function gives a prettier formatted version of the object (including any layout characters like line feeds etc)"
   ]
  },
  {
   "cell_type": "code",
   "execution_count": 3,
   "metadata": {},
   "outputs": [
    {
     "name": "stdout",
     "output_type": "stream",
     "text": [
      "BEARS!\n"
     ]
    }
   ],
   "source": [
    "print('BEARS!')"
   ]
  },
  {
   "cell_type": "markdown",
   "metadata": {},
   "source": [
    "* we can apply functions to this string"
   ]
  },
  {
   "cell_type": "code",
   "execution_count": 4,
   "metadata": {},
   "outputs": [
    {
     "data": {
      "text/plain": [
       "6"
      ]
     },
     "execution_count": 4,
     "metadata": {},
     "output_type": "execute_result"
    }
   ],
   "source": [
    "len('BEARS!')"
   ]
  },
  {
   "cell_type": "code",
   "execution_count": 5,
   "metadata": {},
   "outputs": [
    {
     "data": {
      "text/plain": [
       "'bears!'"
      ]
     },
     "execution_count": 5,
     "metadata": {},
     "output_type": "execute_result"
    }
   ],
   "source": [
    "'BEARS!'.lower()"
   ]
  },
  {
   "cell_type": "markdown",
   "metadata": {},
   "source": [
    "* BUT each time we retype it we are creating another string object and after the line of code has been executed we have no way of getting back to that same object\n",
    "* It is 'orphaned' in the Python memory workspace!"
   ]
  },
  {
   "cell_type": "markdown",
   "metadata": {},
   "source": [
    "![](pointer1.png)"
   ]
  },
  {
   "cell_type": "markdown",
   "metadata": {},
   "source": [
    "* when we do something to it like `replace` the exclamation point with an empty character (`''`)\n",
    "* the result is also a new object that is orphaned "
   ]
  },
  {
   "cell_type": "code",
   "execution_count": 6,
   "metadata": {},
   "outputs": [
    {
     "data": {
      "text/plain": [
       "'BEARS'"
      ]
     },
     "execution_count": 6,
     "metadata": {},
     "output_type": "execute_result"
    }
   ],
   "source": [
    "'BEARS!'.replace('!','')"
   ]
  },
  {
   "cell_type": "markdown",
   "metadata": {},
   "source": [
    "![](pointer2.png)"
   ]
  },
  {
   "cell_type": "markdown",
   "metadata": {},
   "source": [
    "* So we can assign a named pointer to the string object and then we have a way to get back to it..."
   ]
  },
  {
   "cell_type": "code",
   "execution_count": 7,
   "metadata": {},
   "outputs": [],
   "source": [
    "text = 'BEARS!'"
   ]
  },
  {
   "cell_type": "markdown",
   "metadata": {},
   "source": [
    "![](pointer3.png)"
   ]
  },
  {
   "cell_type": "code",
   "execution_count": 8,
   "metadata": {},
   "outputs": [
    {
     "name": "stdout",
     "output_type": "stream",
     "text": [
      "BEARS!\n"
     ]
    }
   ],
   "source": [
    "print(text)"
   ]
  },
  {
   "cell_type": "code",
   "execution_count": 9,
   "metadata": {},
   "outputs": [
    {
     "name": "stdout",
     "output_type": "stream",
     "text": [
      "BEARS!BEARS!BEARS!BEARS!BEARS!\n"
     ]
    }
   ],
   "source": [
    "print(text*5)"
   ]
  },
  {
   "cell_type": "code",
   "execution_count": 10,
   "metadata": {},
   "outputs": [
    {
     "name": "stdout",
     "output_type": "stream",
     "text": [
      "bears!\n"
     ]
    }
   ],
   "source": [
    "print(text.lower())"
   ]
  },
  {
   "cell_type": "markdown",
   "metadata": {},
   "source": [
    "* **BUT** notice if we do something the object pointed to by the name `text` it doesn't change the object"
   ]
  },
  {
   "cell_type": "code",
   "execution_count": 11,
   "metadata": {},
   "outputs": [
    {
     "name": "stdout",
     "output_type": "stream",
     "text": [
      "This is result of calling replace('!','') on text >>> BEARS\n",
      "\n",
      "The current object pointed to by text is >>> BEARS!\n"
     ]
    }
   ],
   "source": [
    "print(\"This is result of calling replace('!','') on text >>>\", text.replace('!',''))\n",
    "print()\n",
    "print(\"The current object pointed to by text is >>>\", text)"
   ]
  },
  {
   "cell_type": "markdown",
   "metadata": {},
   "source": [
    "![](pointer4.png)"
   ]
  },
  {
   "cell_type": "code",
   "execution_count": null,
   "metadata": {},
   "outputs": [],
   "source": []
  },
  {
   "cell_type": "markdown",
   "metadata": {},
   "source": [
    "* **SO** to get the behavior we might have expected, that is, that `text` would point to the result of stripping the `!` we need to reassign the pointer:"
   ]
  },
  {
   "cell_type": "code",
   "execution_count": 12,
   "metadata": {},
   "outputs": [],
   "source": [
    "text = text.replace('!','')"
   ]
  },
  {
   "cell_type": "markdown",
   "metadata": {},
   "source": [
    "* this does the following:\n",
    "\n",
    "![](pointer5.png)"
   ]
  },
  {
   "cell_type": "code",
   "execution_count": null,
   "metadata": {},
   "outputs": [],
   "source": []
  },
  {
   "cell_type": "code",
   "execution_count": 13,
   "metadata": {},
   "outputs": [
    {
     "name": "stdout",
     "output_type": "stream",
     "text": [
      "The current object pointed to by text is >>> BEARS\n"
     ]
    }
   ],
   "source": [
    "print(\"The current object pointed to by text is >>>\", text)"
   ]
  },
  {
   "cell_type": "code",
   "execution_count": 14,
   "metadata": {},
   "outputs": [],
   "source": [
    "text = 'BEARS!'\n",
    "text2 = text"
   ]
  },
  {
   "cell_type": "code",
   "execution_count": 15,
   "metadata": {},
   "outputs": [
    {
     "name": "stdout",
     "output_type": "stream",
     "text": [
      "text >>>  BEARS!\n",
      "\n",
      "text2 >>>  BEARS!\n"
     ]
    }
   ],
   "source": [
    "print('text >>> ', text)\n",
    "print()\n",
    "print('text2 >>> ', text2)"
   ]
  },
  {
   "cell_type": "markdown",
   "metadata": {},
   "source": [
    "![](pointer6.png)"
   ]
  },
  {
   "cell_type": "code",
   "execution_count": 16,
   "metadata": {},
   "outputs": [],
   "source": [
    "text = text.replace('!','')"
   ]
  },
  {
   "cell_type": "code",
   "execution_count": 17,
   "metadata": {},
   "outputs": [
    {
     "name": "stdout",
     "output_type": "stream",
     "text": [
      "text >>>  BEARS\n",
      "\n",
      "text2 >>>  BEARS!\n"
     ]
    }
   ],
   "source": [
    "print('text >>> ', text)\n",
    "print()\n",
    "print('text2 >>> ', text2)"
   ]
  },
  {
   "cell_type": "markdown",
   "metadata": {},
   "source": [
    "![](pointer7.png)"
   ]
  },
  {
   "cell_type": "code",
   "execution_count": 18,
   "metadata": {},
   "outputs": [],
   "source": [
    "text2=text.lower()"
   ]
  },
  {
   "cell_type": "code",
   "execution_count": 19,
   "metadata": {},
   "outputs": [
    {
     "name": "stdout",
     "output_type": "stream",
     "text": [
      "text >>>  BEARS\n",
      "\n",
      "text2 >>>  bears\n"
     ]
    }
   ],
   "source": [
    "print('text >>> ', text)\n",
    "print()\n",
    "print('text2 >>> ', text2)"
   ]
  },
  {
   "cell_type": "markdown",
   "metadata": {},
   "source": [
    "![](pointer8.png)"
   ]
  },
  {
   "cell_type": "markdown",
   "metadata": {},
   "source": [
    "### Turning a `string` of text into a `list` of words (tokens)\n",
    "\n",
    "* One of the string object functions in Python is the `.split()` function"
   ]
  },
  {
   "cell_type": "code",
   "execution_count": 20,
   "metadata": {},
   "outputs": [
    {
     "name": "stdout",
     "output_type": "stream",
     "text": [
      "Help on method_descriptor:\n",
      "\n",
      "split(...)\n",
      "    S.split(sep=None, maxsplit=-1) -> list of strings\n",
      "    \n",
      "    Return a list of the words in S, using sep as the\n",
      "    delimiter string.  If maxsplit is given, at most maxsplit\n",
      "    splits are done. If sep is not specified or is None, any\n",
      "    whitespace string is a separator and empty strings are\n",
      "    removed from the result.\n",
      "\n"
     ]
    }
   ],
   "source": [
    "help(str.split)"
   ]
  },
  {
   "cell_type": "code",
   "execution_count": 21,
   "metadata": {},
   "outputs": [],
   "source": [
    "sent = \"This, is a sentence!...\""
   ]
  },
  {
   "cell_type": "code",
   "execution_count": 22,
   "metadata": {},
   "outputs": [
    {
     "data": {
      "text/plain": [
       "['This,', 'is', 'a', 'sentence!...']"
      ]
     },
     "execution_count": 22,
     "metadata": {},
     "output_type": "execute_result"
    }
   ],
   "source": [
    "sent.split()"
   ]
  },
  {
   "cell_type": "markdown",
   "metadata": {},
   "source": [
    "* Here the _tokenization_ using just one or more whitespace characters as the delimiter between items\n",
    "\n",
    "\n",
    "* Often we want to _normalize_ case, i.e. put all words into lower- (or sometimes upper-) case and also strip non-alphabetical characters, e.g. punctuation.\n",
    "\n",
    "\n",
    "* The `.lower()`, `.replace()` and `.translate()` string functions can be used for this"
   ]
  },
  {
   "cell_type": "code",
   "execution_count": 23,
   "metadata": {},
   "outputs": [
    {
     "name": "stdout",
     "output_type": "stream",
     "text": [
      "this, is a sentence!...\n"
     ]
    }
   ],
   "source": [
    "sent_lc=sent.lower()\n",
    "print(sent_lc)"
   ]
  },
  {
   "cell_type": "markdown",
   "metadata": {},
   "source": [
    "* `.replace()` allows you to replace all instances of one character"
   ]
  },
  {
   "cell_type": "code",
   "execution_count": 24,
   "metadata": {},
   "outputs": [
    {
     "data": {
      "text/plain": [
       "'this, is a sentence!'"
      ]
     },
     "execution_count": 24,
     "metadata": {},
     "output_type": "execute_result"
    }
   ],
   "source": [
    "sent_lc.replace('.','')"
   ]
  },
  {
   "cell_type": "markdown",
   "metadata": {},
   "source": [
    "* But a whole series of calls to `.replace()` can be chained together like this:"
   ]
  },
  {
   "cell_type": "code",
   "execution_count": 25,
   "metadata": {},
   "outputs": [],
   "source": [
    "sent_lc_no_punc=sent_lc.replace('.','').replace(',','').replace('!','')"
   ]
  },
  {
   "cell_type": "code",
   "execution_count": 26,
   "metadata": {},
   "outputs": [
    {
     "name": "stdout",
     "output_type": "stream",
     "text": [
      "this is a sentence\n"
     ]
    }
   ],
   "source": [
    "print(sent_lc_no_punc)"
   ]
  },
  {
   "cell_type": "markdown",
   "metadata": {},
   "source": [
    "* The `.translate()` function allows for a mapping to be created between a list of characters and their replacement"
   ]
  },
  {
   "cell_type": "code",
   "execution_count": 27,
   "metadata": {},
   "outputs": [
    {
     "data": {
      "text/plain": [
       "'this is a sentence'"
      ]
     },
     "execution_count": 27,
     "metadata": {},
     "output_type": "execute_result"
    }
   ],
   "source": [
    "rdict = str.maketrans('','', '!,.')\n",
    "sent_lc.translate(rdict)"
   ]
  },
  {
   "cell_type": "code",
   "execution_count": 28,
   "metadata": {},
   "outputs": [
    {
     "data": {
      "text/plain": [
       "{33: None, 44: None, 46: None}"
      ]
     },
     "execution_count": 28,
     "metadata": {},
     "output_type": "execute_result"
    }
   ],
   "source": [
    "rdict"
   ]
  },
  {
   "cell_type": "code",
   "execution_count": 29,
   "metadata": {},
   "outputs": [
    {
     "data": {
      "text/plain": [
       "['this', 'is', 'a', 'sentence']"
      ]
     },
     "execution_count": 29,
     "metadata": {},
     "output_type": "execute_result"
    }
   ],
   "source": [
    "sent_lc.translate(rdict).split()"
   ]
  },
  {
   "cell_type": "markdown",
   "metadata": {},
   "source": [
    "* Now we have a normalized and punctuation stripped list of words\n",
    "\n",
    "\n",
    "* We can put all these steps together into a __BLOCK__ of code (see more discussion below)"
   ]
  },
  {
   "cell_type": "code",
   "execution_count": 30,
   "metadata": {
    "scrolled": true
   },
   "outputs": [
    {
     "data": {
      "text/plain": [
       "['this', 'is', 'a', 'sentence']"
      ]
     },
     "execution_count": 30,
     "metadata": {},
     "output_type": "execute_result"
    }
   ],
   "source": [
    "sent = \"This, is a sentence!...\"\n",
    "sent=sent.lower()\n",
    "rdict = str.maketrans('','', '!,.')\n",
    "sent=sent.translate(rdict)\n",
    "sent.split()"
   ]
  },
  {
   "cell_type": "code",
   "execution_count": 31,
   "metadata": {},
   "outputs": [
    {
     "name": "stdout",
     "output_type": "stream",
     "text": [
      "Help on built-in function maketrans:\n",
      "\n",
      "maketrans(x, y=None, z=None, /)\n",
      "    Return a translation table usable for str.translate().\n",
      "    \n",
      "    If there is only one argument, it must be a dictionary mapping Unicode\n",
      "    ordinals (integers) or characters to Unicode ordinals, strings or None.\n",
      "    Character keys will be then converted to ordinals.\n",
      "    If there are two arguments, they must be strings of equal length, and\n",
      "    in the resulting dictionary, each character in x will be mapped to the\n",
      "    character at the same position in y. If there is a third argument, it\n",
      "    must be a string, whose characters will be mapped to None in the result.\n",
      "\n"
     ]
    }
   ],
   "source": [
    "help(str.maketrans)"
   ]
  },
  {
   "cell_type": "markdown",
   "metadata": {},
   "source": []
  },
  {
   "cell_type": "markdown",
   "metadata": {},
   "source": [
    "### Indexing and slicing of a `string`"
   ]
  },
  {
   "cell_type": "markdown",
   "metadata": {},
   "source": [
    "* A string is a sequence (or list) of characters so we can refer to specific characters in the string using **INDEXING**\n",
    "* In Python indexes begin at **ZERO**/**0**\n",
    "* So `bear[1]` is the character `e` and *not* `b` which is `bear[0]`"
   ]
  },
  {
   "cell_type": "code",
   "execution_count": 32,
   "metadata": {},
   "outputs": [
    {
     "name": "stdout",
     "output_type": "stream",
     "text": [
      "e\n"
     ]
    }
   ],
   "source": [
    "print('bear'[1])"
   ]
  },
  {
   "cell_type": "code",
   "execution_count": 33,
   "metadata": {},
   "outputs": [
    {
     "name": "stdout",
     "output_type": "stream",
     "text": [
      "b\n"
     ]
    }
   ],
   "source": [
    "print('bear'[0])"
   ]
  },
  {
   "cell_type": "code",
   "execution_count": 34,
   "metadata": {},
   "outputs": [],
   "source": [
    "word = \"Bear!\""
   ]
  },
  {
   "cell_type": "code",
   "execution_count": 35,
   "metadata": {},
   "outputs": [
    {
     "data": {
      "text/plain": [
       "'e'"
      ]
     },
     "execution_count": 35,
     "metadata": {},
     "output_type": "execute_result"
    }
   ],
   "source": [
    "word[1]"
   ]
  },
  {
   "cell_type": "code",
   "execution_count": 36,
   "metadata": {},
   "outputs": [
    {
     "data": {
      "text/plain": [
       "'r'"
      ]
     },
     "execution_count": 36,
     "metadata": {},
     "output_type": "execute_result"
    }
   ],
   "source": [
    "word[3]"
   ]
  },
  {
   "cell_type": "code",
   "execution_count": 37,
   "metadata": {},
   "outputs": [
    {
     "data": {
      "text/plain": [
       "'!'"
      ]
     },
     "execution_count": 37,
     "metadata": {},
     "output_type": "execute_result"
    }
   ],
   "source": [
    "word[-1]"
   ]
  },
  {
   "cell_type": "markdown",
   "metadata": {},
   "source": [
    "![](string-indexing.png)"
   ]
  },
  {
   "cell_type": "markdown",
   "metadata": {},
   "source": [
    "* A **SLICE** is a contiguous sequence of characters in a string"
   ]
  },
  {
   "cell_type": "code",
   "execution_count": 38,
   "metadata": {},
   "outputs": [
    {
     "data": {
      "text/plain": [
       "'Bea'"
      ]
     },
     "execution_count": 38,
     "metadata": {},
     "output_type": "execute_result"
    }
   ],
   "source": [
    "word[0:3]"
   ]
  },
  {
   "cell_type": "markdown",
   "metadata": {},
   "source": [
    "* The start index is **inclusive** and the end index is **exclusive**\n",
    "* But better to understand the indexes as points **BEFORE** a character just like in the figure above"
   ]
  },
  {
   "cell_type": "markdown",
   "metadata": {},
   "source": [
    "## Lists\n",
    "\n",
    "* We have just started to explore lists by splitting a string into tokens, e.g.\n"
   ]
  },
  {
   "cell_type": "code",
   "execution_count": 39,
   "metadata": {
    "scrolled": true
   },
   "outputs": [
    {
     "data": {
      "text/plain": [
       "['This', 'is', 'a', 'sentence', 'with', 'NINE', 'words', 'in', 'it']"
      ]
     },
     "execution_count": 39,
     "metadata": {},
     "output_type": "execute_result"
    }
   ],
   "source": [
    "'This is a sentence with NINE words in it'.split()"
   ]
  },
  {
   "cell_type": "markdown",
   "metadata": {},
   "source": [
    "* A list is a sequence of items with each item separated by a `,` (comma) and surrounding by open and close square brackets\n",
    "* To work with a list we again will want to point to it with a named pointer"
   ]
  },
  {
   "cell_type": "code",
   "execution_count": 40,
   "metadata": {},
   "outputs": [
    {
     "name": "stdout",
     "output_type": "stream",
     "text": [
      "There are 9 tokens in the string: This is a sentence with NINE words in it\n",
      "They are ['This', 'is', 'a', 'sentence', 'with', 'NINE', 'words', 'in', 'it']\n"
     ]
    }
   ],
   "source": [
    "sent = 'This is a sentence with NINE words in it'\n",
    "tokens = sent.split()\n",
    "print('There are', len(tokens), 'tokens in the string:', sent)\n",
    "print('They are', tokens)"
   ]
  },
  {
   "cell_type": "markdown",
   "metadata": {},
   "source": [
    "* To create a list (which can contain anything) you use:\n",
    "    * `[ item1, item2, ..., itemN]`\n",
    "    \n",
    "* For example:"
   ]
  },
  {
   "cell_type": "code",
   "execution_count": 41,
   "metadata": {},
   "outputs": [
    {
     "data": {
      "text/plain": [
       "['This', 'is', 'a', 'sentence', 'with', 'NINE', 'words', 'in', 'it']"
      ]
     },
     "execution_count": 41,
     "metadata": {},
     "output_type": "execute_result"
    }
   ],
   "source": [
    "tokens"
   ]
  },
  {
   "cell_type": "code",
   "execution_count": 42,
   "metadata": {},
   "outputs": [
    {
     "data": {
      "text/plain": [
       "'in'"
      ]
     },
     "execution_count": 42,
     "metadata": {},
     "output_type": "execute_result"
    }
   ],
   "source": [
    "tokens[7]"
   ]
  },
  {
   "cell_type": "code",
   "execution_count": 43,
   "metadata": {},
   "outputs": [
    {
     "data": {
      "text/plain": [
       "9"
      ]
     },
     "execution_count": 43,
     "metadata": {},
     "output_type": "execute_result"
    }
   ],
   "source": [
    "len(tokens)"
   ]
  },
  {
   "cell_type": "code",
   "execution_count": 44,
   "metadata": {},
   "outputs": [
    {
     "data": {
      "text/plain": [
       "'it'"
      ]
     },
     "execution_count": 44,
     "metadata": {},
     "output_type": "execute_result"
    }
   ],
   "source": [
    "tokens[-1]"
   ]
  },
  {
   "cell_type": "code",
   "execution_count": 45,
   "metadata": {},
   "outputs": [
    {
     "data": {
      "text/plain": [
       "['a', 'sentence']"
      ]
     },
     "execution_count": 45,
     "metadata": {},
     "output_type": "execute_result"
    }
   ],
   "source": [
    "tokens[2:4]"
   ]
  },
  {
   "cell_type": "code",
   "execution_count": 46,
   "metadata": {},
   "outputs": [
    {
     "data": {
      "text/plain": [
       "['This', 'is', 'a']"
      ]
     },
     "execution_count": 46,
     "metadata": {},
     "output_type": "execute_result"
    }
   ],
   "source": [
    "tokens[:3]"
   ]
  },
  {
   "cell_type": "code",
   "execution_count": 47,
   "metadata": {},
   "outputs": [],
   "source": [
    "list_of_ints = [2,3,5,7,11]"
   ]
  },
  {
   "cell_type": "code",
   "execution_count": 48,
   "metadata": {},
   "outputs": [
    {
     "name": "stdout",
     "output_type": "stream",
     "text": [
      "[2, 3, 5, 7, 11]\n"
     ]
    }
   ],
   "source": [
    "print(list_of_ints)"
   ]
  },
  {
   "cell_type": "markdown",
   "metadata": {},
   "source": [
    "* This is \n",
    "![](list-indexing.png)\n",
    "\n",
    "* And you can **INDEX** and **SLICE** items in a list to retrieve them\n"
   ]
  },
  {
   "cell_type": "code",
   "execution_count": 49,
   "metadata": {
    "scrolled": true
   },
   "outputs": [
    {
     "data": {
      "text/plain": [
       "5"
      ]
     },
     "execution_count": 49,
     "metadata": {},
     "output_type": "execute_result"
    }
   ],
   "source": [
    "list_of_ints[2]"
   ]
  },
  {
   "cell_type": "code",
   "execution_count": 50,
   "metadata": {},
   "outputs": [
    {
     "data": {
      "text/plain": [
       "[7, 11]"
      ]
     },
     "execution_count": 50,
     "metadata": {},
     "output_type": "execute_result"
    }
   ],
   "source": [
    "list_of_ints[-2:]"
   ]
  },
  {
   "cell_type": "markdown",
   "metadata": {},
   "source": [
    "## Code blocks\n",
    "\n",
    "* So far a lot of the Python we have been working on has been single function calls or definitions each in a individual cell"
   ]
  },
  {
   "cell_type": "code",
   "execution_count": 51,
   "metadata": {},
   "outputs": [],
   "source": [
    "sent = 'This is a sentence!'"
   ]
  },
  {
   "cell_type": "code",
   "execution_count": 52,
   "metadata": {},
   "outputs": [
    {
     "name": "stdout",
     "output_type": "stream",
     "text": [
      "This is a sentence!\n"
     ]
    }
   ],
   "source": [
    "print(sent)"
   ]
  },
  {
   "cell_type": "code",
   "execution_count": 53,
   "metadata": {},
   "outputs": [],
   "source": [
    "sent = sent.replace('!','')"
   ]
  },
  {
   "cell_type": "code",
   "execution_count": 54,
   "metadata": {},
   "outputs": [
    {
     "name": "stdout",
     "output_type": "stream",
     "text": [
      "This is a sentence\n"
     ]
    }
   ],
   "source": [
    "print(sent)"
   ]
  },
  {
   "cell_type": "code",
   "execution_count": 55,
   "metadata": {},
   "outputs": [],
   "source": [
    "sent = sent.lower()"
   ]
  },
  {
   "cell_type": "code",
   "execution_count": 56,
   "metadata": {},
   "outputs": [
    {
     "name": "stdout",
     "output_type": "stream",
     "text": [
      "this is a sentence\n"
     ]
    }
   ],
   "source": [
    "print(sent)"
   ]
  },
  {
   "cell_type": "markdown",
   "metadata": {},
   "source": [
    "* and so on... but we can also put them although into a single cell and each step will be executed one after the other:"
   ]
  },
  {
   "cell_type": "code",
   "execution_count": 57,
   "metadata": {},
   "outputs": [
    {
     "name": "stdout",
     "output_type": "stream",
     "text": [
      "This is a sentence!\n",
      "This is a sentence\n",
      "this is a sentence\n"
     ]
    }
   ],
   "source": [
    "sent = 'This is a sentence!'\n",
    "print(sent)\n",
    "sent = sent.replace('!','')\n",
    "print(sent)\n",
    "sent = sent.lower()\n",
    "print(sent)"
   ]
  },
  {
   "cell_type": "code",
   "execution_count": 58,
   "metadata": {},
   "outputs": [
    {
     "data": {
      "text/plain": [
       "'this is a sentence'"
      ]
     },
     "execution_count": 58,
     "metadata": {},
     "output_type": "execute_result"
    }
   ],
   "source": [
    "sent = 'This is a sentence!'\n",
    "sent\n",
    "sent = sent.replace('!','')\n",
    "sent\n",
    "sent = sent.lower()\n",
    "sent"
   ]
  },
  {
   "cell_type": "markdown",
   "metadata": {},
   "source": [
    "* This is called a **BLOCK** of code\n",
    "* Python uses indentation/whitespace to understand steps that belong together\n",
    "* In function definitions for instance."
   ]
  },
  {
   "cell_type": "markdown",
   "metadata": {},
   "source": [
    "### What are functions?\n",
    "\n",
    "* __Functions__ in their simplest form are blocks of code that are grouped together and pointed to with a name \n"
   ]
  },
  {
   "cell_type": "code",
   "execution_count": 59,
   "metadata": {},
   "outputs": [],
   "source": [
    "def do_some_steps():\n",
    "    sent = 'This is a sentence!'\n",
    "    print(sent)\n",
    "    sent = sent.replace('!','')\n",
    "    print(sent)\n",
    "    sent = sent.lower()\n",
    "    print(sent)"
   ]
  },
  {
   "cell_type": "markdown",
   "metadata": {},
   "source": [
    "* What we've done here is create a function to carry out these steps everytime it is called with `do_some_steps()`\n",
    "* Everything within the function is indented one level"
   ]
  },
  {
   "cell_type": "code",
   "execution_count": 60,
   "metadata": {},
   "outputs": [
    {
     "name": "stdout",
     "output_type": "stream",
     "text": [
      "This is a sentence!\n",
      "This is a sentence\n",
      "this is a sentence\n"
     ]
    }
   ],
   "source": [
    "do_some_steps()"
   ]
  },
  {
   "cell_type": "markdown",
   "metadata": {},
   "source": [
    "* We can `call` the function `do_some_steps` twice"
   ]
  },
  {
   "cell_type": "code",
   "execution_count": 61,
   "metadata": {},
   "outputs": [
    {
     "name": "stdout",
     "output_type": "stream",
     "text": [
      "This is a sentence!\n",
      "This is a sentence\n",
      "this is a sentence\n",
      "This is a sentence!\n",
      "This is a sentence\n",
      "this is a sentence\n"
     ]
    }
   ],
   "source": [
    "do_some_steps()\n",
    "do_some_steps()"
   ]
  },
  {
   "cell_type": "markdown",
   "metadata": {},
   "source": [
    "* So to _define_ a function you use the syntax:\n",
    "\n",
    "```\n",
    "    def function_name():\n",
    "        ** CODE BLOCK **\n",
    "```\n",
    "\n",
    "* And can _call_ (or _execute_) the code using `function_name()`"
   ]
  },
  {
   "cell_type": "code",
   "execution_count": 62,
   "metadata": {},
   "outputs": [
    {
     "name": "stdout",
     "output_type": "stream",
     "text": [
      "where am i?\n"
     ]
    }
   ],
   "source": [
    "def another_function():\n",
    "    print('in my function')\n",
    "    print('still in it')\n",
    "    \n",
    "print('where am i?')"
   ]
  },
  {
   "cell_type": "code",
   "execution_count": 63,
   "metadata": {},
   "outputs": [
    {
     "name": "stdout",
     "output_type": "stream",
     "text": [
      "in my function\n",
      "still in it\n"
     ]
    }
   ],
   "source": [
    "another_function()"
   ]
  },
  {
   "cell_type": "markdown",
   "metadata": {},
   "source": [
    "#### Function arguments and return values\n",
    "\n",
    "* Functions become really useful and flexible when you can pass certain __INPUTS__ to them to use"
   ]
  },
  {
   "cell_type": "code",
   "execution_count": 64,
   "metadata": {},
   "outputs": [],
   "source": [
    "def say_hello1():\n",
    "    print('Hello whatever your name is!')"
   ]
  },
  {
   "cell_type": "code",
   "execution_count": 65,
   "metadata": {},
   "outputs": [
    {
     "name": "stdout",
     "output_type": "stream",
     "text": [
      "Hello whatever your name is!\n"
     ]
    }
   ],
   "source": [
    "say_hello1()"
   ]
  },
  {
   "cell_type": "markdown",
   "metadata": {},
   "source": [
    "* Here the function just executes the fixed `print()` function\n",
    "\n",
    "\n",
    "* But we can add a parameter or argument to the function definition like this:"
   ]
  },
  {
   "cell_type": "code",
   "execution_count": 66,
   "metadata": {},
   "outputs": [],
   "source": [
    "def say_hello2(name):\n",
    "    print('Hello',name)"
   ]
  },
  {
   "cell_type": "markdown",
   "metadata": {},
   "source": [
    "* Now when we call `hello2()` we must provide a value for name"
   ]
  },
  {
   "cell_type": "code",
   "execution_count": 69,
   "metadata": {
    "scrolled": true
   },
   "outputs": [
    {
     "ename": "TypeError",
     "evalue": "say_hello2() missing 1 required positional argument: 'name'",
     "output_type": "error",
     "traceback": [
      "\u001b[0;31m---------------------------------------------------------------------------\u001b[0m",
      "\u001b[0;31mTypeError\u001b[0m                                 Traceback (most recent call last)",
      "\u001b[0;32m<ipython-input-69-4ac15d1fb9a8>\u001b[0m in \u001b[0;36m<module>\u001b[0;34m()\u001b[0m\n\u001b[0;32m----> 1\u001b[0;31m \u001b[0msay_hello2\u001b[0m\u001b[0;34m(\u001b[0m\u001b[0;34m)\u001b[0m\u001b[0;34m\u001b[0m\u001b[0m\n\u001b[0m",
      "\u001b[0;31mTypeError\u001b[0m: say_hello2() missing 1 required positional argument: 'name'"
     ]
    }
   ],
   "source": [
    "say_hello2()"
   ]
  },
  {
   "cell_type": "code",
   "execution_count": 71,
   "metadata": {},
   "outputs": [
    {
     "name": "stdout",
     "output_type": "stream",
     "text": [
      "Hello Sigfried\n"
     ]
    }
   ],
   "source": [
    "say_hello2('Sigfried')"
   ]
  },
  {
   "cell_type": "code",
   "execution_count": 72,
   "metadata": {},
   "outputs": [
    {
     "name": "stdout",
     "output_type": "stream",
     "text": [
      "Hello Mildred\n"
     ]
    }
   ],
   "source": [
    "say_hello2('Mildred')"
   ]
  },
  {
   "cell_type": "markdown",
   "metadata": {},
   "source": [
    "* You can also use the attribute name in your function call (this is more relevant when you have multiple arguments)"
   ]
  },
  {
   "cell_type": "code",
   "execution_count": 73,
   "metadata": {
    "scrolled": true
   },
   "outputs": [
    {
     "name": "stdout",
     "output_type": "stream",
     "text": [
      "Hello Sigfried\n"
     ]
    }
   ],
   "source": [
    "say_hello2(name=\"Sigfried\")"
   ]
  },
  {
   "cell_type": "markdown",
   "metadata": {},
   "source": [
    "* Arguments can also have _default_ values which will be used if you don't pass a value when you call the function. This will remove the error of trying to call it without a value."
   ]
  },
  {
   "cell_type": "code",
   "execution_count": 74,
   "metadata": {},
   "outputs": [],
   "source": [
    "def say_hello3(name=\"You\"):          # here the default value for name will be 'You'\n",
    "    print('Hello {}!'.format(name))"
   ]
  },
  {
   "cell_type": "code",
   "execution_count": 75,
   "metadata": {},
   "outputs": [
    {
     "name": "stdout",
     "output_type": "stream",
     "text": [
      "Hello Sigfried!\n"
     ]
    }
   ],
   "source": [
    "say_hello3('Sigfried')"
   ]
  },
  {
   "cell_type": "code",
   "execution_count": 76,
   "metadata": {},
   "outputs": [
    {
     "name": "stdout",
     "output_type": "stream",
     "text": [
      "Hello You!\n"
     ]
    }
   ],
   "source": [
    "say_hello3()"
   ]
  },
  {
   "cell_type": "markdown",
   "metadata": {},
   "source": [
    "## Conditions in Python\n",
    "\n",
    "* Frequently we want to only do something if some condition is met (or is `True`)\n",
    "* For instance test whether a string is all in lowercase with the `.islower()` function\n"
   ]
  },
  {
   "cell_type": "code",
   "execution_count": 77,
   "metadata": {},
   "outputs": [
    {
     "data": {
      "text/plain": [
       "False"
      ]
     },
     "execution_count": 77,
     "metadata": {},
     "output_type": "execute_result"
    }
   ],
   "source": [
    "sent2 = 'this is all LOWERCASE'\n",
    "sent2.islower()"
   ]
  },
  {
   "cell_type": "code",
   "execution_count": 78,
   "metadata": {},
   "outputs": [],
   "source": [
    "sent2 = 'this is all lowercase'"
   ]
  },
  {
   "cell_type": "code",
   "execution_count": 79,
   "metadata": {},
   "outputs": [
    {
     "data": {
      "text/plain": [
       "True"
      ]
     },
     "execution_count": 79,
     "metadata": {},
     "output_type": "execute_result"
    }
   ],
   "source": [
    "sent2.islower()"
   ]
  },
  {
   "cell_type": "code",
   "execution_count": 80,
   "metadata": {},
   "outputs": [
    {
     "name": "stdout",
     "output_type": "stream",
     "text": [
      "The string is all lowercase!\n"
     ]
    }
   ],
   "source": [
    "if sent2.islower():\n",
    "    print('The string is all lowercase!')"
   ]
  },
  {
   "cell_type": "markdown",
   "metadata": {},
   "source": [
    "* Note the use of an indented block (here just one line but it could be multiple lines)"
   ]
  },
  {
   "cell_type": "code",
   "execution_count": 81,
   "metadata": {},
   "outputs": [
    {
     "name": "stdout",
     "output_type": "stream",
     "text": [
      "The string is all lowercase!\n",
      "But I've made sent3 all lowercase\n",
      ">>> this is all lowercase\n",
      "\n",
      "See?\n"
     ]
    }
   ],
   "source": [
    "if sent2.islower():\n",
    "    print('The string is all lowercase!')\n",
    "    sent3 = sent2.lower()\n",
    "    print(\"But I've made sent3 all lowercase\")\n",
    "    print(\">>>\",sent3)\n",
    "    print()\n",
    "    print('See?')"
   ]
  },
  {
   "cell_type": "code",
   "execution_count": 82,
   "metadata": {},
   "outputs": [
    {
     "name": "stdout",
     "output_type": "stream",
     "text": [
      "The string is all lowercase!\n"
     ]
    }
   ],
   "source": [
    "sent2 = sent2.lower()\n",
    "\n",
    "if sent2.islower():\n",
    "    print('The string is all lowercase!')"
   ]
  },
  {
   "cell_type": "markdown",
   "metadata": {},
   "source": [
    "* This condition (i.e., one being greater than two) should never be `True` "
   ]
  },
  {
   "cell_type": "code",
   "execution_count": 83,
   "metadata": {},
   "outputs": [
    {
     "data": {
      "text/plain": [
       "False"
      ]
     },
     "execution_count": 83,
     "metadata": {},
     "output_type": "execute_result"
    }
   ],
   "source": [
    "1==2"
   ]
  },
  {
   "cell_type": "code",
   "execution_count": 84,
   "metadata": {},
   "outputs": [],
   "source": [
    "if 1>2:\n",
    "    print('Something is wrong with Python math!')"
   ]
  },
  {
   "cell_type": "code",
   "execution_count": 85,
   "metadata": {},
   "outputs": [],
   "source": [
    "if 1==2:\n",
    "    print('Something is wrong with Python math!')"
   ]
  },
  {
   "cell_type": "code",
   "execution_count": 86,
   "metadata": {},
   "outputs": [
    {
     "name": "stdout",
     "output_type": "stream",
     "text": [
      "Phew looks like we are good with Python math!\n"
     ]
    }
   ],
   "source": [
    "if 1<2:\n",
    "    print('Phew looks like we are good with Python math!')"
   ]
  },
  {
   "cell_type": "code",
   "execution_count": 87,
   "metadata": {},
   "outputs": [
    {
     "name": "stdout",
     "output_type": "stream",
     "text": [
      "Phew looks like we are good with Python math!\n"
     ]
    }
   ],
   "source": [
    "if 1<=2:\n",
    "    print('Phew looks like we are good with Python math!')"
   ]
  },
  {
   "cell_type": "markdown",
   "metadata": {},
   "source": [
    "* We can invert a conditional test with `not`"
   ]
  },
  {
   "cell_type": "code",
   "execution_count": 88,
   "metadata": {},
   "outputs": [
    {
     "name": "stdout",
     "output_type": "stream",
     "text": [
      "Phew looks like we are good with Python math!\n"
     ]
    }
   ],
   "source": [
    "if not 1>2:\n",
    "    print('Phew looks like we are good with Python math!')"
   ]
  },
  {
   "cell_type": "markdown",
   "metadata": {},
   "source": [
    "* And also have an `else` block which is executed if the test fails"
   ]
  },
  {
   "cell_type": "code",
   "execution_count": 89,
   "metadata": {},
   "outputs": [
    {
     "name": "stdout",
     "output_type": "stream",
     "text": [
      "Phew looks like we are good with Python math!\n"
     ]
    }
   ],
   "source": [
    "if 1>2:\n",
    "    print('Something is wrong with Python math!')\n",
    "else:\n",
    "    print('Phew looks like we are good with Python math!')"
   ]
  },
  {
   "cell_type": "markdown",
   "metadata": {},
   "source": [
    "### TASK\n",
    "\n",
    "* Try defining some string objects and using the various string functions that give a `True` or `False` value in some conditional statements\n",
    "\n",
    "* E.g.\n",
    "    * `.islower()`\n",
    "    * `.isupper()`\n",
    "    * `.startswith()`\n",
    "    * `.endswith()`\n",
    "    * `.isdecimal()`\n",
    "    * `.isdigit()`\n",
    "    * `.isnumeric()`\n",
    "    * `.istitle()`\n",
    "    * `.startswith()`\n",
    "    * `.endswith()`\n",
    "\n",
    "\n",
    "\n",
    "* Try inverting the test with `not`\n",
    "* Define some `else` blocks for some of them"
   ]
  },
  {
   "cell_type": "code",
   "execution_count": 90,
   "metadata": {},
   "outputs": [],
   "source": [
    "if not \"abc\".islower():\n",
    "    print('String is all lowercase')"
   ]
  },
  {
   "cell_type": "markdown",
   "metadata": {},
   "source": [
    "## Loops\n",
    "\n",
    "* loops are a another code structure you will see a lot\n",
    "* they are a way of repeating steps in code\n",
    "* or walking through each item in a list"
   ]
  },
  {
   "cell_type": "code",
   "execution_count": 91,
   "metadata": {},
   "outputs": [],
   "source": [
    "my_list = ['a', 'b','c']"
   ]
  },
  {
   "cell_type": "code",
   "execution_count": 92,
   "metadata": {},
   "outputs": [
    {
     "name": "stdout",
     "output_type": "stream",
     "text": [
      "item is: a\n",
      "item is: b\n",
      "item is: c\n"
     ]
    }
   ],
   "source": [
    "for item in my_list:\n",
    "    print('item is:', item)"
   ]
  },
  {
   "cell_type": "markdown",
   "metadata": {},
   "source": [
    "* Common idiom is to use the `range()` function to create a list of numbers"
   ]
  },
  {
   "cell_type": "code",
   "execution_count": 93,
   "metadata": {},
   "outputs": [
    {
     "data": {
      "text/plain": [
       "[0, 1, 2, 3, 4, 5, 6, 7, 8, 9]"
      ]
     },
     "execution_count": 93,
     "metadata": {},
     "output_type": "execute_result"
    }
   ],
   "source": [
    "list(range(10))"
   ]
  },
  {
   "cell_type": "markdown",
   "metadata": {},
   "source": [
    "* And then use that list as a way to repeat some block of code a certain number of times"
   ]
  },
  {
   "cell_type": "code",
   "execution_count": 94,
   "metadata": {},
   "outputs": [
    {
     "name": "stdout",
     "output_type": "stream",
     "text": [
      "Hello!\n",
      "Hello!\n",
      "Hello!\n",
      "Hello!\n",
      "Hello!\n",
      "Hello!\n",
      "Hello!\n",
      "Hello!\n",
      "Hello!\n",
      "Hello!\n"
     ]
    }
   ],
   "source": [
    "for i in range(10):\n",
    "    print('Hello!')"
   ]
  },
  {
   "cell_type": "code",
   "execution_count": 95,
   "metadata": {},
   "outputs": [
    {
     "name": "stdout",
     "output_type": "stream",
     "text": [
      "Say \"hello\" 0 time(s)\n",
      "Say \"hello\" 1 time(s)\n",
      "Say \"hello\" 2 time(s)\n",
      "Say \"hello\" 3 time(s)\n",
      "Say \"hello\" 4 time(s)\n"
     ]
    }
   ],
   "source": [
    "for i in range(5):\n",
    "    print('Say \"hello\"', i, 'time(s)')"
   ]
  },
  {
   "cell_type": "code",
   "execution_count": 96,
   "metadata": {},
   "outputs": [
    {
     "name": "stdout",
     "output_type": "stream",
     "text": [
      "Current value  of item = 1\n",
      "Current value  of item = 21\n",
      "Current value  of item = 3023\n",
      "Current value  of item = 4\n",
      "Current value  of item = 5\n"
     ]
    }
   ],
   "source": [
    "for item in [1,21,3023,4,5]:\n",
    "    print('Current value  of item =',item)"
   ]
  },
  {
   "cell_type": "code",
   "execution_count": 97,
   "metadata": {},
   "outputs": [],
   "source": [
    "def tokenize(text):\n",
    "    rep_chars=str.maketrans('','','!.,-')\n",
    "    normalized_string = text.lower().translate(rep_chars)\n",
    "    tokens = normalized_string.split()\n",
    "    return tokens"
   ]
  },
  {
   "cell_type": "code",
   "execution_count": 98,
   "metadata": {},
   "outputs": [
    {
     "data": {
      "text/plain": [
       "['this', 'is', 'a', 'sentence', 'this', 'is', 'another', 'one']"
      ]
     },
     "execution_count": 98,
     "metadata": {},
     "output_type": "execute_result"
    }
   ],
   "source": [
    "tokenize('This is a sentence. This!!! is, another one...')"
   ]
  },
  {
   "cell_type": "code",
   "execution_count": 99,
   "metadata": {},
   "outputs": [
    {
     "name": "stdout",
     "output_type": "stream",
     "text": [
      "this\n",
      "is\n",
      "a\n",
      "sentence\n",
      "this\n",
      "is\n",
      "another\n",
      "one\n"
     ]
    }
   ],
   "source": [
    "for token in tokenize('This is a sentence. This!!! is, another one...'):\n",
    "    print(token)"
   ]
  },
  {
   "cell_type": "code",
   "execution_count": 100,
   "metadata": {},
   "outputs": [
    {
     "name": "stdout",
     "output_type": "stream",
     "text": [
      "is\n",
      "is\n"
     ]
    }
   ],
   "source": [
    "tokens = tokenize('This is a sentence. This!!! is, another one...')\n",
    "\n",
    "for token in tokens:\n",
    "    \n",
    "    if token == 'is':\n",
    "        print(token)"
   ]
  },
  {
   "cell_type": "markdown",
   "metadata": {},
   "source": [
    "## Working with the _Personals Ad_ corpus\n",
    "\n",
    "* The file `personals_ads.txt` has the NLTK _Personals Ads_ corpus (`text8` in the lecture notebook)\n",
    "\n",
    "* Each ad is on a separate line\n",
    "\n",
    "* Ads are separated by an empty line (`\\n\\n')"
   ]
  },
  {
   "cell_type": "code",
   "execution_count": 101,
   "metadata": {},
   "outputs": [],
   "source": [
    "ads = open('personals_ads.txt').read()"
   ]
  },
  {
   "cell_type": "code",
   "execution_count": 102,
   "metadata": {},
   "outputs": [
    {
     "name": "stdout",
     "output_type": "stream",
     "text": [
      "25 SEXY MALE , seeks attrac older single lady , for discreet encounters . \n",
      "\n",
      "35YO Security Guard , seeking lady in uniform for fun times . \n",
      "\n",
      "40 yo SINGLE DAD , sincere friendly DTE seeks r / ship with fem age open S / E \n",
      "\n",
      "44yo tall seeks working single mum or lady below 45 fship rship . Nat Open 6 . \n"
     ]
    }
   ],
   "source": [
    "print(ads[:300])"
   ]
  },
  {
   "cell_type": "markdown",
   "metadata": {},
   "source": [
    "### Tasks\n",
    "\n",
    "* Create a list of ads by splitting the text using the delimiter `\\n\\n`\n"
   ]
  },
  {
   "cell_type": "code",
   "execution_count": 103,
   "metadata": {},
   "outputs": [],
   "source": [
    "from collections import Counter"
   ]
  },
  {
   "cell_type": "code",
   "execution_count": 104,
   "metadata": {},
   "outputs": [],
   "source": [
    "words_dist=Counter(ads.split())"
   ]
  },
  {
   "cell_type": "code",
   "execution_count": 105,
   "metadata": {},
   "outputs": [
    {
     "data": {
      "text/plain": [
       "[(',', 533),\n",
       " ('.', 347),\n",
       " ('/', 104),\n",
       " ('for', 99),\n",
       " ('and', 73),\n",
       " ('to', 69),\n",
       " ('lady', 68),\n",
       " ('-', 66),\n",
       " ('seeks', 60),\n",
       " ('a', 52),\n",
       " ('with', 43),\n",
       " ('ship', 33),\n",
       " ('&', 30),\n",
       " ('S', 29),\n",
       " ('relationship', 29),\n",
       " ('fun', 28),\n",
       " ('slim', 27),\n",
       " ('build', 27),\n",
       " ('o', 26),\n",
       " ('in', 25),\n",
       " ('s', 24),\n",
       " ('y', 23),\n",
       " ('50', 23),\n",
       " ('I', 22),\n",
       " ('movies', 22),\n",
       " ('good', 21),\n",
       " ('non', 21),\n",
       " ('smoker', 21),\n",
       " ('honest', 19),\n",
       " ('dining', 19),\n",
       " ('out', 19),\n",
       " ('rship', 18),\n",
       " ('looking', 18),\n",
       " ('age', 17),\n",
       " ('attractive', 17),\n",
       " ('who', 17),\n",
       " ('like', 17),\n",
       " ('friendship', 17),\n",
       " ('40', 16),\n",
       " ('45', 16),\n",
       " ('35', 16),\n",
       " ('5', 16),\n",
       " ('MALE', 15),\n",
       " ('times', 15),\n",
       " ('male', 15),\n",
       " ('Looking', 15),\n",
       " ('seeking', 14),\n",
       " ('r', 14),\n",
       " ('open', 14),\n",
       " ('the', 14),\n",
       " ('female', 14),\n",
       " ('life', 14),\n",
       " (\"''\", 14),\n",
       " ('fit', 14),\n",
       " ('or', 13),\n",
       " ('LADY', 13),\n",
       " ('guy', 13),\n",
       " ('no', 13),\n",
       " ('GSOH', 13),\n",
       " ('music', 13),\n",
       " ('enjoy', 13),\n",
       " ('meet', 13),\n",
       " ('ft', 13),\n",
       " ('30', 13),\n",
       " ('f', 13),\n",
       " ('tall', 12),\n",
       " ('of', 12),\n",
       " ('be', 12),\n",
       " ('employed', 12),\n",
       " ('social', 12),\n",
       " ('Male', 12),\n",
       " ('fship', 11),\n",
       " ('interests', 11),\n",
       " ('is', 11),\n",
       " ('genuine', 11),\n",
       " ('medium', 11),\n",
       " ('beach', 11),\n",
       " ('Seeks', 11),\n",
       " ('likes', 11),\n",
       " ('caring', 11),\n",
       " ('drinker', 11),\n",
       " ('n', 11),\n",
       " ('poss', 11),\n",
       " ('single', 10),\n",
       " ('yo', 10),\n",
       " ('A', 10),\n",
       " ('travel', 10),\n",
       " ('similar', 10),\n",
       " ('married', 10),\n",
       " ('have', 10),\n",
       " ('quiet', 10),\n",
       " ('N', 10),\n",
       " ('WLTM', 10),\n",
       " ('well', 9),\n",
       " ('home', 9),\n",
       " ('long', 9),\n",
       " ('would', 9),\n",
       " ('walks', 9),\n",
       " ('nights', 9),\n",
       " ('at', 9),\n",
       " ('Seeking', 9),\n",
       " ('.,', 9),\n",
       " ('country', 9),\n",
       " ('enjoys', 9),\n",
       " ('D', 9),\n",
       " ('MARRIED', 9),\n",
       " ('6', 8),\n",
       " ('2', 8),\n",
       " ('40s', 8),\n",
       " ('children', 8),\n",
       " ('ATTRACTIVE', 8),\n",
       " ('secure', 8),\n",
       " ('30s', 8),\n",
       " ('fishing', 8),\n",
       " ('60', 8),\n",
       " ('woman', 8),\n",
       " ('share', 8),\n",
       " ('discreet', 7),\n",
       " ('DTE', 7),\n",
       " ('man', 7),\n",
       " ('by', 7),\n",
       " ('43', 7),\n",
       " ('an', 7),\n",
       " ('living', 7),\n",
       " ('am', 7),\n",
       " ('up', 7),\n",
       " ('med', 7),\n",
       " ('drives', 7),\n",
       " ('Lady', 7),\n",
       " ('+', 7),\n",
       " ('25', 6),\n",
       " ('SINGLE', 6),\n",
       " ('area', 6),\n",
       " ('term', 6),\n",
       " ('you', 6),\n",
       " ('sexy', 6),\n",
       " ('?', 6),\n",
       " ('36', 6),\n",
       " ('GUY', 6),\n",
       " ('Late', 6),\n",
       " ('view', 6),\n",
       " ('me', 6),\n",
       " ('55', 6),\n",
       " ('going', 6),\n",
       " ('sought', 6),\n",
       " ('gent', 6),\n",
       " ('healthy', 6),\n",
       " ('love', 6),\n",
       " ('MAN', 6),\n",
       " ('outdoors', 6),\n",
       " ('loving', 6),\n",
       " ('prof', 6),\n",
       " (':', 6),\n",
       " ('casual', 6),\n",
       " ('42', 6),\n",
       " ('47', 6),\n",
       " ('sincere', 5),\n",
       " ('things', 5),\n",
       " ('young', 5),\n",
       " ('Im', 5),\n",
       " ('gentleman', 5),\n",
       " ('permanent', 5),\n",
       " ('57', 5),\n",
       " ('Must', 5),\n",
       " ('special', 5),\n",
       " ('ties', 5),\n",
       " ('FIT', 5),\n",
       " ('kids', 5),\n",
       " ('38', 5),\n",
       " ('possible', 5),\n",
       " ('Likes', 5),\n",
       " ('not', 5),\n",
       " ('!', 5),\n",
       " ('Interests', 5),\n",
       " ('self', 5),\n",
       " ('suburbs', 5),\n",
       " ('years', 5),\n",
       " ('NS', 5),\n",
       " ('48', 5),\n",
       " ('Asian', 5),\n",
       " ('outings', 5),\n",
       " ('gardening', 5),\n",
       " ('ASIAN', 5),\n",
       " ('TO', 5),\n",
       " ('older', 4),\n",
       " ('friendly', 4),\n",
       " ('fem', 4),\n",
       " ('working', 4),\n",
       " ('old', 4),\n",
       " ('sports', 4),\n",
       " ('away', 4),\n",
       " ('professional', 4),\n",
       " ('same', 4),\n",
       " ('generous', 4),\n",
       " ('European', 4),\n",
       " ('c', 4),\n",
       " ('39', 4),\n",
       " ('financially', 4),\n",
       " ('on', 4),\n",
       " ('58', 4),\n",
       " ('Age', 4),\n",
       " ('SLIM', 4),\n",
       " ('CARING', 4),\n",
       " ('my', 4),\n",
       " ('person', 4),\n",
       " ('BUSINESSMAN', 4),\n",
       " ('outdoor', 4),\n",
       " ('(', 4),\n",
       " ('romantic', 4),\n",
       " ('GREEK', 4),\n",
       " ('under', 4),\n",
       " ('mid', 4),\n",
       " ('ME', 4),\n",
       " ('Attractive', 4),\n",
       " ('46', 4),\n",
       " ('theatre', 4),\n",
       " ('GENT', 4),\n",
       " ('easy', 4),\n",
       " ('welcome', 4),\n",
       " ('any', 4),\n",
       " ('Suburbs', 4),\n",
       " ('Would', 4),\n",
       " ('F', 4),\n",
       " ('37', 4),\n",
       " ('DtoE', 4),\n",
       " ('but', 4),\n",
       " ('loves', 4),\n",
       " ('yrs', 4),\n",
       " ('Aussie', 4),\n",
       " ('R', 4),\n",
       " ('meetings', 4),\n",
       " ('East', 4),\n",
       " ('subs', 4),\n",
       " ('32', 4),\n",
       " ('dancing', 4),\n",
       " ('attrac', 3),\n",
       " ('encounters', 3),\n",
       " ('E', 3),\n",
       " ('mum', 3),\n",
       " ('late', 3),\n",
       " ('great', 3),\n",
       " ('personality', 3),\n",
       " ('YOU', 3),\n",
       " ('new', 3),\n",
       " ('never', 3),\n",
       " ('animals', 3),\n",
       " ('Y', 3),\n",
       " ('O', 3),\n",
       " ('dinner', 3),\n",
       " ('there', 3),\n",
       " ('11', 3),\n",
       " ('nice', 3),\n",
       " ('8', 3),\n",
       " ('BBQs', 3),\n",
       " ('aged', 3),\n",
       " ('size', 3),\n",
       " ('hair', 3),\n",
       " ('If', 3),\n",
       " ('early', 3),\n",
       " ('outlook', 3),\n",
       " ('cars', 3),\n",
       " ('etc', 3),\n",
       " ('friend', 3),\n",
       " ('sense', 3),\n",
       " ('humour', 3),\n",
       " ('camping', 3),\n",
       " ('Mid', 3),\n",
       " ('classy', 3),\n",
       " ('59', 3),\n",
       " ('Single', 3),\n",
       " ('ROMANTIC', 3),\n",
       " ('TALL', 3),\n",
       " ('down', 3),\n",
       " ('earth', 3),\n",
       " ('many', 3),\n",
       " ('petite', 3),\n",
       " ('outgoing', 3),\n",
       " ('easygoing', 3),\n",
       " ('time', 3),\n",
       " ('SOH', 3),\n",
       " ('Fship', 3),\n",
       " ('weekends', 3),\n",
       " ('are', 3),\n",
       " ('being', 3),\n",
       " ('company', 3),\n",
       " ('SWM', 3),\n",
       " ('happy', 3),\n",
       " ('please', 3),\n",
       " ('other', 3),\n",
       " ('intelligent', 3),\n",
       " ('reliable', 3),\n",
       " ('OK', 3),\n",
       " ('family', 3),\n",
       " ('50yo', 3),\n",
       " ('ing', 3),\n",
       " ('d', 3),\n",
       " ('attr', 3),\n",
       " ('intimate', 3),\n",
       " ('wine', 3),\n",
       " ('6ft', 3),\n",
       " ('49', 3),\n",
       " ('presented', 3),\n",
       " ('52', 3),\n",
       " ('into', 3),\n",
       " ('articulate', 3),\n",
       " ('conversation', 3),\n",
       " ('53', 3),\n",
       " ('65', 3),\n",
       " ('Friendship', 3),\n",
       " ('SEXY', 2),\n",
       " ('DAD', 2),\n",
       " ('44yo', 2),\n",
       " ('OUTGOING', 2),\n",
       " ('28', 2),\n",
       " ('w', 2),\n",
       " ('business', 2),\n",
       " ('owner', 2),\n",
       " ('include', 2),\n",
       " ('all', 2),\n",
       " ('forward', 2),\n",
       " ('from', 2),\n",
       " ('women', 2),\n",
       " ('ready', 2),\n",
       " ('AFFECTIONATE', 2),\n",
       " ('ARE', 2),\n",
       " ('we', 2),\n",
       " ('Slim', 2),\n",
       " ('Med', 2),\n",
       " ('someone', 2),\n",
       " ('You', 2),\n",
       " ('background', 2),\n",
       " ('Enjoys', 2),\n",
       " ('cafes', 2),\n",
       " ('future', 2),\n",
       " ('Prefer', 2),\n",
       " ('Adelaide', 2),\n",
       " ('companionship', 2),\n",
       " ('AFL', 2),\n",
       " ('View', 2),\n",
       " ('fitness', 2),\n",
       " ('parties', 2),\n",
       " ('AUSTRALIAN', 2),\n",
       " ('With', 2),\n",
       " ('Enjoy', 2),\n",
       " ('sport', 2),\n",
       " ('Fun', 2),\n",
       " ('between', 2),\n",
       " ('Possible', 2),\n",
       " ('20s', 2),\n",
       " ('this', 2),\n",
       " ('HAIR', 2),\n",
       " ('Am', 2),\n",
       " ('TV', 2),\n",
       " ('ish', 2),\n",
       " ('56', 2),\n",
       " ('taller', 2),\n",
       " ('wining', 2),\n",
       " ('h', 2),\n",
       " ('plus', 2),\n",
       " ('Australian', 2),\n",
       " ('60s', 2),\n",
       " ('ACTIVE', 2),\n",
       " ('EASYGOING', 2),\n",
       " ('light', 2),\n",
       " ('lets', 2),\n",
       " ('GENUINE', 2),\n",
       " ('AND', 2),\n",
       " ('HONEST', 2),\n",
       " ('Hi', 2),\n",
       " ('44', 2),\n",
       " ('Love', 2),\n",
       " ('9', 2),\n",
       " ('gym', 2),\n",
       " ('GOOD', 2),\n",
       " ('blue', 2),\n",
       " ('looks', 2),\n",
       " ('AUST', 2),\n",
       " ('Early', 2),\n",
       " ('20', 2),\n",
       " ('independant', 2),\n",
       " ('50s', 2),\n",
       " ('retain', 2),\n",
       " ('her', 2),\n",
       " ('PICK', 2),\n",
       " ('active', 2),\n",
       " ('incl', 2),\n",
       " ('year', 2),\n",
       " ('quality', 2),\n",
       " ('EARLY', 2),\n",
       " ('Self', 2),\n",
       " ('Sports', 2),\n",
       " ('short', 2),\n",
       " ('ok', 2),\n",
       " ('OLD', 2),\n",
       " ('Indian', 2),\n",
       " ('Dark', 2),\n",
       " ('Poss', 2),\n",
       " ('full', 2),\n",
       " ('replies', 2),\n",
       " ('lonely', 2),\n",
       " ('perm', 2),\n",
       " ('if', 2),\n",
       " ('work', 2),\n",
       " ('Prof', 2),\n",
       " ('listener', 2),\n",
       " ('responsible', 2),\n",
       " ('reading', 2),\n",
       " ('exciting', 2),\n",
       " ('sim', 2),\n",
       " ('int', 2),\n",
       " ('photo', 2),\n",
       " ('cooking', 2),\n",
       " ('house', 2),\n",
       " ('Woman', 2),\n",
       " ('1', 2),\n",
       " ('weekend', 2),\n",
       " ('so', 2),\n",
       " ('walking', 2),\n",
       " ('bch', 2),\n",
       " ('brunette', 2),\n",
       " ('My', 2),\n",
       " ('Pen', 2),\n",
       " ('Are', 2),\n",
       " ('inner', 2),\n",
       " ('Greek', 2),\n",
       " ('Good', 2),\n",
       " ('BE', 2),\n",
       " ('missing', 2),\n",
       " ('Married', 2),\n",
       " ('affair', 2),\n",
       " ('kg', 2),\n",
       " ('pref', 2),\n",
       " ('affectionate', 2),\n",
       " ('loyal', 2),\n",
       " ('natural', 2),\n",
       " ('LOVER', 2),\n",
       " ('Aust', 2),\n",
       " ('Guy', 2),\n",
       " ('Subs', 2),\n",
       " ('Genuine', 2),\n",
       " ('dinners', 2),\n",
       " ('LOVE', 2),\n",
       " ('partner', 2),\n",
       " ('relation', 2),\n",
       " ('adventure', 2),\n",
       " ('COUNTRY', 2),\n",
       " ('soh', 2),\n",
       " ('Vibrant', 2),\n",
       " ('adventurous', 2),\n",
       " ('very', 2),\n",
       " ('ABOUT', 2),\n",
       " ('Easygoing', 2),\n",
       " ('511', 2),\n",
       " ('Southern', 2),\n",
       " ('vegetarian', 2),\n",
       " ('\",', 2),\n",
       " ('dark', 2),\n",
       " ('10', 2),\n",
       " ('travelling', 2),\n",
       " ('racing', 2),\n",
       " ('41', 2),\n",
       " ('No', 2),\n",
       " ('normal', 2),\n",
       " ('DANCING', 2),\n",
       " ('SEEKING', 2),\n",
       " ('must', 2),\n",
       " ('),', 2),\n",
       " ('reply', 2),\n",
       " ('dance', 2),\n",
       " ('maybe', 2),\n",
       " ('enough', 2),\n",
       " ('Photo', 2),\n",
       " ('35YO', 1),\n",
       " ('Security', 1),\n",
       " ('Guard', 1),\n",
       " ('uniform', 1),\n",
       " ('below', 1),\n",
       " ('Nat', 1),\n",
       " ('Open', 1),\n",
       " ('yr', 1),\n",
       " ('M', 1),\n",
       " ('door', 1),\n",
       " ('e', 1),\n",
       " ('feet', 1),\n",
       " ('groomed', 1),\n",
       " ('arts', 1),\n",
       " ('Ringwood', 1),\n",
       " ('surrounds', 1),\n",
       " ('meaningful', 1),\n",
       " ('hearing', 1),\n",
       " ('ABLE', 1),\n",
       " ('Phone', 1),\n",
       " ('play', 1),\n",
       " ('Sought', 1),\n",
       " ('mutual', 1),\n",
       " ('fulfillment', 1),\n",
       " ('ALONE', 1),\n",
       " ('lost', 1),\n",
       " ('too', 1),\n",
       " ('hope', 1),\n",
       " ('sight', 1),\n",
       " ('Maybe', 1),\n",
       " ('could', 1),\n",
       " ('explore', 1),\n",
       " ('beginnings', 1),\n",
       " ('together', 1),\n",
       " ('high', 1),\n",
       " ('needs', 1),\n",
       " ('WONT', 1),\n",
       " ('disappointed', 1),\n",
       " ('AMIABLE', 1),\n",
       " ('170', 1),\n",
       " ('cm', 1),\n",
       " ('without', 1),\n",
       " ('get', 1),\n",
       " ('chil', 1),\n",
       " ('dren', 1),\n",
       " ('29', 1),\n",
       " ('COPPER', 1),\n",
       " ('REDHEAD', 1),\n",
       " ('61', 1),\n",
       " ('Taurus', 1),\n",
       " ('Into', 1),\n",
       " ('AUSSIE', 1),\n",
       " ('Solid', 1),\n",
       " ('FATHER', 1),\n",
       " ('son', 1),\n",
       " ('re', 1),\n",
       " ('lationship', 1),\n",
       " ('coastal', 1),\n",
       " ('town', 1),\n",
       " ('Eyre', 1),\n",
       " ('Peninsula', 1),\n",
       " ('FUN', 1),\n",
       " ('meal', 1),\n",
       " ('com', 1),\n",
       " ('panion', 1),\n",
       " ('BEAUTIFUL', 1),\n",
       " ('INTELLIGENT', 1),\n",
       " ('MUSICAL', 1),\n",
       " ('Shy', 1),\n",
       " ('12', 1),\n",
       " ('blonde', 1),\n",
       " ('drink', 1),\n",
       " ('Guiness', 1),\n",
       " ('then', 1),\n",
       " ('want', 1),\n",
       " ('BLONDE', 1),\n",
       " ('BLUE', 1),\n",
       " ('EYES', 1),\n",
       " ('Medium', 1),\n",
       " ('golf', 1),\n",
       " ('bike', 1),\n",
       " ('riding', 1),\n",
       " ('DVDs', 1),\n",
       " ('kissing', 1),\n",
       " ('cuddling', 1),\n",
       " ('prepared', 1),\n",
       " ('boats', 1),\n",
       " ('.),', 1),\n",
       " ('modern', 1),\n",
       " ('CUDDLY', 1),\n",
       " ('FULL', 1),\n",
       " ('FIGURED', 1),\n",
       " ('fully', 1),\n",
       " ('+.', 1),\n",
       " ('towards', 1),\n",
       " ('Give', 1),\n",
       " ('call', 1),\n",
       " ('chat', 1),\n",
       " ('simple', 1),\n",
       " ('LISTENER', 1),\n",
       " ('Well', 1),\n",
       " ('educated', 1),\n",
       " ('eyes', 1),\n",
       " ('brown', 1),\n",
       " ('important', 1),\n",
       " ('nor', 1),\n",
       " ('distance', 1),\n",
       " ('speed', 1),\n",
       " ('complete', 1),\n",
       " ('circles', 1),\n",
       " ('bbqs', 1),\n",
       " ('football', 1),\n",
       " ('HANDSOME', 1),\n",
       " ('Tall', 1),\n",
       " ('standing', 1),\n",
       " ('wants', 1),\n",
       " ('privacy', 1),\n",
       " ('still', 1),\n",
       " ('independance', 1),\n",
       " ('private', 1),\n",
       " ('HERE', 1),\n",
       " ('AM', 1),\n",
       " ('Now', 1),\n",
       " ('that', 1),\n",
       " ('your', 1),\n",
       " ('attention', 1),\n",
       " ('LIMESTONE', 1),\n",
       " ('COAST', 1),\n",
       " ('REGION', 1),\n",
       " ('sufficiencies', 1),\n",
       " ('permaculture', 1),\n",
       " ('smoking', 1),\n",
       " ('LATE', 1),\n",
       " ('Music', 1),\n",
       " ('art', 1),\n",
       " ('environment', 1),\n",
       " ('concerts', 1),\n",
       " ('unimportant', 1),\n",
       " ('RETIRED', 1),\n",
       " ('Like', 1),\n",
       " ('caravan', 1),\n",
       " ('heading', 1),\n",
       " ('Darwin', 1),\n",
       " ('May', 1),\n",
       " ('driving', 1),\n",
       " ('one', 1),\n",
       " ('child', 1),\n",
       " ('Clare', 1),\n",
       " ('Barossa', 1),\n",
       " ('region', 1),\n",
       " ('northern', 1),\n",
       " ('understanding', 1),\n",
       " ('varied', 1),\n",
       " ('VIETNAMESE', 1),\n",
       " ('WIDOW', 1),\n",
       " ('established', 1),\n",
       " ('UK', 1),\n",
       " ('born', 1),\n",
       " ('31', 1),\n",
       " ('YO', 1),\n",
       " ('Eastern', 1),\n",
       " ('blond', 1),\n",
       " ('bet', 1),\n",
       " ('YEAR', 1),\n",
       " ('Working', 1),\n",
       " ('CENTRAL', 1),\n",
       " ('VICTORIAN', 1),\n",
       " ('Dad', 1),\n",
       " ('teen', 1),\n",
       " ('daughters', 1),\n",
       " ('HEALTHY', 1),\n",
       " ('emp', 1),\n",
       " ('tradesman', 1),\n",
       " ('Sri', 1),\n",
       " ('Lankan', 1),\n",
       " ('Olive', 1),\n",
       " ('Complexion', 1),\n",
       " ('dship', 1),\n",
       " ('rel', 1),\n",
       " ('MATURE', 1),\n",
       " ('Non', 1),\n",
       " ('Sexy', 1),\n",
       " ('WELL', 1),\n",
       " ('DRESSED', 1),\n",
       " ('emotionally', 1),\n",
       " ('figured', 1),\n",
       " ('shy', 1),\n",
       " ('NRL', 1),\n",
       " ('nature', 1),\n",
       " ('Rship', 1),\n",
       " ('only', 1),\n",
       " ('ALA', 1),\n",
       " ('Lots', 1),\n",
       " ('friends', 1),\n",
       " ('57YRS', 1),\n",
       " ('suited', 1),\n",
       " ('Nationality', 1),\n",
       " ('34yo', 1),\n",
       " ('tractive', 1),\n",
       " ('Ladies', 1),\n",
       " ('poor', 1),\n",
       " ('career', 1),\n",
       " ('Have', 1),\n",
       " ('always', 1),\n",
       " ('connected', 1),\n",
       " ('more', 1),\n",
       " ('Women', 1),\n",
       " ('TAINING', 1),\n",
       " ('interesting', 1),\n",
       " ('46yo', 1),\n",
       " ('Kind', 1),\n",
       " ('having', 1),\n",
       " ('Witty', 1),\n",
       " ('humorous', 1),\n",
       " ('comb', 1),\n",
       " ('beginning', 1),\n",
       " ('57yrs', 1),\n",
       " ('177cm', 1),\n",
       " ('meeting', 1),\n",
       " ('Please', 1),\n",
       " ('send', 1),\n",
       " ('GENTLEMAN', 1),\n",
       " ('wild', 1),\n",
       " ('HI', 1),\n",
       " ('54y', 1),\n",
       " ('nts', 1),\n",
       " ('supporting', 1),\n",
       " ('nat', 1),\n",
       " ('pamper', 1),\n",
       " ('roll', 1),\n",
       " ('hurry', 1),\n",
       " ('Is', 1),\n",
       " ('spend', 1),\n",
       " ('month', 1),\n",
       " ('Charters', 1),\n",
       " ('Towers', 1),\n",
       " ('especially', 1),\n",
       " ('festival', 1),\n",
       " ('write', 1),\n",
       " ('Ref', 1),\n",
       " ('8826', 1),\n",
       " ('PROFESSIONAL', 1),\n",
       " ('amongst', 1),\n",
       " ('Christian', 1),\n",
       " ('178cm', 1),\n",
       " ('79kg', 1),\n",
       " ('Clean', 1),\n",
       " ('cut', 1),\n",
       " ('natur', 1),\n",
       " ('ist', 1),\n",
       " ('minded', 1),\n",
       " ('red', 1),\n",
       " ('hd', 1),\n",
       " ('eurasian', 1),\n",
       " ('Home', 1),\n",
       " ('70', 1),\n",
       " ('SOUGHT', 1),\n",
       " ('BY', 1),\n",
       " ('Kids', 1),\n",
       " ('as', 1),\n",
       " ('Nice', 1),\n",
       " ('Businessman', 1),\n",
       " ('ATHLETIC', 1),\n",
       " ('gen', 1),\n",
       " ('Morn', 1),\n",
       " ('SD', 1),\n",
       " ('Caring', 1),\n",
       " ('thats', 1),\n",
       " ('seek', 1),\n",
       " ('mature', 1),\n",
       " ('ladies', 1),\n",
       " ('BRIGHT', 1),\n",
       " ('Boy', 1),\n",
       " ('brain', 1),\n",
       " ('cook', 1),\n",
       " ('Physique', 1),\n",
       " ('fair', 1),\n",
       " ('lunch', 1),\n",
       " ('converse', 1),\n",
       " ('Essendon', 1),\n",
       " ('Bright', 1),\n",
       " ('positive', 1),\n",
       " ('LOVING', 1),\n",
       " ('Female', 1),\n",
       " ('dressed', 1),\n",
       " ('rom', 1),\n",
       " ('elegance', 1),\n",
       " ('CASUAL', 1),\n",
       " ('weekday', 1),\n",
       " ('obligation', 1),\n",
       " ('EUROPEAN', 1),\n",
       " ('36yo', 1),\n",
       " ('encounter', 1),\n",
       " ('41yo', 1),\n",
       " ('37yrs', 1),\n",
       " ('larger', 1),\n",
       " ('Preferably', 1),\n",
       " ('nth', 1),\n",
       " ('LIKE', 1),\n",
       " ('MISTRESS', 1),\n",
       " ('YOUR', 1),\n",
       " ('treated', 1),\n",
       " ('Bold', 1),\n",
       " ('precious', 1),\n",
       " ('available', 1),\n",
       " ('during', 1),\n",
       " ('day', 1),\n",
       " ('appreciate', 1),\n",
       " ('Lets', 1),\n",
       " ('Talk', 1),\n",
       " (')', 1),\n",
       " ('LJ', 1),\n",
       " ('JS', 1),\n",
       " ('Bayswater', 1),\n",
       " ('Be', 1),\n",
       " ('mine', 1),\n",
       " ('26', 1),\n",
       " ('South', 1),\n",
       " ('burly', 1),\n",
       " ('beared', 1),\n",
       " ('ston', 1),\n",
       " ('MID', 1),\n",
       " ('strings', 1),\n",
       " ('attached', 1),\n",
       " ('HANDYMAN', 1),\n",
       " ('TLC', 1),\n",
       " ('position', 1),\n",
       " ('MT', 1),\n",
       " ('ELIZA', 1),\n",
       " ('Business', 1),\n",
       " ('gorg', 1),\n",
       " ('passion', 1),\n",
       " ('running', 1),\n",
       " ('LTR', 1),\n",
       " ('girl', 1),\n",
       " ('serious', 1),\n",
       " ('Man', 1),\n",
       " ('assertive', 1),\n",
       " ('kind', 1),\n",
       " ('stylish', 1),\n",
       " ('For', 1),\n",
       " ('Northcote', 1),\n",
       " ('Call', 1),\n",
       " ('PROF', 1),\n",
       " ('68', 1),\n",
       " ('Mornington', 1),\n",
       " ('SCORPIO', 1),\n",
       " ('passionate', 1),\n",
       " ('95', 1),\n",
       " ('def', 1),\n",
       " ('Knox', 1),\n",
       " ('4WD', 1),\n",
       " ('Fe', 1),\n",
       " ('Ok', 1),\n",
       " ('STERN', 1),\n",
       " ('HEADMASTER', 1),\n",
       " ('firm', 1),\n",
       " ('hand', 1),\n",
       " ('naughty', 1),\n",
       " ('Sgl', 1),\n",
       " ('ave', 1),\n",
       " ('bi', 1),\n",
       " ('curious', 1),\n",
       " ('dad', 1),\n",
       " ('sub', 1),\n",
       " ('\"', 1),\n",
       " ('FAIR', 1),\n",
       " ('WANT', 1),\n",
       " ('SPOILT', 1),\n",
       " ('Warm', 1),\n",
       " ('sgl', 1),\n",
       " ('38yo', 1),\n",
       " ('YOUNG', 1),\n",
       " ('girls', 1),\n",
       " ('23', 1),\n",
       " ('YR', 1),\n",
       " ('attract', 1),\n",
       " ('uni', 1),\n",
       " ('student', 1),\n",
       " ('daytime', 1),\n",
       " ('FRIEND', 1),\n",
       " ('find', 1),\n",
       " ('athletic', 1),\n",
       " ('cuddly', 1),\n",
       " ('ATTRACT', 1),\n",
       " ('younger', 1),\n",
       " ('18', 1),\n",
       " ('27', 1),\n",
       " ('GOSH', 1),\n",
       " ('busty', 1),\n",
       " ('curvaceous', 1),\n",
       " ('DISCIPLINARIAN', 1),\n",
       " ('Euro', 1),\n",
       " ('Nth', 1),\n",
       " ('52yo', 1),\n",
       " ('HARLEY', 1),\n",
       " ('RIDER', 1),\n",
       " ('HERPES', 1),\n",
       " ('JAPANESE', 1),\n",
       " ('b', 1),\n",
       " ('widowed', 1),\n",
       " ('over', 1),\n",
       " ('North', 1),\n",
       " ('West', 1),\n",
       " ('34', 1),\n",
       " ('travels', 1),\n",
       " ('lot', 1),\n",
       " ('personal', 1),\n",
       " ('trainer', 1),\n",
       " ('Sth', 1),\n",
       " ('42yo', 1),\n",
       " ('olive', 1),\n",
       " ('skin', 1),\n",
       " ('dog', 1),\n",
       " ('thinks', 1),\n",
       " ('he', 1),\n",
       " ('human', 1),\n",
       " ('spoilt', 1),\n",
       " ('commitment', 1),\n",
       " ('OLDER', 1),\n",
       " ('NICE', 1),\n",
       " ('GUYS', 1),\n",
       " ('Aged', 1),\n",
       " ('two', 1),\n",
       " ('females', 1),\n",
       " ('night', 1),\n",
       " ('clubbing', 1),\n",
       " ('BOY', 1),\n",
       " ('+,', 1),\n",
       " ('Harley', 1),\n",
       " ('rider', 1),\n",
       " ('semi', 1),\n",
       " ('retired', 1),\n",
       " ('LITTLE', 1),\n",
       " ('MAGIC', 1),\n",
       " ('little', 1),\n",
       " ('green', 1),\n",
       " ('eyed', 1),\n",
       " ('ABOUND', 1),\n",
       " ('CAREFREE', 1),\n",
       " ('creative', 1),\n",
       " ('executive', 1),\n",
       " ('flexible', 1),\n",
       " ('laugh', 1),\n",
       " ('contrasts', 1),\n",
       " ('finer', 1),\n",
       " ('outlooks', 1),\n",
       " ('YEARS', 1),\n",
       " ('lifestyle', 1),\n",
       " ('ADELAIDE', 1),\n",
       " ('HILLS', 1),\n",
       " ('ADVENTUROUS', 1),\n",
       " ('sensitive', 1),\n",
       " ('travelled', 1),\n",
       " ('AGED', 1),\n",
       " ('Interested', 1),\n",
       " ('basketball', 1),\n",
       " ('cricket', 1),\n",
       " ('pin', 1),\n",
       " ('bowling', 1),\n",
       " ('SANFL', 1),\n",
       " ('nightclubs', 1),\n",
       " ('TERTIARY', 1),\n",
       " ('Educated', 1),\n",
       " ('V8', 1),\n",
       " ('motor', 1),\n",
       " ('EMPLOYED', 1),\n",
       " ('haired', 1),\n",
       " ('strictly', 1),\n",
       " ('hours', 1),\n",
       " ('near', 1),\n",
       " ('City', 1),\n",
       " ('EASY', 1),\n",
       " ('GOING', 1),\n",
       " ('Intelligent', 1),\n",
       " ('exercise', 1),\n",
       " ('daily', 1),\n",
       " ('trustworthy', 1),\n",
       " ('integrity', 1),\n",
       " ('morals', 1),\n",
       " ('Children', 1),\n",
       " ('BALLROOM', 1),\n",
       " ('PARTNER', 1),\n",
       " ('Me', 1),\n",
       " ('slimmish', 1),\n",
       " ('after', 1),\n",
       " ('again', 1),\n",
       " ('than', 1),\n",
       " ('avoid', 1),\n",
       " ('complications', 1),\n",
       " ('unattached', 1),\n",
       " ('CITY', 1),\n",
       " ('GIRL', 1),\n",
       " ('SEEKS', 1),\n",
       " ('ROMANCE', 1),\n",
       " ('farmer', 1),\n",
       " ('land', 1),\n",
       " ('clean', 1),\n",
       " ('shaven', 1),\n",
       " ('strong', 1),\n",
       " ('values', 1),\n",
       " ('Other', 1),\n",
       " ('callers', 1),\n",
       " ('DO', 1),\n",
       " ('DANCE', 1),\n",
       " ('Rock', 1),\n",
       " ('Roll', 1),\n",
       " ('leading', 1),\n",
       " ('510', 1),\n",
       " ('western', 1),\n",
       " ('southern', 1),\n",
       " ('5ft', 1),\n",
       " ('large', 1),\n",
       " ('nonsmoker', 1),\n",
       " ('mother', 1),\n",
       " ('15', 1),\n",
       " ('boy', 1),\n",
       " ('Lives', 1),\n",
       " ('NE', 1),\n",
       " ('FEISTY', 1),\n",
       " ('FOXY', 1),\n",
       " ('YUMMY', 1),\n",
       " ('GRANDMUMMY', 1),\n",
       " ('laughter', 1),\n",
       " ('least', 1),\n",
       " ('comfortable', 1),\n",
       " ('just', 1),\n",
       " ('watch', 1),\n",
       " ...]"
      ]
     },
     "execution_count": 105,
     "metadata": {},
     "output_type": "execute_result"
    }
   ],
   "source": [
    "words_dist.most_common()"
   ]
  },
  {
   "cell_type": "code",
   "execution_count": 106,
   "metadata": {},
   "outputs": [
    {
     "data": {
      "text/plain": [
       "['25',\n",
       " 'SEXY',\n",
       " 'MALE',\n",
       " ',',\n",
       " 'seeks',\n",
       " 'attrac',\n",
       " 'older',\n",
       " 'single',\n",
       " 'lady',\n",
       " ',',\n",
       " 'for',\n",
       " 'discreet',\n",
       " 'encounters',\n",
       " '.',\n",
       " '35YO',\n",
       " 'Security',\n",
       " 'Guard',\n",
       " ',',\n",
       " 'seeking',\n",
       " 'lady',\n",
       " 'in',\n",
       " 'uniform',\n",
       " 'for',\n",
       " 'fun',\n",
       " 'times',\n",
       " '.',\n",
       " '40',\n",
       " 'yo',\n",
       " 'SINGLE',\n",
       " 'DAD',\n",
       " ',',\n",
       " 'sincere',\n",
       " 'friendly',\n",
       " 'DTE',\n",
       " 'seeks',\n",
       " 'r',\n",
       " '/',\n",
       " 'ship',\n",
       " 'with',\n",
       " 'fem',\n",
       " 'age',\n",
       " 'open',\n",
       " 'S',\n",
       " '/',\n",
       " 'E',\n",
       " '44yo',\n",
       " 'tall',\n",
       " 'seeks',\n",
       " 'working',\n",
       " 'single',\n",
       " 'mum',\n",
       " 'or',\n",
       " 'lady',\n",
       " 'below',\n",
       " '45',\n",
       " 'fship',\n",
       " 'rship',\n",
       " '.',\n",
       " 'Nat',\n",
       " 'Open',\n",
       " '6',\n",
       " '.',\n",
       " '2',\n",
       " '35',\n",
       " 'yr',\n",
       " 'old',\n",
       " 'OUTGOING',\n",
       " 'M',\n",
       " 'seeks',\n",
       " 'fem',\n",
       " '28',\n",
       " '-',\n",
       " '35',\n",
       " 'for',\n",
       " 'o',\n",
       " '/',\n",
       " 'door',\n",
       " 'sports',\n",
       " '-',\n",
       " 'w',\n",
       " '/',\n",
       " 'e',\n",
       " 'away',\n",
       " 'A',\n",
       " 'professional',\n",
       " 'business',\n",
       " 'male',\n",
       " ',',\n",
       " 'late',\n",
       " '40s',\n",
       " ',',\n",
       " '6',\n",
       " 'feet',\n",
       " 'tall',\n",
       " ',',\n",
       " 'slim',\n",
       " 'build',\n",
       " ',',\n",
       " 'well',\n",
       " 'groomed',\n",
       " ',',\n",
       " 'great',\n",
       " 'personality',\n",
       " ',',\n",
       " 'home',\n",
       " 'owner',\n",
       " ',',\n",
       " 'interests',\n",
       " 'include',\n",
       " 'the',\n",
       " 'arts',\n",
       " 'travel',\n",
       " 'and',\n",
       " 'all',\n",
       " 'things',\n",
       " 'good',\n",
       " ',',\n",
       " 'Ringwood',\n",
       " 'area',\n",
       " ',',\n",
       " 'is',\n",
       " 'seeking',\n",
       " 'a',\n",
       " 'genuine',\n",
       " 'female',\n",
       " 'of',\n",
       " 'similar',\n",
       " 'age',\n",
       " 'or',\n",
       " 'older',\n",
       " ',',\n",
       " 'in',\n",
       " 'same',\n",
       " 'area',\n",
       " 'or',\n",
       " 'surrounds',\n",
       " ',',\n",
       " 'for',\n",
       " 'a',\n",
       " 'meaningful',\n",
       " 'long',\n",
       " 'term',\n",
       " 'rship',\n",
       " '.',\n",
       " 'Looking',\n",
       " 'forward',\n",
       " 'to',\n",
       " 'hearing',\n",
       " 'from',\n",
       " 'you',\n",
       " 'all',\n",
       " '.',\n",
       " 'ABLE',\n",
       " 'young',\n",
       " 'man',\n",
       " 'seeks',\n",
       " ',',\n",
       " 'sexy',\n",
       " 'older',\n",
       " 'women',\n",
       " '.',\n",
       " 'Phone',\n",
       " 'for',\n",
       " 'fun',\n",
       " 'ready',\n",
       " 'to',\n",
       " 'play',\n",
       " 'AFFECTIONATE',\n",
       " 'LADY',\n",
       " 'Sought',\n",
       " 'by',\n",
       " 'generous',\n",
       " 'guy',\n",
       " ',',\n",
       " '40s',\n",
       " ',',\n",
       " 'mutual',\n",
       " 'fulfillment',\n",
       " 'ARE',\n",
       " 'YOU',\n",
       " 'ALONE',\n",
       " 'or',\n",
       " 'lost',\n",
       " 'in',\n",
       " 'a',\n",
       " 'r',\n",
       " '/',\n",
       " 'ship',\n",
       " 'too',\n",
       " ',',\n",
       " 'with',\n",
       " 'no',\n",
       " 'hope',\n",
       " 'in',\n",
       " 'sight',\n",
       " '?',\n",
       " 'Maybe',\n",
       " 'we',\n",
       " 'could',\n",
       " 'explore',\n",
       " 'new',\n",
       " 'beginnings',\n",
       " 'together',\n",
       " '?',\n",
       " 'Im',\n",
       " '45',\n",
       " 'Slim',\n",
       " '/',\n",
       " 'Med',\n",
       " 'build',\n",
       " ',',\n",
       " 'GSOH',\n",
       " ',',\n",
       " 'high',\n",
       " 'needs',\n",
       " 'and',\n",
       " 'looking',\n",
       " 'for',\n",
       " 'someone',\n",
       " 'similar',\n",
       " '.',\n",
       " 'You',\n",
       " 'WONT',\n",
       " 'be',\n",
       " 'disappointed',\n",
       " '.',\n",
       " 'AMIABLE',\n",
       " '43',\n",
       " 'y',\n",
       " '.',\n",
       " 'o',\n",
       " '.',\n",
       " 'gentleman',\n",
       " 'with',\n",
       " 'European',\n",
       " 'background',\n",
       " ',',\n",
       " '170',\n",
       " 'cm',\n",
       " ',',\n",
       " 'medium',\n",
       " 'build',\n",
       " ',',\n",
       " 'employed',\n",
       " ',',\n",
       " 'never',\n",
       " 'married',\n",
       " ',',\n",
       " 'no',\n",
       " 'children',\n",
       " '.',\n",
       " 'Enjoys',\n",
       " 'sports',\n",
       " ',',\n",
       " 'music',\n",
       " ',',\n",
       " 'cafes',\n",
       " ',',\n",
       " 'beach',\n",
       " '&',\n",
       " 'c',\n",
       " '.',\n",
       " 'Seeks',\n",
       " 'an',\n",
       " 'honest',\n",
       " ',',\n",
       " 'attractive',\n",
       " 'lady',\n",
       " 'with',\n",
       " 'a',\n",
       " 'European',\n",
       " 'background',\n",
       " ',',\n",
       " 'without',\n",
       " 'children',\n",
       " ',',\n",
       " 'who',\n",
       " 'would',\n",
       " 'like',\n",
       " 'to',\n",
       " 'get',\n",
       " 'married',\n",
       " 'and',\n",
       " 'have',\n",
       " 'chil',\n",
       " 'dren',\n",
       " 'in',\n",
       " 'the',\n",
       " 'future',\n",
       " '.',\n",
       " '29',\n",
       " '-',\n",
       " '39',\n",
       " 'y',\n",
       " '.',\n",
       " 'o',\n",
       " '.',\n",
       " 'Prefer',\n",
       " 'non',\n",
       " '-',\n",
       " 'smoker',\n",
       " 'and',\n",
       " 'living',\n",
       " 'in',\n",
       " 'Adelaide',\n",
       " '.',\n",
       " 'ARE',\n",
       " 'YOU',\n",
       " 'A',\n",
       " 'COPPER',\n",
       " 'REDHEAD',\n",
       " '?',\n",
       " 'I',\n",
       " 'am',\n",
       " '36',\n",
       " 'y',\n",
       " '.',\n",
       " 'o',\n",
       " '.',\n",
       " 'and',\n",
       " 'looking',\n",
       " 'for',\n",
       " 'companionship',\n",
       " '/',\n",
       " 'friendship',\n",
       " '.',\n",
       " 'I',\n",
       " 'enjoy',\n",
       " 'the',\n",
       " 'AFL',\n",
       " ',',\n",
       " 'animals',\n",
       " 'and',\n",
       " 'dining',\n",
       " 'out',\n",
       " '.',\n",
       " 'ATTRACTIVE',\n",
       " '43',\n",
       " 'Y',\n",
       " '.',\n",
       " 'O',\n",
       " '.',\n",
       " '61',\n",
       " ',',\n",
       " 'medium',\n",
       " 'build',\n",
       " ',',\n",
       " 'financially',\n",
       " 'secure',\n",
       " ',',\n",
       " 'no',\n",
       " 'children',\n",
       " ',',\n",
       " 'seeks',\n",
       " 'attractive',\n",
       " 'lady',\n",
       " 'up',\n",
       " 'to',\n",
       " '40',\n",
       " 'y',\n",
       " '.',\n",
       " 'o',\n",
       " '.',\n",
       " 'with',\n",
       " 'no',\n",
       " 'children',\n",
       " '.',\n",
       " 'I',\n",
       " 'enjoy',\n",
       " 'the',\n",
       " 'beach',\n",
       " ',',\n",
       " 'sports',\n",
       " 'and',\n",
       " 'music',\n",
       " '.',\n",
       " 'View',\n",
       " 'to',\n",
       " 'permanent',\n",
       " 'relationship',\n",
       " '.',\n",
       " 'ATTRACTIVE',\n",
       " 'GUY',\n",
       " 'Late',\n",
       " '30s',\n",
       " ',',\n",
       " '57',\n",
       " ',',\n",
       " 'Taurus',\n",
       " '.',\n",
       " 'Into',\n",
       " 'fitness',\n",
       " ',',\n",
       " 'cafes',\n",
       " ',',\n",
       " 'movies',\n",
       " ',',\n",
       " 'dinner',\n",
       " 'parties',\n",
       " '.',\n",
       " 'Seeks',\n",
       " 'out',\n",
       " 'there',\n",
       " 'female',\n",
       " 'for',\n",
       " 'friendship',\n",
       " 'and',\n",
       " 'fun',\n",
       " '.',\n",
       " 'AUSSIE',\n",
       " '39',\n",
       " 'Solid',\n",
       " 'build',\n",
       " ',',\n",
       " 'likes',\n",
       " 'music',\n",
       " ',',\n",
       " 'movies',\n",
       " ',',\n",
       " 'walks',\n",
       " 'on',\n",
       " 'the',\n",
       " 'beach',\n",
       " ',',\n",
       " 'single',\n",
       " ',',\n",
       " 'would',\n",
       " 'like',\n",
       " 'to',\n",
       " 'meet',\n",
       " 'lady',\n",
       " 'for',\n",
       " 'friendship',\n",
       " 'view',\n",
       " 'relationship',\n",
       " '.',\n",
       " 'AUSTRALIAN',\n",
       " 'FATHER',\n",
       " '58',\n",
       " 'With',\n",
       " '11',\n",
       " 'y',\n",
       " '.',\n",
       " 'o',\n",
       " '.',\n",
       " 'son',\n",
       " ',',\n",
       " 'living',\n",
       " 'with',\n",
       " 'me',\n",
       " '.',\n",
       " 'Seeks',\n",
       " 'nice',\n",
       " ',',\n",
       " 'caring',\n",
       " 'lady',\n",
       " 'who',\n",
       " 'likes',\n",
       " 'children',\n",
       " 'for',\n",
       " 'permanent',\n",
       " 're',\n",
       " 'lationship',\n",
       " 'in',\n",
       " 'coastal',\n",
       " 'town',\n",
       " 'on',\n",
       " 'Eyre',\n",
       " 'Peninsula',\n",
       " '.',\n",
       " 'Age',\n",
       " 'open',\n",
       " 'to',\n",
       " '55',\n",
       " '.',\n",
       " 'AUSTRALIAN',\n",
       " ',',\n",
       " 'SLIM',\n",
       " ',',\n",
       " 'FUN',\n",
       " '5',\n",
       " 'ft',\n",
       " '.',\n",
       " '8',\n",
       " '.',\n",
       " 'Enjoy',\n",
       " 'BBQs',\n",
       " ',',\n",
       " 'sport',\n",
       " ',',\n",
       " 'fishing',\n",
       " ',',\n",
       " 'going',\n",
       " 'out',\n",
       " 'for',\n",
       " 'meal',\n",
       " '&',\n",
       " 'c',\n",
       " '.',\n",
       " 'Fun',\n",
       " 'to',\n",
       " 'be',\n",
       " 'with',\n",
       " '.',\n",
       " 'Looking',\n",
       " 'for',\n",
       " 'a',\n",
       " 'com',\n",
       " 'panion',\n",
       " ',',\n",
       " 'aged',\n",
       " 'between',\n",
       " '35',\n",
       " '-',\n",
       " '50',\n",
       " '.',\n",
       " 'Must',\n",
       " 'be',\n",
       " 'genuine',\n",
       " 'and',\n",
       " 'good',\n",
       " 'fun',\n",
       " '.',\n",
       " 'Possible',\n",
       " 'relationship',\n",
       " '.',\n",
       " 'BEAUTIFUL',\n",
       " ',',\n",
       " 'INTELLIGENT',\n",
       " 'CARING',\n",
       " ',',\n",
       " 'MUSICAL',\n",
       " 'Shy',\n",
       " ',',\n",
       " 'late',\n",
       " '20s',\n",
       " ',',\n",
       " 'size',\n",
       " '12',\n",
       " ',',\n",
       " 'long',\n",
       " 'blonde',\n",
       " 'hair',\n",
       " 'and',\n",
       " 'likes',\n",
       " 'to',\n",
       " 'drink',\n",
       " 'Guiness',\n",
       " '.',\n",
       " 'If',\n",
       " 'this',\n",
       " 'is',\n",
       " 'you',\n",
       " 'then',\n",
       " 'I',\n",
       " 'want',\n",
       " 'you',\n",
       " '.',\n",
       " 'BLONDE',\n",
       " 'HAIR',\n",
       " ',',\n",
       " 'BLUE',\n",
       " 'EYES',\n",
       " 'Medium',\n",
       " 'build',\n",
       " ',',\n",
       " 'Im',\n",
       " 'in',\n",
       " 'my',\n",
       " 'early',\n",
       " '30s',\n",
       " '.',\n",
       " 'Am',\n",
       " 'honest',\n",
       " ',',\n",
       " 'caring',\n",
       " ',',\n",
       " 'likes',\n",
       " 'fishing',\n",
       " ',',\n",
       " 'animals',\n",
       " ',',\n",
       " 'golf',\n",
       " ',',\n",
       " 'bike',\n",
       " 'riding',\n",
       " ',',\n",
       " 'TV',\n",
       " 'and',\n",
       " 'DVDs',\n",
       " ',',\n",
       " 'quiet',\n",
       " 'nights',\n",
       " 'at',\n",
       " 'home',\n",
       " ',',\n",
       " 'kissing',\n",
       " 'and',\n",
       " 'cuddling',\n",
       " 'up',\n",
       " 'to',\n",
       " 'a',\n",
       " 'special',\n",
       " 'person',\n",
       " 'in',\n",
       " 'my',\n",
       " 'life',\n",
       " '.',\n",
       " 'Looking',\n",
       " 'for',\n",
       " 'a',\n",
       " 'caring',\n",
       " ',',\n",
       " 'honest',\n",
       " 'lady',\n",
       " 'for',\n",
       " 'friendship',\n",
       " 'to',\n",
       " 'relationship',\n",
       " '.',\n",
       " 'BUSINESSMAN',\n",
       " '60',\n",
       " \"''\",\n",
       " 'ish',\n",
       " 'Looking',\n",
       " 'for',\n",
       " 'lady',\n",
       " ',',\n",
       " 'non',\n",
       " '-',\n",
       " 'smoker',\n",
       " ',',\n",
       " '56',\n",
       " 'or',\n",
       " 'taller',\n",
       " 'with',\n",
       " 'business',\n",
       " 'outlook',\n",
       " ',',\n",
       " 'no',\n",
       " 'ties',\n",
       " ',',\n",
       " 'be',\n",
       " 'prepared',\n",
       " 'to',\n",
       " 'travel',\n",
       " 'and',\n",
       " 'enjoy',\n",
       " 'outdoor',\n",
       " 'sports',\n",
       " '(',\n",
       " 'cars',\n",
       " ',',\n",
       " 'boats',\n",
       " 'etc',\n",
       " '.),',\n",
       " 'wining',\n",
       " '/',\n",
       " 'dining',\n",
       " '.',\n",
       " 'Must',\n",
       " 'have',\n",
       " 's',\n",
       " '.',\n",
       " 'o',\n",
       " '.',\n",
       " 'h',\n",
       " '.',\n",
       " 'and',\n",
       " 'have',\n",
       " 'modern',\n",
       " 'outlook',\n",
       " '.',\n",
       " 'CUDDLY',\n",
       " 'FULL',\n",
       " 'FIGURED',\n",
       " 'LADY',\n",
       " '50',\n",
       " 'plus',\n",
       " 'sought',\n",
       " 'by',\n",
       " 'Australian',\n",
       " 'gent',\n",
       " ',',\n",
       " 'early',\n",
       " '60s',\n",
       " ',',\n",
       " 'financially',\n",
       " 'secure',\n",
       " ',',\n",
       " 'non',\n",
       " '-',\n",
       " 'drinker',\n",
       " ',',\n",
       " 'non',\n",
       " 'smoker',\n",
       " ',',\n",
       " 'for',\n",
       " 'permanent',\n",
       " 'relationship',\n",
       " '.',\n",
       " 'FIT',\n",
       " 'ACTIVE',\n",
       " 'EASYGOING',\n",
       " '50',\n",
       " 'y',\n",
       " '.',\n",
       " 'o',\n",
       " '.',\n",
       " 'male',\n",
       " ',',\n",
       " '6',\n",
       " 'ft',\n",
       " '2',\n",
       " ',',\n",
       " 'med',\n",
       " '.',\n",
       " 'build',\n",
       " ',',\n",
       " 'fit',\n",
       " 'and',\n",
       " 'healthy',\n",
       " ',',\n",
       " 'fully',\n",
       " 'employed',\n",
       " 'no',\n",
       " 'ties',\n",
       " ',',\n",
       " 'non',\n",
       " 'smoker',\n",
       " ',',\n",
       " 'light',\n",
       " 'drinker',\n",
       " '.',\n",
       " 'Seeking',\n",
       " 'female',\n",
       " 'friend',\n",
       " ',',\n",
       " '40s',\n",
       " ',',\n",
       " 'attractive',\n",
       " '5',\n",
       " 'ft',\n",
       " '5',\n",
       " '+.',\n",
       " 'Med',\n",
       " '.',\n",
       " 'to',\n",
       " 'slim',\n",
       " 'build',\n",
       " '.',\n",
       " 'View',\n",
       " 'towards',\n",
       " 'a',\n",
       " 'permanent',\n",
       " 'relationship',\n",
       " '.',\n",
       " 'Give',\n",
       " 'me',\n",
       " 'a',\n",
       " 'call',\n",
       " 'lets',\n",
       " 'have',\n",
       " 'a',\n",
       " 'chat',\n",
       " '.',\n",
       " 'GENUINE',\n",
       " 'AND',\n",
       " 'HONEST',\n",
       " 'Hi',\n",
       " 'Im',\n",
       " '44',\n",
       " 'with',\n",
       " 'a',\n",
       " 'good',\n",
       " 'sense',\n",
       " 'of',\n",
       " 'humour',\n",
       " ',',\n",
       " 'am',\n",
       " 'romantic',\n",
       " 'and',\n",
       " 'love',\n",
       " 'drives',\n",
       " ',',\n",
       " 'fishing',\n",
       " ',',\n",
       " 'camping',\n",
       " 'and',\n",
       " 'music',\n",
       " '.',\n",
       " 'Love',\n",
       " 'my',\n",
       " '2',\n",
       " 'kids',\n",
       " '.',\n",
       " 'Am',\n",
       " 'looking',\n",
       " 'for',\n",
       " 'a',\n",
       " 'lady',\n",
       " 'with',\n",
       " 'similar',\n",
       " 'interests',\n",
       " ',',\n",
       " 'aged',\n",
       " 'between',\n",
       " '38',\n",
       " '-',\n",
       " '45',\n",
       " 'for',\n",
       " 'friendship',\n",
       " '/',\n",
       " 'possible',\n",
       " 'relationship',\n",
       " '.',\n",
       " 'GENUINE',\n",
       " 'ATTRACTIVE',\n",
       " 'MAN',\n",
       " '40',\n",
       " 'y',\n",
       " '.',\n",
       " 'o',\n",
       " '.,',\n",
       " 'no',\n",
       " 'ties',\n",
       " ',',\n",
       " 'secure',\n",
       " ',',\n",
       " '5',\n",
       " 'ft',\n",
       " '.',\n",
       " '9',\n",
       " ',',\n",
       " 'slim',\n",
       " 'build',\n",
       " '.',\n",
       " 'I',\n",
       " 'enjoy',\n",
       " 'outdoors',\n",
       " ',',\n",
       " 'gym',\n",
       " ',',\n",
       " 'beach',\n",
       " ',',\n",
       " 'country',\n",
       " 'drives',\n",
       " 'and',\n",
       " 'quiet',\n",
       " 'nights',\n",
       " 'at',\n",
       " 'home',\n",
       " '.',\n",
       " 'Seeking',\n",
       " 'an',\n",
       " 'honest',\n",
       " ',',\n",
       " 'caring',\n",
       " 'woman',\n",
       " ',',\n",
       " 'slim',\n",
       " 'or',\n",
       " 'med',\n",
       " '.',\n",
       " 'build',\n",
       " ',',\n",
       " 'who',\n",
       " 'enjoys',\n",
       " 'the',\n",
       " 'simple',\n",
       " 'things',\n",
       " 'in',\n",
       " 'life',\n",
       " '.',\n",
       " 'Age',\n",
       " 'open',\n",
       " '.',\n",
       " 'GOOD',\n",
       " 'LISTENER',\n",
       " 'Well',\n",
       " 'educated',\n",
       " ',',\n",
       " 'tall',\n",
       " ',',\n",
       " 'blue',\n",
       " 'eyes',\n",
       " ',',\n",
       " 'brown',\n",
       " 'hair',\n",
       " ',',\n",
       " 'Mid',\n",
       " '20s',\n",
       " ',',\n",
       " 'good',\n",
       " 'looking',\n",
       " ',',\n",
       " 'honest',\n",
       " 'n',\n",
       " '/',\n",
       " 'smoker',\n",
       " '.',\n",
       " 'Likes',\n",
       " 'movies',\n",
       " ',',\n",
       " 'drives',\n",
       " ',',\n",
       " 'nights',\n",
       " 'in',\n",
       " ',',\n",
       " 'looks',\n",
       " 'not',\n",
       " 'important',\n",
       " ',',\n",
       " 'nor',\n",
       " 'distance',\n",
       " '/',\n",
       " 'speed',\n",
       " '.',\n",
       " 'Looking',\n",
       " 'for',\n",
       " 'someone',\n",
       " 'to',\n",
       " 'complete',\n",
       " 'my',\n",
       " 'social',\n",
       " 'circles',\n",
       " '.',\n",
       " 'Age',\n",
       " 'open',\n",
       " ',',\n",
       " 'friendship',\n",
       " '/',\n",
       " 'relationship',\n",
       " '.',\n",
       " 'GREEK',\n",
       " '/',\n",
       " 'AUST',\n",
       " '.',\n",
       " 'MALE',\n",
       " 'Early',\n",
       " '30s',\n",
       " ',',\n",
       " '57',\n",
       " ',',\n",
       " 'slim',\n",
       " 'build',\n",
       " ',',\n",
       " 'non',\n",
       " '-',\n",
       " 'smoker',\n",
       " ',',\n",
       " 'enjoys',\n",
       " 'dining',\n",
       " 'out',\n",
       " ',',\n",
       " 'movies',\n",
       " ',',\n",
       " 'bbqs',\n",
       " '.,',\n",
       " 'football',\n",
       " 'and',\n",
       " 'quiet',\n",
       " 'nights',\n",
       " 'at',\n",
       " 'home',\n",
       " '.',\n",
       " 'Seeking',\n",
       " 'slim',\n",
       " ',',\n",
       " 'attractive',\n",
       " 'female',\n",
       " ',',\n",
       " '20',\n",
       " '-',\n",
       " '30',\n",
       " 'with',\n",
       " 'similar',\n",
       " 'interests',\n",
       " 'for',\n",
       " 'friend',\n",
       " 'ship',\n",
       " '/',\n",
       " 'relationship',\n",
       " '.',\n",
       " 'HANDSOME',\n",
       " 'BUSINESSMAN',\n",
       " 'Tall',\n",
       " ',',\n",
       " 'slim',\n",
       " ',',\n",
       " 'independant',\n",
       " ',',\n",
       " 'under',\n",
       " 'standing',\n",
       " ',',\n",
       " 'mid',\n",
       " '50s',\n",
       " ',',\n",
       " 'looking',\n",
       " 'for',\n",
       " ...]"
      ]
     },
     "execution_count": 106,
     "metadata": {},
     "output_type": "execute_result"
    }
   ],
   "source": [
    "ads_tokens=ads.split()\n",
    "ads_tokens"
   ]
  },
  {
   "cell_type": "code",
   "execution_count": 107,
   "metadata": {},
   "outputs": [
    {
     "data": {
      "text/plain": [
       "86"
      ]
     },
     "execution_count": 107,
     "metadata": {},
     "output_type": "execute_result"
    }
   ],
   "source": [
    "ads_tokens.index('male')"
   ]
  }
 ],
 "metadata": {
  "kernelspec": {
   "display_name": "Python 3",
   "language": "python",
   "name": "python3"
  },
  "language_info": {
   "codemirror_mode": {
    "name": "ipython",
    "version": 3
   },
   "file_extension": ".py",
   "mimetype": "text/x-python",
   "name": "python",
   "nbconvert_exporter": "python",
   "pygments_lexer": "ipython3",
   "version": "3.6.3"
  }
 },
 "nbformat": 4,
 "nbformat_minor": 2
}
