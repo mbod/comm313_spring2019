{
 "cells": [
  {
   "cell_type": "markdown",
   "metadata": {},
   "source": [
    "# Finding and building Corpora from the web\n",
    "\n",
    "* Extracting text from structured data to build a corpus for text analysis\n",
    "    * Simple text formats\n",
    "    * Web pages (HTML)\n",
    "\n",
    "### COMM313 Spring 2019 (02/11/19)\n",
    "\n"
   ]
  },
  {
   "cell_type": "markdown",
   "metadata": {},
   "source": [
    "## Readings\n",
    "\n",
    "\n",
    "* Baker, P. (2006) Using Corpora in Discourse Analysis. London: Continuum - **Read Chs. 3&4**\n",
    "* NLTK Book Ch. 3 http://www.nltk.org/book/ch03.html \n",
    "\n"
   ]
  },
  {
   "cell_type": "markdown",
   "metadata": {},
   "source": [
    "## Setup\n",
    "\n",
    "* run the following cells to import modules used and set up needed parameters"
   ]
  },
  {
   "cell_type": "code",
   "execution_count": 59,
   "metadata": {},
   "outputs": [],
   "source": [
    "%matplotlib inline\n",
    "\n",
    "import matplotlib.pyplot as plt\n",
    "from collections import Counter\n",
    "import os\n",
    "\n",
    "import requests\n",
    "from bs4 import BeautifulSoup"
   ]
  },
  {
   "cell_type": "markdown",
   "metadata": {},
   "source": [
    "## Our Python text analysis steps so far...\n",
    "\n",
    "1. Create a string object containing text \n",
    "    * either with directly e.g. \n",
    "        ```\n",
    "        text = \"this is my text....\"\n",
    "        ```\n",
    "    * or most often by reading the contents of a file\n",
    "        ```\n",
    "        text = open('path/to/file.txt').read()\n",
    "        ```"
   ]
  },
  {
   "cell_type": "code",
   "execution_count": 60,
   "metadata": {},
   "outputs": [],
   "source": [
    "three_bears_text = open('/data/kids/threebears.txt').read()"
   ]
  },
  {
   "cell_type": "markdown",
   "metadata": {},
   "source": [
    "2. Normalize the text\n",
    "    * using string functions to put into lowercase and remove unwanted characters"
   ]
  },
  {
   "cell_type": "code",
   "execution_count": 61,
   "metadata": {},
   "outputs": [],
   "source": [
    "three_bears_text_lc = three_bears_text.lower()"
   ]
  },
  {
   "cell_type": "code",
   "execution_count": 62,
   "metadata": {},
   "outputs": [],
   "source": [
    "rdict=str.maketrans('','','!,.\"')\n",
    "three_bears_text_lc_norm = three_bears_text_lc.translate(rdict)"
   ]
  },
  {
   "cell_type": "markdown",
   "metadata": {},
   "source": [
    "3. Tokenize the text\n",
    "    * split the normalized string into a list of tokens"
   ]
  },
  {
   "cell_type": "code",
   "execution_count": 63,
   "metadata": {},
   "outputs": [],
   "source": [
    "three_bears_tokens = three_bears_text_lc_norm.split()"
   ]
  },
  {
   "cell_type": "code",
   "execution_count": 64,
   "metadata": {},
   "outputs": [
    {
     "data": {
      "text/plain": [
       "['once',\n",
       " 'upon',\n",
       " 'a',\n",
       " 'time',\n",
       " 'there',\n",
       " 'was',\n",
       " 'a',\n",
       " 'little',\n",
       " 'girl',\n",
       " 'named',\n",
       " 'goldilocks',\n",
       " 'she',\n",
       " 'went',\n",
       " 'for',\n",
       " 'a',\n",
       " 'walk',\n",
       " 'in',\n",
       " 'the',\n",
       " 'forest',\n",
       " 'pretty']"
      ]
     },
     "execution_count": 64,
     "metadata": {},
     "output_type": "execute_result"
    }
   ],
   "source": [
    "three_bears_tokens[:20]"
   ]
  },
  {
   "cell_type": "markdown",
   "metadata": {},
   "source": [
    "### Could do all in one line like this..."
   ]
  },
  {
   "cell_type": "code",
   "execution_count": 65,
   "metadata": {},
   "outputs": [],
   "source": [
    "three_bears_tokens = three_bears_text.lower().translate(str.maketrans('','','!,.\"')).split()"
   ]
  },
  {
   "cell_type": "markdown",
   "metadata": {},
   "source": [
    "4. Create a frequency list\n",
    "    * We can tally up the __TYPES__ in a list of __TOKENS__ with the `Counter` object"
   ]
  },
  {
   "cell_type": "code",
   "execution_count": 66,
   "metadata": {},
   "outputs": [],
   "source": [
    "frequency_list = Counter(three_bears_tokens)"
   ]
  },
  {
   "cell_type": "code",
   "execution_count": 67,
   "metadata": {},
   "outputs": [
    {
     "data": {
      "text/plain": [
       "[('the', 34),\n",
       " ('she', 29),\n",
       " ('in', 14),\n",
       " ('and', 13),\n",
       " ('porridge', 10),\n",
       " ('chair', 10),\n",
       " (\"someone's\", 9),\n",
       " ('been', 9),\n",
       " ('my', 9),\n",
       " ('bear', 9),\n",
       " ('was', 8),\n",
       " ('too', 8),\n",
       " ('goldilocks', 7),\n",
       " ('this', 7),\n",
       " ('it', 7),\n",
       " ('to', 7),\n",
       " ('three', 6),\n",
       " ('is', 6),\n",
       " ('so', 6),\n",
       " ('bed', 6)]"
      ]
     },
     "execution_count": 67,
     "metadata": {},
     "output_type": "execute_result"
    }
   ],
   "source": [
    "frequency_list.most_common(20)"
   ]
  },
  {
   "cell_type": "markdown",
   "metadata": {},
   "source": [
    "## Loop and filter idiom in Python\n",
    "\n",
    "* We have started to look at using \n",
    "\n",
    "    1. __LOOPS__ to walk through all items in a list\n",
    "    \n",
    "    2. __CONDITIONS__ to select when or what to process in the list\n"
   ]
  },
  {
   "cell_type": "markdown",
   "metadata": {},
   "source": [
    "#### Example: find words ending in `ing`"
   ]
  },
  {
   "cell_type": "code",
   "execution_count": 68,
   "metadata": {},
   "outputs": [
    {
     "data": {
      "text/plain": [
       "False"
      ]
     },
     "execution_count": 68,
     "metadata": {},
     "output_type": "execute_result"
    }
   ],
   "source": [
    "\"said\".endswith('ing')"
   ]
  },
  {
   "cell_type": "code",
   "execution_count": 69,
   "metadata": {},
   "outputs": [
    {
     "data": {
      "text/plain": [
       "True"
      ]
     },
     "execution_count": 69,
     "metadata": {},
     "output_type": "execute_result"
    }
   ],
   "source": [
    "\"saying\".endswith('ing')"
   ]
  },
  {
   "cell_type": "code",
   "execution_count": 70,
   "metadata": {},
   "outputs": [],
   "source": [
    "ing_words = []\n",
    "\n",
    "for token in three_bears_tokens:\n",
    "    \n",
    "    if token.endswith('ing'):\n",
    "        ing_words.append(token)"
   ]
  },
  {
   "cell_type": "code",
   "execution_count": 71,
   "metadata": {},
   "outputs": [
    {
     "data": {
      "text/plain": [
       "['feeling',\n",
       " 'living',\n",
       " 'sleeping',\n",
       " 'eating',\n",
       " 'eating',\n",
       " 'eating',\n",
       " 'sitting',\n",
       " 'sitting',\n",
       " 'sitting',\n",
       " 'sleeping',\n",
       " 'sleeping',\n",
       " 'sleeping']"
      ]
     },
     "execution_count": 71,
     "metadata": {},
     "output_type": "execute_result"
    }
   ],
   "source": [
    "ing_words"
   ]
  },
  {
   "cell_type": "markdown",
   "metadata": {},
   "source": [
    "#### Example: find words ending in `ed`"
   ]
  },
  {
   "cell_type": "code",
   "execution_count": 74,
   "metadata": {},
   "outputs": [],
   "source": [
    "my_list=[]"
   ]
  },
  {
   "cell_type": "code",
   "execution_count": 75,
   "metadata": {},
   "outputs": [],
   "source": [
    "my_list.append('a')"
   ]
  },
  {
   "cell_type": "code",
   "execution_count": 76,
   "metadata": {},
   "outputs": [
    {
     "data": {
      "text/plain": [
       "['a']"
      ]
     },
     "execution_count": 76,
     "metadata": {},
     "output_type": "execute_result"
    }
   ],
   "source": [
    "my_list"
   ]
  },
  {
   "cell_type": "code",
   "execution_count": 77,
   "metadata": {},
   "outputs": [],
   "source": [
    "my_list.append('b')"
   ]
  },
  {
   "cell_type": "code",
   "execution_count": 81,
   "metadata": {},
   "outputs": [
    {
     "data": {
      "text/plain": [
       "['a', 'b', 1]"
      ]
     },
     "execution_count": 81,
     "metadata": {},
     "output_type": "execute_result"
    }
   ],
   "source": [
    "my_list"
   ]
  },
  {
   "cell_type": "code",
   "execution_count": 82,
   "metadata": {},
   "outputs": [],
   "source": [
    "my_list.append(1)\n",
    "my_list.append(1)\n",
    "my_list.append(1)"
   ]
  },
  {
   "cell_type": "code",
   "execution_count": 83,
   "metadata": {},
   "outputs": [
    {
     "data": {
      "text/plain": [
       "['a', 'b', 1, 1, 1, 1]"
      ]
     },
     "execution_count": 83,
     "metadata": {},
     "output_type": "execute_result"
    }
   ],
   "source": [
    "my_list"
   ]
  },
  {
   "cell_type": "code",
   "execution_count": 84,
   "metadata": {},
   "outputs": [],
   "source": [
    "ed_words = []\n",
    "\n",
    "for token in three_bears_tokens:\n",
    "    \n",
    "    if token.endswith('ed'):\n",
    "        ed_words.append(token)"
   ]
  },
  {
   "cell_type": "code",
   "execution_count": 73,
   "metadata": {},
   "outputs": [
    {
     "data": {
      "text/plain": [
       "['named',\n",
       " 'knocked',\n",
       " 'answered',\n",
       " 'walked',\n",
       " 'tasted',\n",
       " 'exclaimed',\n",
       " 'tasted',\n",
       " 'tasted',\n",
       " 'decided',\n",
       " 'tired',\n",
       " 'walked',\n",
       " 'exclaimed',\n",
       " 'whined',\n",
       " 'tried',\n",
       " 'sighed',\n",
       " 'settled',\n",
       " 'tired',\n",
       " 'bed',\n",
       " 'bed',\n",
       " 'bed',\n",
       " 'growled',\n",
       " 'cried',\n",
       " 'growled',\n",
       " 'cried',\n",
       " 'decided',\n",
       " 'growled',\n",
       " 'bed',\n",
       " 'bed',\n",
       " 'bed',\n",
       " 'exclaimed',\n",
       " 'screamed',\n",
       " 'jumped',\n",
       " 'opened',\n",
       " 'returned']"
      ]
     },
     "execution_count": 73,
     "metadata": {},
     "output_type": "execute_result"
    }
   ],
   "source": [
    "ed_words"
   ]
  },
  {
   "cell_type": "markdown",
   "metadata": {},
   "source": [
    "* Then we can create a frequency list with a `Counter`"
   ]
  },
  {
   "cell_type": "code",
   "execution_count": 85,
   "metadata": {},
   "outputs": [
    {
     "data": {
      "text/plain": [
       "[('bed', 6),\n",
       " ('tasted', 3),\n",
       " ('exclaimed', 3),\n",
       " ('growled', 3),\n",
       " ('walked', 2),\n",
       " ('decided', 2),\n",
       " ('tired', 2),\n",
       " ('cried', 2),\n",
       " ('named', 1),\n",
       " ('knocked', 1),\n",
       " ('answered', 1),\n",
       " ('whined', 1),\n",
       " ('tried', 1),\n",
       " ('sighed', 1),\n",
       " ('settled', 1),\n",
       " ('screamed', 1),\n",
       " ('jumped', 1),\n",
       " ('opened', 1),\n",
       " ('returned', 1)]"
      ]
     },
     "execution_count": 85,
     "metadata": {},
     "output_type": "execute_result"
    }
   ],
   "source": [
    "Counter(ed_words).most_common()"
   ]
  },
  {
   "cell_type": "markdown",
   "metadata": {},
   "source": [
    "#### Example: find instances of specific words (_types_)"
   ]
  },
  {
   "cell_type": "code",
   "execution_count": 11,
   "metadata": {},
   "outputs": [],
   "source": [
    "word_list = ['ate','eat','eating','eaten', \n",
    "             'sleep', 'sleeping', 'slept',\n",
    "             'sit', 'sitting', 'sat'\n",
    "            ]"
   ]
  },
  {
   "cell_type": "code",
   "execution_count": 86,
   "metadata": {},
   "outputs": [
    {
     "data": {
      "text/plain": [
       "['ate',\n",
       " 'eat',\n",
       " 'eating',\n",
       " 'eaten',\n",
       " 'sleep',\n",
       " 'sleeping',\n",
       " 'slept',\n",
       " 'sit',\n",
       " 'sitting',\n",
       " 'sat']"
      ]
     },
     "execution_count": 86,
     "metadata": {},
     "output_type": "execute_result"
    }
   ],
   "source": [
    "word_list"
   ]
  },
  {
   "cell_type": "code",
   "execution_count": 89,
   "metadata": {},
   "outputs": [
    {
     "data": {
      "text/plain": [
       "False"
      ]
     },
     "execution_count": 89,
     "metadata": {},
     "output_type": "execute_result"
    }
   ],
   "source": [
    "'ATE' in word_list"
   ]
  },
  {
   "cell_type": "code",
   "execution_count": 90,
   "metadata": {},
   "outputs": [],
   "source": [
    "filtered_tokens = []\n",
    "\n",
    "for t in three_bears_tokens:\n",
    "    if t in word_list:\n",
    "        filtered_tokens.append(t)"
   ]
  },
  {
   "cell_type": "code",
   "execution_count": 91,
   "metadata": {},
   "outputs": [
    {
     "data": {
      "text/plain": [
       "['ate',\n",
       " 'eaten',\n",
       " 'sat',\n",
       " 'sat',\n",
       " 'sleeping',\n",
       " 'eating',\n",
       " 'eating',\n",
       " 'eating',\n",
       " 'ate',\n",
       " 'sitting',\n",
       " 'sitting',\n",
       " 'sitting',\n",
       " 'sleeping',\n",
       " 'sleeping',\n",
       " 'sleeping']"
      ]
     },
     "execution_count": 91,
     "metadata": {},
     "output_type": "execute_result"
    }
   ],
   "source": [
    "filtered_tokens"
   ]
  },
  {
   "cell_type": "markdown",
   "metadata": {},
   "source": [
    "#### A simpler example"
   ]
  },
  {
   "cell_type": "code",
   "execution_count": 93,
   "metadata": {
    "scrolled": true
   },
   "outputs": [
    {
     "data": {
      "text/plain": [
       "['A', 'B', 'C', 'D', 'E']"
      ]
     },
     "execution_count": 93,
     "metadata": {},
     "output_type": "execute_result"
    }
   ],
   "source": [
    "alphabet = list('ABCDEFGHIJKLMNOPQRSTUVWXYZ')\n",
    "alphabet[:5]"
   ]
  },
  {
   "cell_type": "code",
   "execution_count": 94,
   "metadata": {},
   "outputs": [
    {
     "data": {
      "text/plain": [
       "26"
      ]
     },
     "execution_count": 94,
     "metadata": {},
     "output_type": "execute_result"
    }
   ],
   "source": [
    "len(alphabet)"
   ]
  },
  {
   "cell_type": "code",
   "execution_count": 95,
   "metadata": {},
   "outputs": [
    {
     "data": {
      "text/plain": [
       "('B', 'H', 'M')"
      ]
     },
     "execution_count": 95,
     "metadata": {},
     "output_type": "execute_result"
    }
   ],
   "source": [
    "alphabet[1], alphabet[7], alphabet[12]"
   ]
  },
  {
   "cell_type": "code",
   "execution_count": 96,
   "metadata": {},
   "outputs": [
    {
     "name": "stdout",
     "output_type": "stream",
     "text": [
      "A, B, C, D, E, F, G, H, I, J, K, L, M, N, O, P, Q, R, S, T, U, V, W, X, Y, Z, "
     ]
    }
   ],
   "source": [
    "for letter in alphabet:\n",
    "    print(letter, end=', ')"
   ]
  },
  {
   "cell_type": "code",
   "execution_count": 101,
   "metadata": {},
   "outputs": [
    {
     "data": {
      "text/plain": [
       "[10, 11, 12, 13, 14, 15, 16, 17, 18, 19]"
      ]
     },
     "execution_count": 101,
     "metadata": {},
     "output_type": "execute_result"
    }
   ],
   "source": [
    "list(range(10,20))"
   ]
  },
  {
   "cell_type": "code",
   "execution_count": 98,
   "metadata": {},
   "outputs": [
    {
     "name": "stdout",
     "output_type": "stream",
     "text": [
      "0 A\n",
      "1 B\n",
      "2 C\n",
      "3 D\n",
      "4 E\n",
      "5 F\n",
      "6 G\n",
      "7 H\n",
      "8 I\n",
      "9 J\n",
      "10 K\n",
      "11 L\n",
      "12 M\n",
      "13 N\n",
      "14 O\n",
      "15 P\n",
      "16 Q\n",
      "17 R\n",
      "18 S\n",
      "19 T\n",
      "20 U\n",
      "21 V\n",
      "22 W\n",
      "23 X\n",
      "24 Y\n",
      "25 Z\n"
     ]
    }
   ],
   "source": [
    "for pos in range(len(alphabet)):\n",
    "    print(pos, alphabet[pos])"
   ]
  },
  {
   "cell_type": "code",
   "execution_count": null,
   "metadata": {},
   "outputs": [],
   "source": []
  },
  {
   "cell_type": "code",
   "execution_count": 38,
   "metadata": {},
   "outputs": [
    {
     "name": "stdout",
     "output_type": "stream",
     "text": [
      "0 A\n",
      "1 B\n",
      "2 C\n",
      "3 D\n",
      "4 E\n",
      "5 F\n",
      "6 G\n",
      "7 H\n",
      "8 I\n",
      "9 J\n",
      "10 K\n",
      "11 L\n",
      "12 M\n",
      "13 N\n",
      "14 O\n",
      "15 P\n",
      "16 Q\n",
      "17 R\n",
      "18 S\n",
      "19 T\n",
      "20 U\n",
      "21 V\n",
      "22 W\n",
      "23 X\n",
      "24 Y\n",
      "25 Z\n"
     ]
    }
   ],
   "source": [
    "for pos, letter in enumerate(alphabet):\n",
    "    print(pos, letter)"
   ]
  },
  {
   "cell_type": "code",
   "execution_count": 102,
   "metadata": {},
   "outputs": [
    {
     "name": "stdout",
     "output_type": "stream",
     "text": [
      "0 A\n",
      "4 E\n",
      "8 I\n",
      "14 O\n",
      "20 U\n"
     ]
    }
   ],
   "source": [
    "vowels = 'aeiou'\n",
    "\n",
    "for pos, letter in enumerate(alphabet):\n",
    "    if letter.lower() in vowels:\n",
    "        print(pos, letter)"
   ]
  },
  {
   "cell_type": "markdown",
   "metadata": {},
   "source": [
    "#### Example: A simple concordance listing"
   ]
  },
  {
   "cell_type": "markdown",
   "metadata": {},
   "source": [
    "* This gives a simple way to build a KWIC concordance"
   ]
  },
  {
   "cell_type": "code",
   "execution_count": 40,
   "metadata": {},
   "outputs": [
    {
     "name": "stdout",
     "output_type": "stream",
     "text": [
      "['said', 'happily', 'and', 'she', 'ate', 'it', 'all', 'up']\n",
      "['all', 'up', 'after', \"she'd\", 'eaten', 'the', 'three', \"bears'\"]\n",
      "['saw', 'three', 'chairs', 'goldilocks', 'sat', 'in', 'the', 'first']\n",
      "['she', 'exclaimed', 'so', 'she', 'sat', 'in', 'the', 'second']\n",
      "['asleep', 'as', 'she', 'was', 'sleeping', 'the', 'three', 'bears']\n",
      "['came', 'home', \"someone's\", 'been', 'eating', 'my', 'porridge', 'growled']\n",
      "['papa', 'bear', \"someone's\", 'been', 'eating', 'my', 'porridge', 'said']\n",
      "['mama', 'bear', \"someone's\", 'been', 'eating', 'my', 'porridge', 'and']\n",
      "['my', 'porridge', 'and', 'they', 'ate', 'it', 'all', 'up']\n",
      "['baby', 'bear', \"someone's\", 'been', 'sitting', 'in', 'my', 'chair']\n",
      "['papa', 'bear', \"someone's\", 'been', 'sitting', 'in', 'my', 'chair']\n",
      "['mama', 'bear', \"someone's\", 'been', 'sitting', 'in', 'my', 'chair']\n",
      "['bear', 'growled', \"someone's\", 'been', 'sleeping', 'in', 'my', 'bed']\n",
      "['my', 'bed', \"someone's\", 'been', 'sleeping', 'in', 'my', 'bed']\n",
      "['mama', 'bear', \"someone's\", 'been', 'sleeping', 'in', 'my', 'bed']\n"
     ]
    }
   ],
   "source": [
    "for pos, word in enumerate(three_bears_tokens):\n",
    "    if word in word_list:\n",
    "        print(three_bears_tokens[pos-4:pos+4])"
   ]
  },
  {
   "cell_type": "markdown",
   "metadata": {},
   "source": [
    "![](pythonista_badge.png)\n",
    "### List comprehensions \n",
    "\n",
    "* OK so here is the cool stuff!\n",
    "* **List comprehensions** are a way to do this kind of loop+condition list filtering in one line of code"
   ]
  },
  {
   "cell_type": "code",
   "execution_count": 42,
   "metadata": {},
   "outputs": [],
   "source": [
    "some_letters = ['A','B','C','D','E']"
   ]
  },
  {
   "cell_type": "markdown",
   "metadata": {},
   "source": [
    "* The syntax may seem a little strange at first.\n",
    "* We use the same `for _ in _list_` construction, but without the `:` and indented block.\n",
    "* Instead the code that would be in the block comes **BEFORE** the `for`\n",
    "* Like this:"
   ]
  },
  {
   "cell_type": "code",
   "execution_count": 43,
   "metadata": {},
   "outputs": [
    {
     "data": {
      "text/plain": [
       "['A', 'B', 'C', 'D', 'E']"
      ]
     },
     "execution_count": 43,
     "metadata": {},
     "output_type": "execute_result"
    }
   ],
   "source": [
    "[l for l in some_letters]"
   ]
  },
  {
   "cell_type": "markdown",
   "metadata": {},
   "source": [
    "* So here we've:\n",
    "    1. looped over each item in the list and pointed to it with `l` \n",
    "    2. created a new list one item at a item with the current value pointed to added each time"
   ]
  },
  {
   "cell_type": "code",
   "execution_count": 44,
   "metadata": {},
   "outputs": [],
   "source": [
    "some_letters2 = [letter for letter in some_letters]"
   ]
  },
  {
   "cell_type": "code",
   "execution_count": 45,
   "metadata": {},
   "outputs": [
    {
     "data": {
      "text/plain": [
       "['A', 'B', 'C', 'D', 'E']"
      ]
     },
     "execution_count": 45,
     "metadata": {},
     "output_type": "execute_result"
    }
   ],
   "source": [
    "some_letters2"
   ]
  },
  {
   "cell_type": "markdown",
   "metadata": {},
   "source": [
    "* Ummm... so not a big deal right now BUT...\n",
    "* We can add a condition after the `for _ in _list_` like this:"
   ]
  },
  {
   "cell_type": "code",
   "execution_count": 46,
   "metadata": {},
   "outputs": [
    {
     "data": {
      "text/plain": [
       "['A', 'E']"
      ]
     },
     "execution_count": 46,
     "metadata": {},
     "output_type": "execute_result"
    }
   ],
   "source": [
    "[l for l in some_letters if l in ['A','E']]"
   ]
  },
  {
   "cell_type": "code",
   "execution_count": 47,
   "metadata": {},
   "outputs": [
    {
     "data": {
      "text/plain": [
       "['A', 'E', 'A', 'E', 'A', 'E', 'A', 'E', 'A', 'E']"
      ]
     },
     "execution_count": 47,
     "metadata": {},
     "output_type": "execute_result"
    }
   ],
   "source": [
    "[l for l in some_letters*5 if l in ['A','E']]"
   ]
  },
  {
   "cell_type": "markdown",
   "metadata": {},
   "source": [
    "### And...\n",
    "\n",
    "* This..."
   ]
  },
  {
   "cell_type": "code",
   "execution_count": null,
   "metadata": {},
   "outputs": [],
   "source": [
    "filtered_tokens = []\n",
    "for token in three_bears_tokens:\n",
    "    if token in word_list:\n",
    "        filtered_tokens.append(token)"
   ]
  },
  {
   "cell_type": "markdown",
   "metadata": {},
   "source": [
    "* Becomes this..."
   ]
  },
  {
   "cell_type": "code",
   "execution_count": 49,
   "metadata": {},
   "outputs": [],
   "source": [
    "filtered_tokens2 = [token for token in three_bears_tokens if token in word_list]"
   ]
  },
  {
   "cell_type": "code",
   "execution_count": 50,
   "metadata": {},
   "outputs": [
    {
     "data": {
      "text/plain": [
       "['ate',\n",
       " 'eaten',\n",
       " 'sat',\n",
       " 'sat',\n",
       " 'sleeping',\n",
       " 'eating',\n",
       " 'eating',\n",
       " 'eating',\n",
       " 'ate',\n",
       " 'sitting',\n",
       " 'sitting',\n",
       " 'sitting',\n",
       " 'sleeping',\n",
       " 'sleeping',\n",
       " 'sleeping']"
      ]
     },
     "execution_count": 50,
     "metadata": {},
     "output_type": "execute_result"
    }
   ],
   "source": [
    "filtered_tokens"
   ]
  },
  {
   "cell_type": "code",
   "execution_count": 51,
   "metadata": {},
   "outputs": [
    {
     "data": {
      "text/plain": [
       "['ate',\n",
       " 'eaten',\n",
       " 'sat',\n",
       " 'sat',\n",
       " 'sleeping',\n",
       " 'eating',\n",
       " 'eating',\n",
       " 'eating',\n",
       " 'ate',\n",
       " 'sitting',\n",
       " 'sitting',\n",
       " 'sitting',\n",
       " 'sleeping',\n",
       " 'sleeping',\n",
       " 'sleeping']"
      ]
     },
     "execution_count": 51,
     "metadata": {},
     "output_type": "execute_result"
    }
   ],
   "source": [
    "filtered_tokens2"
   ]
  },
  {
   "cell_type": "markdown",
   "metadata": {},
   "source": [
    "### OK enough for now... \n",
    "\n",
    "* But spend sometime trying this idiom out... you will see it **A LOT**!"
   ]
  },
  {
   "cell_type": "markdown",
   "metadata": {},
   "source": [
    "## Building a corpus from a single text file\n",
    "\n",
    "* You'll often find you get a large text file that contains many texts that you want to be able to analyze individually.\n",
    "* It is usually best to split them into a series of smaller files or into a list and save in a spreadsheet like (columns and rows CSV file).\n",
    "\n",
    "### A couple of quick examples\n",
    "\n",
    "1. The Brothers Grimm Fairy Tales from _Project Guttenberg_(http://www.gutenberg.org/files/2591/2591-0.txt)\n",
    "      \n",
    "2. The downloaded results of a search using _LexisNexis_"
   ]
  },
  {
   "cell_type": "code",
   "execution_count": 1,
   "metadata": {},
   "outputs": [],
   "source": [
    "grimm_url = 'http://www.gutenberg.org/files/2591/2591-0.txt'"
   ]
  },
  {
   "cell_type": "markdown",
   "metadata": {},
   "source": [
    "* We can use the `requests.get()` function to load the contents of a internet resource (i.e. web page) into a string"
   ]
  },
  {
   "cell_type": "code",
   "execution_count": 103,
   "metadata": {},
   "outputs": [],
   "source": [
    "resp=requests.get(grimm_url)\n",
    "grimm_text = resp.text"
   ]
  },
  {
   "cell_type": "code",
   "execution_count": 108,
   "metadata": {
    "scrolled": false
   },
   "outputs": [
    {
     "name": "stdout",
     "output_type": "stream",
     "text": [
      "﻿The Project Gutenberg EBook of Grimms’ Fairy Tales, by The Brothers Grimm\r\n",
      "\r\n",
      "This eBook is for the use of anyone anywhere at no cost and with\r\n",
      "almost no restrictions whatsoever.  You may copy it, give it away or\r\n",
      "re-use it under the terms of the Project Gutenberg License included\r\n",
      "with this eBook or online at www.gutenberg.org\r\n",
      "\r\n",
      "\r\n",
      "Title: Grimms’ Fairy Tales\r\n",
      "\r\n",
      "Author: The Brothers Grimm\r\n",
      "\r\n",
      "Translator: Edgar Taylor and Marian Edwardes\r\n",
      "\r\n",
      "Posting Date: December 14, 2008 [EBook #2591]\r\n",
      "Release Date: April, 2001\r\n",
      "Last Updated: November 7, 2016\r\n",
      "\r\n",
      "Language: English\r\n",
      "\r\n",
      "Character set encoding: UTF-8\r\n",
      "\r\n",
      "*** START OF THIS PROJECT GUTENBERG EBOOK GRIMMS’ FAIRY TALES ***\r\n",
      "\r\n",
      "\r\n",
      "\r\n",
      "\r\n",
      "Produced by Emma Dudding, John Bickers, and Dagny\r\n",
      "\r\n",
      "\r\n",
      "\r\n",
      "\r\n",
      "\r\n",
      "FAIRY TALES\r\n",
      "\r\n",
      "By The Brothers Grimm\r\n",
      "\r\n",
      "\r\n",
      "\r\n",
      "PREPARER’S NOTE\r\n",
      "\r\n",
      "     The text is based on translations from\r\n",
      "     the Grimms’ Kinder und Hausmarchen by\r\n",
      "     Edgar Taylor and Marian Edwardes.\r\n",
      "\r\n",
      "\r\n",
      "\r\n",
      "\r\n",
      "CONTENTS:\r\n",
      "\r\n",
      "     THE GOLDEN BIRD\r\n",
      "     HANS IN LUCK\r\n",
      "     JORINDA AND JORINDEL\r\n",
      "     THE TRAVELLING MUSICIANS\r\n",
      "     OLD SULTAN\r\n",
      "     THE STRAW, THE COAL, AND THE BEAN\r\n",
      "     BRIAR ROSE\r\n",
      "     THE DOG AND THE SPARROW\r\n",
      "     THE TWELVE DANCING PRINCESSES\r\n",
      "     THE FISHERMAN AND HIS WIFE\r\n",
      "     THE WILLOW-WREN AND THE BEAR\r\n",
      "     THE FROG-PRINCE\r\n",
      "     CAT AND MOUSE IN PARTNERSHIP\r\n",
      "     THE GOOSE-GIRL\r\n",
      "     THE ADVENTURES OF CHANTICLEER AND PARTLET\r\n",
      "       1. HOW THEY WENT TO THE MOUNTAINS TO EAT NUTS\r\n",
      "       2. HOW CHANTICLEER AND PARTLET WENT TO VISIT MR KORBES\r\n",
      "     RAPUNZEL\r\n",
      "     FUNDEVOGEL\r\n",
      "     THE VALIANT LITTLE TAILOR\r\n",
      "     HANSEL AND GRETEL\r\n",
      "     THE MOUSE, THE BIRD, AND THE SAUSAGE\r\n",
      "     MOTHER HOLLE\r\n",
      "     LITTLE RED-CAP [LITTLE RED RIDING HOOD]\r\n",
      "     THE ROBBER BRIDEGROOM\r\n",
      "     TOM THUMB\r\n",
      "     RUMPELSTILTSKIN\r\n",
      "     CLEVER GRETEL\r\n",
      "     THE OLD MAN AND HIS GRANDSON\r\n",
      "     THE LITTLE PEASANT\r\n",
      "     FREDERICK AND CATHERINE\r\n",
      "     SWEETHEART ROLAND\r\n",
      "     SNOWDROP\r\n",
      "     THE PINK\r\n",
      "     CLEVER ELSIE\r\n",
      "     THE MISER IN THE BUSH\r\n",
      "     ASHPUTTEL\r\n",
      "     THE WHITE SNAKE\r\n",
      "     THE WOLF AND THE SEVEN LITTLE KIDS\r\n",
      "     THE QUEEN BEE\r\n",
      "     THE ELVES AND THE SHOEMAKER\r\n",
      "     THE JUNIPER-TREE\r\n",
      "     the juniper-tree.\r\n",
      "     THE TURNIP\r\n",
      "     CLEVER HANS\r\n",
      "     THE THREE LANGUAGES\r\n",
      "     THE FOX AND THE CAT\r\n",
      "     THE FOUR CLEVER BROTHERS\r\n",
      "     LILY AND THE LION\r\n",
      "     THE FOX AND THE HORSE\r\n",
      "     THE BLUE LIGHT\r\n",
      "     THE RAVEN\r\n",
      "     THE GOLDEN GOOSE\r\n",
      "     THE WATER OF LIFE\r\n",
      "     THE TWELVE HUNTSMEN\r\n",
      "     THE KING OF THE GOLDEN MOUNTAIN\r\n",
      "     DOCTOR KNOWALL\r\n",
      "     THE SEVEN RAVENS\r\n",
      "     THE WEDDING OF MRS FOX\r\n",
      "     FIRST STORY\r\n",
      "     SECOND STORY\r\n",
      "     THE SALAD\r\n",
      "     THE STORY OF THE YOUTH WHO WENT FORTH TO LEARN WHAT FEAR WAS\r\n",
      "     KING GRISLY-BEARD\r\n",
      "     IRON HANS\r\n",
      "     CAT-SKIN\r\n",
      "     SNOW-WHITE AND ROSE-RED\r\n",
      "\r\n",
      "\r\n",
      "\r\n",
      "\r\n",
      "THE BROTHERS GRIMM FAIRY TALES\r\n",
      "\r\n",
      "\r\n",
      "\r\n",
      "\r\n",
      "THE GOLDEN BIRD\r\n",
      "\r\n",
      "A certain king had a beautiful garden, and in the garden stood a tree\r\n",
      "which bore golden apples. These apples were always counted, and about\r\n",
      "the time when they began to grow ripe \n"
     ]
    }
   ],
   "source": [
    "print(grimm_text[:3000])"
   ]
  },
  {
   "cell_type": "markdown",
   "metadata": {},
   "source": [
    "* Then we can use familar string functions and slicing to locate key bits of the large file that we might want to split up."
   ]
  },
  {
   "cell_type": "code",
   "execution_count": 105,
   "metadata": {},
   "outputs": [
    {
     "data": {
      "text/plain": [
       "549812"
      ]
     },
     "execution_count": 105,
     "metadata": {},
     "output_type": "execute_result"
    }
   ],
   "source": [
    "len(grimm_text)"
   ]
  },
  {
   "cell_type": "code",
   "execution_count": 106,
   "metadata": {},
   "outputs": [
    {
     "data": {
      "text/plain": [
       "941"
      ]
     },
     "execution_count": 106,
     "metadata": {},
     "output_type": "execute_result"
    }
   ],
   "source": [
    "grimm_text.find('CONTENTS')"
   ]
  },
  {
   "cell_type": "code",
   "execution_count": 109,
   "metadata": {},
   "outputs": [
    {
     "data": {
      "text/plain": [
       "2761"
      ]
     },
     "execution_count": 109,
     "metadata": {},
     "output_type": "execute_result"
    }
   ],
   "source": [
    "grimm_text.find('THE BROTHERS GRIMM')"
   ]
  },
  {
   "cell_type": "code",
   "execution_count": 110,
   "metadata": {},
   "outputs": [],
   "source": [
    "contents=grimm_text[950:2761]"
   ]
  },
  {
   "cell_type": "code",
   "execution_count": 111,
   "metadata": {},
   "outputs": [
    {
     "name": "stdout",
     "output_type": "stream",
     "text": [
      "\r\n",
      "\r\n",
      "     THE GOLDEN BIRD\r\n",
      "     HANS IN LUCK\r\n",
      "     JORINDA AND JORINDEL\r\n",
      "     THE TRAVELLING MUSICIANS\r\n",
      "     OLD SULTAN\r\n",
      "     THE STRAW, THE COAL, AND THE BEAN\r\n",
      "     BRIAR ROSE\r\n",
      "     THE DOG AND THE SPARROW\r\n",
      "     THE TWELVE DANCING PRINCESSES\r\n",
      "     THE FISHERMAN AND HIS WIFE\r\n",
      "     THE WILLOW-WREN AND THE BEAR\r\n",
      "     THE FROG-PRINCE\r\n",
      "     CAT AND MOUSE IN PARTNERSHIP\r\n",
      "     THE GOOSE-GIRL\r\n",
      "     THE ADVENTURES OF CHANTICLEER AND PARTLET\r\n",
      "       1. HOW THEY WENT TO THE MOUNTAINS TO EAT NUTS\r\n",
      "       2. HOW CHANTICLEER AND PARTLET WENT TO VISIT MR KORBES\r\n",
      "     RAPUNZEL\r\n",
      "     FUNDEVOGEL\r\n",
      "     THE VALIANT LITTLE TAILOR\r\n",
      "     HANSEL AND GRETEL\r\n",
      "     THE MOUSE, THE BIRD, AND THE SAUSAGE\r\n",
      "     MOTHER HOLLE\r\n",
      "     LITTLE RED-CAP [LITTLE RED RIDING HOOD]\r\n",
      "     THE ROBBER BRIDEGROOM\r\n",
      "     TOM THUMB\r\n",
      "     RUMPELSTILTSKIN\r\n",
      "     CLEVER GRETEL\r\n",
      "     THE OLD MAN AND HIS GRANDSON\r\n",
      "     THE LITTLE PEASANT\r\n",
      "     FREDERICK AND CATHERINE\r\n",
      "     SWEETHEART ROLAND\r\n",
      "     SNOWDROP\r\n",
      "     THE PINK\r\n",
      "     CLEVER ELSIE\r\n",
      "     THE MISER IN THE BUSH\r\n",
      "     ASHPUTTEL\r\n",
      "     THE WHITE SNAKE\r\n",
      "     THE WOLF AND THE SEVEN LITTLE KIDS\r\n",
      "     THE QUEEN BEE\r\n",
      "     THE ELVES AND THE SHOEMAKER\r\n",
      "     THE JUNIPER-TREE\r\n",
      "     the juniper-tree.\r\n",
      "     THE TURNIP\r\n",
      "     CLEVER HANS\r\n",
      "     THE THREE LANGUAGES\r\n",
      "     THE FOX AND THE CAT\r\n",
      "     THE FOUR CLEVER BROTHERS\r\n",
      "     LILY AND THE LION\r\n",
      "     THE FOX AND THE HORSE\r\n",
      "     THE BLUE LIGHT\r\n",
      "     THE RAVEN\r\n",
      "     THE GOLDEN GOOSE\r\n",
      "     THE WATER OF LIFE\r\n",
      "     THE TWELVE HUNTSMEN\r\n",
      "     THE KING OF THE GOLDEN MOUNTAIN\r\n",
      "     DOCTOR KNOWALL\r\n",
      "     THE SEVEN RAVENS\r\n",
      "     THE WEDDING OF MRS FOX\r\n",
      "     FIRST STORY\r\n",
      "     SECOND STORY\r\n",
      "     THE SALAD\r\n",
      "     THE STORY OF THE YOUTH WHO WENT FORTH TO LEARN WHAT FEAR WAS\r\n",
      "     KING GRISLY-BEARD\r\n",
      "     IRON HANS\r\n",
      "     CAT-SKIN\r\n",
      "     SNOW-WHITE AND ROSE-RED\r\n",
      "\r\n",
      "\r\n",
      "\r\n",
      "\r\n",
      "\n"
     ]
    }
   ],
   "source": [
    "print(contents)"
   ]
  },
  {
   "cell_type": "code",
   "execution_count": 113,
   "metadata": {},
   "outputs": [],
   "source": [
    "contents_list=[line.strip() for line in contents.split('\\r\\n') if line>'']"
   ]
  },
  {
   "cell_type": "code",
   "execution_count": 114,
   "metadata": {},
   "outputs": [
    {
     "name": "stdout",
     "output_type": "stream",
     "text": [
      "0 THE GOLDEN BIRD\n",
      "1 HANS IN LUCK\n",
      "2 JORINDA AND JORINDEL\n",
      "3 THE TRAVELLING MUSICIANS\n",
      "4 OLD SULTAN\n",
      "5 THE STRAW, THE COAL, AND THE BEAN\n",
      "6 BRIAR ROSE\n",
      "7 THE DOG AND THE SPARROW\n",
      "8 THE TWELVE DANCING PRINCESSES\n",
      "9 THE FISHERMAN AND HIS WIFE\n",
      "10 THE WILLOW-WREN AND THE BEAR\n",
      "11 THE FROG-PRINCE\n",
      "12 CAT AND MOUSE IN PARTNERSHIP\n",
      "13 THE GOOSE-GIRL\n",
      "14 THE ADVENTURES OF CHANTICLEER AND PARTLET\n",
      "15 1. HOW THEY WENT TO THE MOUNTAINS TO EAT NUTS\n",
      "16 2. HOW CHANTICLEER AND PARTLET WENT TO VISIT MR KORBES\n",
      "17 RAPUNZEL\n",
      "18 FUNDEVOGEL\n",
      "19 THE VALIANT LITTLE TAILOR\n",
      "20 HANSEL AND GRETEL\n",
      "21 THE MOUSE, THE BIRD, AND THE SAUSAGE\n",
      "22 MOTHER HOLLE\n",
      "23 LITTLE RED-CAP [LITTLE RED RIDING HOOD]\n",
      "24 THE ROBBER BRIDEGROOM\n",
      "25 TOM THUMB\n",
      "26 RUMPELSTILTSKIN\n",
      "27 CLEVER GRETEL\n",
      "28 THE OLD MAN AND HIS GRANDSON\n",
      "29 THE LITTLE PEASANT\n",
      "30 FREDERICK AND CATHERINE\n",
      "31 SWEETHEART ROLAND\n",
      "32 SNOWDROP\n",
      "33 THE PINK\n",
      "34 CLEVER ELSIE\n",
      "35 THE MISER IN THE BUSH\n",
      "36 ASHPUTTEL\n",
      "37 THE WHITE SNAKE\n",
      "38 THE WOLF AND THE SEVEN LITTLE KIDS\n",
      "39 THE QUEEN BEE\n",
      "40 THE ELVES AND THE SHOEMAKER\n",
      "41 THE JUNIPER-TREE\n",
      "42 the juniper-tree.\n",
      "43 THE TURNIP\n",
      "44 CLEVER HANS\n",
      "45 THE THREE LANGUAGES\n",
      "46 THE FOX AND THE CAT\n",
      "47 THE FOUR CLEVER BROTHERS\n",
      "48 LILY AND THE LION\n",
      "49 THE FOX AND THE HORSE\n",
      "50 THE BLUE LIGHT\n",
      "51 THE RAVEN\n",
      "52 THE GOLDEN GOOSE\n",
      "53 THE WATER OF LIFE\n",
      "54 THE TWELVE HUNTSMEN\n",
      "55 THE KING OF THE GOLDEN MOUNTAIN\n",
      "56 DOCTOR KNOWALL\n",
      "57 THE SEVEN RAVENS\n",
      "58 THE WEDDING OF MRS FOX\n",
      "59 FIRST STORY\n",
      "60 SECOND STORY\n",
      "61 THE SALAD\n",
      "62 THE STORY OF THE YOUTH WHO WENT FORTH TO LEARN WHAT FEAR WAS\n",
      "63 KING GRISLY-BEARD\n",
      "64 IRON HANS\n",
      "65 CAT-SKIN\n",
      "66 SNOW-WHITE AND ROSE-RED\n"
     ]
    }
   ],
   "source": [
    "for i,item in enumerate(contents_list):\n",
    "    print(i,item)"
   ]
  },
  {
   "cell_type": "code",
   "execution_count": 115,
   "metadata": {},
   "outputs": [],
   "source": [
    "story_titles=[item for i,item in enumerate(contents_list) if i not in (15,16,42,57,58)]"
   ]
  },
  {
   "cell_type": "code",
   "execution_count": 116,
   "metadata": {},
   "outputs": [
    {
     "data": {
      "text/plain": [
       "['THE GOLDEN BIRD',\n",
       " 'HANS IN LUCK',\n",
       " 'JORINDA AND JORINDEL',\n",
       " 'THE TRAVELLING MUSICIANS',\n",
       " 'OLD SULTAN',\n",
       " 'THE STRAW, THE COAL, AND THE BEAN',\n",
       " 'BRIAR ROSE',\n",
       " 'THE DOG AND THE SPARROW',\n",
       " 'THE TWELVE DANCING PRINCESSES',\n",
       " 'THE FISHERMAN AND HIS WIFE',\n",
       " 'THE WILLOW-WREN AND THE BEAR',\n",
       " 'THE FROG-PRINCE',\n",
       " 'CAT AND MOUSE IN PARTNERSHIP',\n",
       " 'THE GOOSE-GIRL',\n",
       " 'THE ADVENTURES OF CHANTICLEER AND PARTLET',\n",
       " 'RAPUNZEL',\n",
       " 'FUNDEVOGEL',\n",
       " 'THE VALIANT LITTLE TAILOR',\n",
       " 'HANSEL AND GRETEL',\n",
       " 'THE MOUSE, THE BIRD, AND THE SAUSAGE',\n",
       " 'MOTHER HOLLE',\n",
       " 'LITTLE RED-CAP [LITTLE RED RIDING HOOD]',\n",
       " 'THE ROBBER BRIDEGROOM',\n",
       " 'TOM THUMB',\n",
       " 'RUMPELSTILTSKIN',\n",
       " 'CLEVER GRETEL',\n",
       " 'THE OLD MAN AND HIS GRANDSON',\n",
       " 'THE LITTLE PEASANT',\n",
       " 'FREDERICK AND CATHERINE',\n",
       " 'SWEETHEART ROLAND',\n",
       " 'SNOWDROP',\n",
       " 'THE PINK',\n",
       " 'CLEVER ELSIE',\n",
       " 'THE MISER IN THE BUSH',\n",
       " 'ASHPUTTEL',\n",
       " 'THE WHITE SNAKE',\n",
       " 'THE WOLF AND THE SEVEN LITTLE KIDS',\n",
       " 'THE QUEEN BEE',\n",
       " 'THE ELVES AND THE SHOEMAKER',\n",
       " 'THE JUNIPER-TREE',\n",
       " 'THE TURNIP',\n",
       " 'CLEVER HANS',\n",
       " 'THE THREE LANGUAGES',\n",
       " 'THE FOX AND THE CAT',\n",
       " 'THE FOUR CLEVER BROTHERS',\n",
       " 'LILY AND THE LION',\n",
       " 'THE FOX AND THE HORSE',\n",
       " 'THE BLUE LIGHT',\n",
       " 'THE RAVEN',\n",
       " 'THE GOLDEN GOOSE',\n",
       " 'THE WATER OF LIFE',\n",
       " 'THE TWELVE HUNTSMEN',\n",
       " 'THE KING OF THE GOLDEN MOUNTAIN',\n",
       " 'DOCTOR KNOWALL',\n",
       " 'FIRST STORY',\n",
       " 'SECOND STORY',\n",
       " 'THE SALAD',\n",
       " 'THE STORY OF THE YOUTH WHO WENT FORTH TO LEARN WHAT FEAR WAS',\n",
       " 'KING GRISLY-BEARD',\n",
       " 'IRON HANS',\n",
       " 'CAT-SKIN',\n",
       " 'SNOW-WHITE AND ROSE-RED']"
      ]
     },
     "execution_count": 116,
     "metadata": {},
     "output_type": "execute_result"
    }
   ],
   "source": [
    "story_titles"
   ]
  },
  {
   "cell_type": "code",
   "execution_count": 119,
   "metadata": {},
   "outputs": [
    {
     "data": {
      "text/plain": [
       "'ied in Section 4, “Information about donations to\\r\\n     the Project Gutenberg Literary Archive Foundation.”\\r\\n\\r\\n- You provide a full refund of any money paid by a user who notifies\\r\\n     you in writing (or by e-mail) within 30 days of receipt that s/he\\r\\n     does not agree to the terms of the full Project Gutenberg-tm\\r\\n     License.  You must require such a user to return or\\r\\n     destroy all copies of the works possessed in a physical medium\\r\\n     and discontinue all use of and all access to other copies of\\r\\n     Project Gutenberg-tm works.\\r\\n\\r\\n- You provide, in accordance with paragraph 1.F.3, a full refund of any\\r\\n     money paid for a work or a replacement copy, if a defect in the\\r\\n     electronic work is discovered and reported to you within 90 days\\r\\n     of receipt of the work.\\r\\n\\r\\n- You comply with all other terms of this agreement for free\\r\\n     distribution of Project Gutenberg-tm works.\\r\\n\\r\\n1.E.9.  If you wish to charge a fee or distribute a Project Gutenberg-tm\\r\\nelectronic work or group of works on different terms than are set\\r\\nforth in this agreement, you must obtain permission in writing from\\r\\nboth the Project Gutenberg Literary Archive Foundation and Michael\\r\\nHart, the owner of the Project Gutenberg-tm trademark.  Contact the\\r\\nFoundation as set forth in Section 3 below.\\r\\n\\r\\n1.F.\\r\\n\\r\\n1.F.1.  Project Gutenberg volunteers and employees expend considerable\\r\\neffort to identify, do copyright research on, transcribe and proofread\\r\\npublic domain works in creating the Project Gutenberg-tm\\r\\ncollection.  Despite these efforts, Project Gutenberg-tm electronic\\r\\nworks, and the medium on which they may be stored, may contain\\r\\n“Defects,” such as, but not limited to, incomplete, inaccurate or\\r\\ncorrupt data, transcription errors, a copyright or other intellectual\\r\\nproperty infringement, a defective or damaged disk or other medium, a\\r\\ncomputer virus, or computer codes that damage or cannot be read by\\r\\nyour equipment.\\r\\n\\r\\n1.F.2.  LIMITED WARRANTY, DISCLAIMER OF DAMAGES - Except for the “Right\\r\\nof Replacement or Refund” described in paragraph 1.F.3, the Project\\r\\nGutenberg Literary Archive Foundation, the owner of the Project\\r\\nGutenberg-tm trademark, and any other party distributing a Project\\r\\nGutenberg-tm electronic work under this agreement, disclaim all\\r\\nliability to you for damages, costs and expenses, including legal\\r\\nfees.  YOU AGREE THAT YOU HAVE NO REMEDIES FOR NEGLIGENCE, STRICT\\r\\nLIABILITY, BREACH OF WARRANTY OR BREACH OF CONTRACT EXCEPT THOSE\\r\\nPROVIDED IN PARAGRAPH F3.  YOU AGREE THAT THE FOUNDATION, THE\\r\\nTRADEMARK OWNER, AND ANY DISTRIBUTOR UNDER THIS AGREEMENT WILL NOT BE\\r\\nLIABLE TO YOU FOR ACTUAL, DIRECT, INDIRECT, CONSEQUENTIAL, PUNITIVE OR\\r\\nINCIDENTAL DAMAGES EVEN IF YOU GIVE NOTICE OF THE POSSIBILITY OF SUCH\\r\\nDAMAGE.\\r\\n\\r\\n1.F.3.  LIMITED RIGHT OF REPLACEMENT OR REFUND - If you discover a\\r\\ndefect in this electronic work within 90 days of receiving it, you can\\r\\nreceive a refund of the money (if any) you paid for it by sending a\\r\\nwritten explanation to the person you received the work from.  If you\\r\\nreceived the work on a physical medium, you must return the medium with\\r\\nyour written explanation.  The person or entity that provided you with\\r\\nthe defective work may elect to provide a replacement copy in lieu of a\\r\\nrefund.  If you received the work electronically, the person or entity\\r\\nproviding it to you may choose to give you a second opportunity to\\r\\nreceive the work electronically in lieu of a refund.  If the second copy\\r\\nis also defective, you may demand a refund in writing without further\\r\\nopportunities to fix the problem.\\r\\n\\r\\n1.F.4.  Except for the limited right of replacement or refund set forth\\r\\nin paragraph 1.F.3, this work is provided to you ‘AS-IS’ WITH NO OTHER\\r\\nWARRANTIES OF ANY KIND, EXPRESS OR IMPLIED, INCLUDING BUT NOT LIMITED TO\\r\\nWARRANTIES OF MERCHANTIBILITY OR FITNESS FOR ANY PURPOSE.\\r\\n\\r\\n1.F.5.  Some states do not allow disclaimers of certain implied\\r\\nwarranties or the exclusion or limitation of certain types of damages.\\r\\nIf any disclaimer or limitation set forth in this agreement violates the\\r\\nlaw of the state applicable to this agreement, the agreement shall be\\r\\ninterpreted to make the maximum disclaimer or limitation permitted by\\r\\nthe applicable state law.  The invalidity or unenforceability of any\\r\\nprovision of this agreement shall not void the remaining provisions.\\r\\n\\r\\n1.F.6.  INDEMNITY - You agree to indemnify and hold the Foundation, the\\r\\ntrademark owner, any agent or employee of the Foundation, anyone\\r\\nproviding copies of Project Gutenberg-tm electronic works in accordance\\r\\nwith this agreement, and any volunteers associated with the production,\\r\\npromotion and distribution of Project Gutenberg-tm electronic works,\\r\\nharmless from all liability, costs and expenses, including legal fees,\\r\\nthat arise directly or indirectly from any of the following which you do\\r\\nor cause to occur: (a) distribution of this or any Project Gutenberg-tm\\r\\nwork, (b) alteration, modification, or additions or deletions to any\\r\\nProject Gutenberg-tm work, and (c) any Defect you cause.\\r\\n\\r\\n\\r\\nSection  2.  Information about the Mission of Project Gutenberg-tm\\r\\n\\r\\nProject Gutenberg-tm is synonymous with the free distribution of\\r\\nelectronic works in formats readable by the widest variety of computers\\r\\nincluding obsolete, old, middle-aged and new computers.  It exists\\r\\nbecause of the efforts of hundreds of volunteers and donations from\\r\\npeople in all walks of life.\\r\\n\\r\\nVolunteers and financial support to provide volunteers with the\\r\\nassistance they need, is critical to reaching Project Gutenberg-tm’s\\r\\ngoals and ensuring that the Project Gutenberg-tm collection will\\r\\nremain freely available for generations to come.  In 2001, the Project\\r\\nGutenberg Literary Archive Foundation was created to provide a secure\\r\\nand permanent future for Project Gutenberg-tm and future generations.\\r\\nTo learn more about the Project Gutenberg Literary Archive Foundation\\r\\nand how your efforts and donations can help, see Sections 3 and 4\\r\\nand the Foundation web page at http://www.pglaf.org.\\r\\n\\r\\n\\r\\nSection 3.  Information about the Project Gutenberg Literary Archive\\r\\nFoundation\\r\\n\\r\\nThe Project Gutenberg Literary Archive Foundation is a non profit\\r\\n501(c)(3) educational corporation organized under the laws of the\\r\\nstate of Mississippi and granted tax exempt status by the Internal\\r\\nRevenue Service.  The Foundation’s EIN or federal tax identification\\r\\nnumber is 64-6221541.  Its 501(c)(3) letter is posted at\\r\\nhttp://pglaf.org/fundraising.  Contributions to the Project Gutenberg\\r\\nLiterary Archive Foundation are tax deductible to the full extent\\r\\npermitted by U.S. federal laws and your state’s laws.\\r\\n\\r\\nThe Foundation’s principal office is located at 4557 Melan Dr. S.\\r\\nFairbanks, AK, 99712., but its volunteers and employees are scattered\\r\\nthroughout numerous locations.  Its business office is located at\\r\\n809 North 1500 West, Salt Lake City, UT 84116, (801) 596-1887, email\\r\\nbusiness@pglaf.org.  Email contact links and up to date contact\\r\\ninformation can be found at the Foundation’s web site and official\\r\\npage at http://pglaf.org\\r\\n\\r\\nFor additional contact information:\\r\\n     Dr. Gregory B. Newby\\r\\n     Chief Executive and Director\\r\\n     gbnewby@pglaf.org\\r\\n\\r\\n\\r\\nSection 4.  Information about Donations to the Project Gutenberg\\r\\nLiterary Archive Foundation\\r\\n\\r\\nProject Gutenberg-tm depends upon and cannot survive without wide\\r\\nspread public support and donations to carry out its mission of\\r\\nincreasing the number of public domain and licensed works that can be\\r\\nfreely distributed in machine readable form accessible by the widest\\r\\narray of equipment including outdated equipment.  Many small donations\\r\\n($1 to $5,000) are particularly important to maintaining tax exempt\\r\\nstatus with the IRS.\\r\\n\\r\\nThe Foundation is committed to complying with the laws regulating\\r\\ncharities and charitable donations in all 50 states of the United\\r\\nStates.  Compliance requirements are not uniform and it takes a\\r\\nconsiderable effort, much paperwork and many fees to meet and keep up\\r\\nwith these requirements.  We do not solicit donations in locations\\r\\nwhere we have not received written confirmation of compliance.  To\\r\\nSEND DONATIONS or determine the status of compliance for any\\r\\nparticular state visit http://pglaf.org\\r\\n\\r\\nWhile we cannot and do not solicit contributions from states where we\\r\\nhave not met the solicitation requirements, we know of no prohibition\\r\\nagainst accepting unsolicited donations from donors in such states who\\r\\napproach us with offers to donate.\\r\\n\\r\\nInternational donations are gratefully accepted, but we cannot make\\r\\nany statements concerning tax treatment of donations received from\\r\\noutside the United States.  U.S. laws alone swamp our small staff.\\r\\n\\r\\nPlease check the Project Gutenberg Web pages for current donation\\r\\nmethods and addresses.  Donations are accepted in a number of other\\r\\nways including checks, online payments and credit card donations.\\r\\nTo donate, please visit: http://pglaf.org/donate\\r\\n\\r\\n\\r\\nSection 5.  General Information About Project Gutenberg-tm electronic\\r\\nworks.\\r\\n\\r\\nProfessor Michael S. Hart is the originator of the Project Gutenberg-tm\\r\\nconcept of a library of electronic works that could be freely shared\\r\\nwith anyone.  For thirty years, he produced and distributed Project\\r\\nGutenberg-tm eBooks with only a loose network of volunteer support.\\r\\n\\r\\n\\r\\nProject Gutenberg-tm eBooks are often created from several printed\\r\\neditions, all of which are confirmed as Public Domain in the U.S.\\r\\nunless a copyright notice is included.  Thus, we do not necessarily\\r\\nkeep eBooks in compliance with any particular paper edition.\\r\\n\\r\\n\\r\\nMost people start at our Web site which has the main PG search facility:\\r\\n\\r\\n     http://www.gutenberg.org\\r\\n\\r\\nThis Web site includes information about Project Gutenberg-tm,\\r\\nincluding how to make donations to the Project Gutenberg Literary\\r\\nArchive Foundation, how to help produce our new eBooks, and how to\\r\\nsubscribe to our email newsletter to hear about new eBooks.\\r\\n'"
      ]
     },
     "execution_count": 119,
     "metadata": {},
     "output_type": "execute_result"
    }
   ],
   "source": [
    "grimm_text[-10000:]"
   ]
  },
  {
   "cell_type": "code",
   "execution_count": 120,
   "metadata": {},
   "outputs": [],
   "source": [
    "stories=grimm_text[2800:grimm_text.find('*****')]"
   ]
  },
  {
   "cell_type": "code",
   "execution_count": 122,
   "metadata": {},
   "outputs": [
    {
     "data": {
      "text/plain": [
       "'d peacefully and happily with\\r\\nher children for many years. She took the two rose-trees with her, and\\r\\nthey stood before her window, and every year bore the most beautiful\\r\\nroses, white and red.\\r\\n\\r\\n\\r\\n'"
      ]
     },
     "execution_count": 122,
     "metadata": {},
     "output_type": "execute_result"
    }
   ],
   "source": [
    "stories[-200:]"
   ]
  },
  {
   "cell_type": "code",
   "execution_count": 124,
   "metadata": {},
   "outputs": [
    {
     "data": {
      "text/plain": [
       "['THE GOLDEN BIRD',\n",
       " 'HANS IN LUCK',\n",
       " 'JORINDA AND JORINDEL',\n",
       " 'THE TRAVELLING MUSICIANS',\n",
       " 'OLD SULTAN',\n",
       " 'THE STRAW, THE COAL, AND THE BEAN',\n",
       " 'BRIAR ROSE',\n",
       " 'THE DOG AND THE SPARROW',\n",
       " 'THE TWELVE DANCING PRINCESSES',\n",
       " 'THE FISHERMAN AND HIS WIFE',\n",
       " 'THE WILLOW-WREN AND THE BEAR',\n",
       " 'THE FROG-PRINCE',\n",
       " 'CAT AND MOUSE IN PARTNERSHIP',\n",
       " 'THE GOOSE-GIRL',\n",
       " 'THE ADVENTURES OF CHANTICLEER AND PARTLET',\n",
       " 'RAPUNZEL',\n",
       " 'FUNDEVOGEL',\n",
       " 'THE VALIANT LITTLE TAILOR',\n",
       " 'HANSEL AND GRETEL',\n",
       " 'THE MOUSE, THE BIRD, AND THE SAUSAGE',\n",
       " 'MOTHER HOLLE',\n",
       " 'LITTLE RED-CAP [LITTLE RED RIDING HOOD]',\n",
       " 'THE ROBBER BRIDEGROOM',\n",
       " 'TOM THUMB',\n",
       " 'RUMPELSTILTSKIN',\n",
       " 'CLEVER GRETEL',\n",
       " 'THE OLD MAN AND HIS GRANDSON',\n",
       " 'THE LITTLE PEASANT',\n",
       " 'FREDERICK AND CATHERINE',\n",
       " 'SWEETHEART ROLAND',\n",
       " 'SNOWDROP',\n",
       " 'THE PINK',\n",
       " 'CLEVER ELSIE',\n",
       " 'THE MISER IN THE BUSH',\n",
       " 'ASHPUTTEL',\n",
       " 'THE WHITE SNAKE',\n",
       " 'THE WOLF AND THE SEVEN LITTLE KIDS',\n",
       " 'THE QUEEN BEE',\n",
       " 'THE ELVES AND THE SHOEMAKER',\n",
       " 'THE JUNIPER-TREE',\n",
       " 'THE TURNIP',\n",
       " 'CLEVER HANS',\n",
       " 'THE THREE LANGUAGES',\n",
       " 'THE FOX AND THE CAT',\n",
       " 'THE FOUR CLEVER BROTHERS',\n",
       " 'LILY AND THE LION',\n",
       " 'THE FOX AND THE HORSE',\n",
       " 'THE BLUE LIGHT',\n",
       " 'THE RAVEN',\n",
       " 'THE GOLDEN GOOSE',\n",
       " 'THE WATER OF LIFE',\n",
       " 'THE TWELVE HUNTSMEN',\n",
       " 'THE KING OF THE GOLDEN MOUNTAIN',\n",
       " 'DOCTOR KNOWALL',\n",
       " 'FIRST STORY',\n",
       " 'SECOND STORY',\n",
       " 'THE SALAD',\n",
       " 'THE STORY OF THE YOUTH WHO WENT FORTH TO LEARN WHAT FEAR WAS',\n",
       " 'KING GRISLY-BEARD',\n",
       " 'IRON HANS',\n",
       " 'CAT-SKIN',\n",
       " 'SNOW-WHITE AND ROSE-RED']"
      ]
     },
     "execution_count": 124,
     "metadata": {},
     "output_type": "execute_result"
    }
   ],
   "source": [
    "story_titles"
   ]
  },
  {
   "cell_type": "code",
   "execution_count": 30,
   "metadata": {},
   "outputs": [
    {
     "name": "stdout",
     "output_type": "stream",
     "text": [
      "0    THE GOLDEN BIRD                                            1     12719\n",
      "1    HANS IN LUCK                                           12719     24688\n",
      "2    JORINDA AND JORINDEL                                   24688     30710\n",
      "3    THE TRAVELLING MUSICIANS                               30710     37764\n",
      "4    OLD SULTAN                                             37764     42232\n",
      "5    THE STRAW, THE COAL, AND THE BEAN                      42232     44987\n",
      "6    BRIAR ROSE                                             44987     52935\n",
      "7    THE DOG AND THE SPARROW                                52935     59887\n",
      "8    THE TWELVE DANCING PRINCESSES                          59887     68395\n",
      "9    THE FISHERMAN AND HIS WIFE                             68395     79350\n",
      "10   THE WILLOW-WREN AND THE BEAR                           79350     84258\n",
      "11   THE FROG-PRINCE                                        84258     90425\n",
      "12   CAT AND MOUSE IN PARTNERSHIP                           90425     95618\n",
      "13   THE GOOSE-GIRL                                         95618    107249\n",
      "14   THE ADVENTURES OF CHANTICLEER AND PARTLET             107249    117139\n",
      "15   RAPUNZEL                                              117139    124550\n",
      "16   FUNDEVOGEL                                            124550    129550\n",
      "17   THE VALIANT LITTLE TAILOR                             129550    147248\n",
      "18   HANSEL AND GRETEL                                     147248    162916\n",
      "19   THE MOUSE, THE BIRD, AND THE SAUSAGE                  162916    166666\n",
      "20   MOTHER HOLLE                                          166666    173333\n",
      "21   LITTLE RED-CAP [LITTLE RED RIDING HOOD]               173333    180917\n",
      "22   THE ROBBER BRIDEGROOM                                 180917    188748\n",
      "23   TOM THUMB                                             188748    201656\n",
      "24   RUMPELSTILTSKIN                                       201656    207630\n",
      "25   CLEVER GRETEL                                         207630    212552\n",
      "26   THE OLD MAN AND HIS GRANDSON                          212552    213885\n",
      "27   THE LITTLE PEASANT                                    213885    224850\n",
      "28   FREDERICK AND CATHERINE                               224850    234753\n",
      "29   SWEETHEART ROLAND                                     234753    242537\n",
      "30   SNOWDROP                                              242537    255071\n",
      "31   THE PINK                                              255071    264303\n",
      "32   CLEVER ELSIE                                          264303    271189\n",
      "33   THE MISER IN THE BUSH                                 271189    277288\n",
      "34   ASHPUTTEL                                             277288    290797\n",
      "35   THE WHITE SNAKE                                       290797    299322\n",
      "36   THE WOLF AND THE SEVEN LITTLE KIDS                    299322    305179\n",
      "37   THE QUEEN BEE                                         305179    309622\n",
      "38   THE ELVES AND THE SHOEMAKER                           309622    313528\n",
      "39   THE JUNIPER-TREE                                      313528    329926\n",
      "40   THE TURNIP                                            329926    335962\n",
      "41   CLEVER HANS                                           335962    341225\n",
      "42   THE THREE LANGUAGES                                   341225    346154\n",
      "43   THE FOX AND THE CAT                                   346154    347679\n",
      "44   THE FOUR CLEVER BROTHERS                              347679    356445\n",
      "45   LILY AND THE LION                                     356445    368602\n",
      "46   THE FOX AND THE HORSE                                 368602    371138\n",
      "47   THE BLUE LIGHT                                        371138    380328\n",
      "48   THE RAVEN                                             380328    392916\n",
      "49   THE GOLDEN GOOSE                                      392916    401191\n",
      "50   THE WATER OF LIFE                                     401191    415637\n",
      "51   THE TWELVE HUNTSMEN                                   415637    421396\n",
      "52   THE KING OF THE GOLDEN MOUNTAIN                       421396    433998\n",
      "53   DOCTOR KNOWALL                                        433998    443352\n",
      "54   FIRST STORY                                           443352    445536\n",
      "55   SECOND STORY                                          445536    447558\n",
      "56   THE SALAD                                             447558    458735\n",
      "57   THE STORY OF THE YOUTH WHO WENT FORTH TO LEARN WHAT FEAR WAS    458735    478552\n",
      "58   KING GRISLY-BEARD                                     478552    486234\n",
      "59   IRON HANS                                             486234    502912\n",
      "60   CAT-SKIN                                              502912    513680\n",
      "61   SNOW-WHITE AND ROSE-RED                               513680    526673\n"
     ]
    }
   ],
   "source": [
    "for sidx, title in enumerate(story_titles):\n",
    "    start_pos = stories.find(title)\n",
    "    \n",
    "    if sidx==len(story_titles)-1:\n",
    "        end_pos = len(stories)\n",
    "    else:\n",
    "        end_pos = stories.find(story_titles[sidx+1])\n",
    "        \n",
    "    print(\"{: <5}{: <50}{: >10}{: >10}\".format(sidx, title, start_pos, end_pos))"
   ]
  },
  {
   "cell_type": "code",
   "execution_count": 125,
   "metadata": {},
   "outputs": [],
   "source": [
    "if not os.path.exists('data/fairy_tales'):\n",
    "    os.makedirs('data/fairy_tales')"
   ]
  },
  {
   "cell_type": "code",
   "execution_count": 126,
   "metadata": {},
   "outputs": [
    {
     "name": "stdout",
     "output_type": "stream",
     "text": [
      "0 THE GOLDEN BIRD 1 12719\n",
      "\twritten to data/fairy_tales/the_golden_bird.txt\n",
      "\n",
      "1 HANS IN LUCK 12719 24688\n",
      "\twritten to data/fairy_tales/hans_in_luck.txt\n",
      "\n",
      "2 JORINDA AND JORINDEL 24688 30710\n",
      "\twritten to data/fairy_tales/jorinda_and_jorindel.txt\n",
      "\n",
      "3 THE TRAVELLING MUSICIANS 30710 37764\n",
      "\twritten to data/fairy_tales/the_travelling_musicians.txt\n",
      "\n",
      "4 OLD SULTAN 37764 42232\n",
      "\twritten to data/fairy_tales/old_sultan.txt\n",
      "\n",
      "5 THE STRAW, THE COAL, AND THE BEAN 42232 44987\n",
      "\twritten to data/fairy_tales/the_straw_the_coal_and_the_bean.txt\n",
      "\n",
      "6 BRIAR ROSE 44987 52935\n",
      "\twritten to data/fairy_tales/briar_rose.txt\n",
      "\n",
      "7 THE DOG AND THE SPARROW 52935 59887\n",
      "\twritten to data/fairy_tales/the_dog_and_the_sparrow.txt\n",
      "\n",
      "8 THE TWELVE DANCING PRINCESSES 59887 68395\n",
      "\twritten to data/fairy_tales/the_twelve_dancing_princesses.txt\n",
      "\n",
      "9 THE FISHERMAN AND HIS WIFE 68395 79350\n",
      "\twritten to data/fairy_tales/the_fisherman_and_his_wife.txt\n",
      "\n",
      "10 THE WILLOW-WREN AND THE BEAR 79350 84258\n",
      "\twritten to data/fairy_tales/the_willow-wren_and_the_bear.txt\n",
      "\n",
      "11 THE FROG-PRINCE 84258 90425\n",
      "\twritten to data/fairy_tales/the_frog-prince.txt\n",
      "\n",
      "12 CAT AND MOUSE IN PARTNERSHIP 90425 95618\n",
      "\twritten to data/fairy_tales/cat_and_mouse_in_partnership.txt\n",
      "\n",
      "13 THE GOOSE-GIRL 95618 107249\n",
      "\twritten to data/fairy_tales/the_goose-girl.txt\n",
      "\n",
      "14 THE ADVENTURES OF CHANTICLEER AND PARTLET 107249 117139\n",
      "\twritten to data/fairy_tales/the_adventures_of_chanticleer_and_partlet.txt\n",
      "\n",
      "15 RAPUNZEL 117139 124550\n",
      "\twritten to data/fairy_tales/rapunzel.txt\n",
      "\n",
      "16 FUNDEVOGEL 124550 129550\n",
      "\twritten to data/fairy_tales/fundevogel.txt\n",
      "\n",
      "17 THE VALIANT LITTLE TAILOR 129550 147248\n",
      "\twritten to data/fairy_tales/the_valiant_little_tailor.txt\n",
      "\n",
      "18 HANSEL AND GRETEL 147248 162916\n",
      "\twritten to data/fairy_tales/hansel_and_gretel.txt\n",
      "\n",
      "19 THE MOUSE, THE BIRD, AND THE SAUSAGE 162916 166666\n",
      "\twritten to data/fairy_tales/the_mouse_the_bird_and_the_sausage.txt\n",
      "\n",
      "20 MOTHER HOLLE 166666 173333\n",
      "\twritten to data/fairy_tales/mother_holle.txt\n",
      "\n",
      "21 LITTLE RED-CAP [LITTLE RED RIDING HOOD] 173333 180917\n",
      "\twritten to data/fairy_tales/little_red-cap_little_red_riding_hood.txt\n",
      "\n",
      "22 THE ROBBER BRIDEGROOM 180917 188748\n",
      "\twritten to data/fairy_tales/the_robber_bridegroom.txt\n",
      "\n",
      "23 TOM THUMB 188748 201656\n",
      "\twritten to data/fairy_tales/tom_thumb.txt\n",
      "\n",
      "24 RUMPELSTILTSKIN 201656 207630\n",
      "\twritten to data/fairy_tales/rumpelstiltskin.txt\n",
      "\n",
      "25 CLEVER GRETEL 207630 212552\n",
      "\twritten to data/fairy_tales/clever_gretel.txt\n",
      "\n",
      "26 THE OLD MAN AND HIS GRANDSON 212552 213885\n",
      "\twritten to data/fairy_tales/the_old_man_and_his_grandson.txt\n",
      "\n",
      "27 THE LITTLE PEASANT 213885 224850\n",
      "\twritten to data/fairy_tales/the_little_peasant.txt\n",
      "\n",
      "28 FREDERICK AND CATHERINE 224850 234753\n",
      "\twritten to data/fairy_tales/frederick_and_catherine.txt\n",
      "\n",
      "29 SWEETHEART ROLAND 234753 242537\n",
      "\twritten to data/fairy_tales/sweetheart_roland.txt\n",
      "\n",
      "30 SNOWDROP 242537 255071\n",
      "\twritten to data/fairy_tales/snowdrop.txt\n",
      "\n",
      "31 THE PINK 255071 264303\n",
      "\twritten to data/fairy_tales/the_pink.txt\n",
      "\n",
      "32 CLEVER ELSIE 264303 271189\n",
      "\twritten to data/fairy_tales/clever_elsie.txt\n",
      "\n",
      "33 THE MISER IN THE BUSH 271189 277288\n",
      "\twritten to data/fairy_tales/the_miser_in_the_bush.txt\n",
      "\n",
      "34 ASHPUTTEL 277288 290797\n",
      "\twritten to data/fairy_tales/ashputtel.txt\n",
      "\n",
      "35 THE WHITE SNAKE 290797 299322\n",
      "\twritten to data/fairy_tales/the_white_snake.txt\n",
      "\n",
      "36 THE WOLF AND THE SEVEN LITTLE KIDS 299322 305179\n",
      "\twritten to data/fairy_tales/the_wolf_and_the_seven_little_kids.txt\n",
      "\n",
      "37 THE QUEEN BEE 305179 309622\n",
      "\twritten to data/fairy_tales/the_queen_bee.txt\n",
      "\n",
      "38 THE ELVES AND THE SHOEMAKER 309622 313528\n",
      "\twritten to data/fairy_tales/the_elves_and_the_shoemaker.txt\n",
      "\n",
      "39 THE JUNIPER-TREE 313528 329926\n",
      "\twritten to data/fairy_tales/the_juniper-tree.txt\n",
      "\n",
      "40 THE TURNIP 329926 335962\n",
      "\twritten to data/fairy_tales/the_turnip.txt\n",
      "\n",
      "41 CLEVER HANS 335962 341225\n",
      "\twritten to data/fairy_tales/clever_hans.txt\n",
      "\n",
      "42 THE THREE LANGUAGES 341225 346154\n",
      "\twritten to data/fairy_tales/the_three_languages.txt\n",
      "\n",
      "43 THE FOX AND THE CAT 346154 347679\n",
      "\twritten to data/fairy_tales/the_fox_and_the_cat.txt\n",
      "\n",
      "44 THE FOUR CLEVER BROTHERS 347679 356445\n",
      "\twritten to data/fairy_tales/the_four_clever_brothers.txt\n",
      "\n",
      "45 LILY AND THE LION 356445 368602\n",
      "\twritten to data/fairy_tales/lily_and_the_lion.txt\n",
      "\n",
      "46 THE FOX AND THE HORSE 368602 371138\n",
      "\twritten to data/fairy_tales/the_fox_and_the_horse.txt\n",
      "\n",
      "47 THE BLUE LIGHT 371138 380328\n",
      "\twritten to data/fairy_tales/the_blue_light.txt\n",
      "\n",
      "48 THE RAVEN 380328 392916\n",
      "\twritten to data/fairy_tales/the_raven.txt\n",
      "\n",
      "49 THE GOLDEN GOOSE 392916 401191\n",
      "\twritten to data/fairy_tales/the_golden_goose.txt\n",
      "\n",
      "50 THE WATER OF LIFE 401191 415637\n",
      "\twritten to data/fairy_tales/the_water_of_life.txt\n",
      "\n",
      "51 THE TWELVE HUNTSMEN 415637 421396\n",
      "\twritten to data/fairy_tales/the_twelve_huntsmen.txt\n",
      "\n",
      "52 THE KING OF THE GOLDEN MOUNTAIN 421396 433998\n",
      "\twritten to data/fairy_tales/the_king_of_the_golden_mountain.txt\n",
      "\n",
      "53 DOCTOR KNOWALL 433998 443352\n",
      "\twritten to data/fairy_tales/doctor_knowall.txt\n",
      "\n",
      "54 FIRST STORY 443352 445536\n",
      "\twritten to data/fairy_tales/first_story.txt\n",
      "\n",
      "55 SECOND STORY 445536 447558\n",
      "\twritten to data/fairy_tales/second_story.txt\n",
      "\n",
      "56 THE SALAD 447558 458735\n",
      "\twritten to data/fairy_tales/the_salad.txt\n",
      "\n",
      "57 THE STORY OF THE YOUTH WHO WENT FORTH TO LEARN WHAT FEAR WAS 458735 478552\n",
      "\twritten to data/fairy_tales/the_story_of_the_youth_who_went_forth_to_learn_what_fear_was.txt\n",
      "\n",
      "58 KING GRISLY-BEARD 478552 486234\n",
      "\twritten to data/fairy_tales/king_grisly-beard.txt\n",
      "\n",
      "59 IRON HANS 486234 502912\n",
      "\twritten to data/fairy_tales/iron_hans.txt\n",
      "\n",
      "60 CAT-SKIN 502912 513680\n",
      "\twritten to data/fairy_tales/cat-skin.txt\n",
      "\n",
      "61 SNOW-WHITE AND ROSE-RED 513680 526673\n",
      "\twritten to data/fairy_tales/snow-white_and_rose-red.txt\n",
      "\n"
     ]
    }
   ],
   "source": [
    "\n",
    "\n",
    "for sidx, title in enumerate(story_titles):\n",
    "    start_pos = stories.find(title)\n",
    "    \n",
    "    if sidx==len(story_titles)-1:\n",
    "        end_pos = len(stories)\n",
    "    else:\n",
    "        end_pos = stories.find(story_titles[sidx+1])\n",
    "        \n",
    "    print(sidx, story_titles[sidx], start_pos, end_pos)\n",
    "    \n",
    "    filename = title.replace(' ','_').replace('[','').replace(']','').replace(',','')\n",
    "    \n",
    "    with open('data/fairy_tales/{}.txt'.format(filename.lower()),'w') as out:\n",
    "        out.write(stories[start_pos:end_pos])\n",
    "        print('\\twritten to data/fairy_tales/{}.txt\\n'.format(filename.lower()))"
   ]
  },
  {
   "cell_type": "code",
   "execution_count": null,
   "metadata": {},
   "outputs": [],
   "source": []
  },
  {
   "cell_type": "markdown",
   "metadata": {},
   "source": [
    "## Navigating a web page and extracting content with Python\n",
    "\n",
    "* In the Jupyter file browser open the file `my_webpage.html` \n",
    "    1. by clicking on it (this should open it as a webpage)\n",
    "    2. by selecting the checkbox and the Edit menu button\n",
    "    "
   ]
  },
  {
   "cell_type": "code",
   "execution_count": 127,
   "metadata": {},
   "outputs": [
    {
     "name": "stdout",
     "output_type": "stream",
     "text": [
      "<html>\n",
      "    \n",
      "    \n",
      "    <head>\n",
      "        <title>My webpage</title>\n",
      "        \n",
      "        <style>\n",
      "            \n",
      "        </style>\n",
      "    </head>\n",
      "    \n",
      "    <body>\n",
      "        <h1>This is a top level heading</h1>\n",
      "        \n",
      "        <p>A paragraph of text.</p>\n",
      "        \n",
      "        <p>Another one</p>\n",
      "        \n",
      "        <h2>A second level heading</h2>\n",
      "        \n",
      "        <p>And then another paragraph with text.</p>\n",
      "    </body>\n",
      "</html>\n"
     ]
    }
   ],
   "source": [
    "content=open('my_webpage.html').read()\n",
    "\n",
    "print(content)"
   ]
  },
  {
   "cell_type": "code",
   "execution_count": 128,
   "metadata": {},
   "outputs": [
    {
     "data": {
      "text/plain": [
       "[('level', 2),\n",
       " ('paragraph', 2),\n",
       " ('text.</p>', 2),\n",
       " ('<html>', 1),\n",
       " ('<head>', 1),\n",
       " ('<title>My', 1),\n",
       " ('webpage</title>', 1),\n",
       " ('<style>', 1),\n",
       " ('</style>', 1),\n",
       " ('</head>', 1),\n",
       " ('<body>', 1),\n",
       " ('<h1>This', 1),\n",
       " ('is', 1),\n",
       " ('a', 1),\n",
       " ('top', 1),\n",
       " ('heading</h1>', 1),\n",
       " ('<p>A', 1),\n",
       " ('of', 1),\n",
       " ('<p>Another', 1),\n",
       " ('one</p>', 1),\n",
       " ('<h2>A', 1),\n",
       " ('second', 1),\n",
       " ('heading</h2>', 1),\n",
       " ('<p>And', 1),\n",
       " ('then', 1),\n",
       " ('another', 1),\n",
       " ('with', 1),\n",
       " ('</body>', 1),\n",
       " ('</html>', 1)]"
      ]
     },
     "execution_count": 128,
     "metadata": {},
     "output_type": "execute_result"
    }
   ],
   "source": [
    "Counter(content.split()).most_common()"
   ]
  },
  {
   "cell_type": "code",
   "execution_count": 129,
   "metadata": {},
   "outputs": [],
   "source": [
    "html_doc = BeautifulSoup(content, 'lxml')"
   ]
  },
  {
   "cell_type": "code",
   "execution_count": 130,
   "metadata": {},
   "outputs": [
    {
     "data": {
      "text/plain": [
       "[<p>A paragraph of text.</p>,\n",
       " <p>Another one</p>,\n",
       " <p>And then another paragraph with text.</p>]"
      ]
     },
     "execution_count": 130,
     "metadata": {},
     "output_type": "execute_result"
    }
   ],
   "source": [
    "html_doc.find_all('p')"
   ]
  },
  {
   "cell_type": "code",
   "execution_count": 131,
   "metadata": {},
   "outputs": [
    {
     "data": {
      "text/plain": [
       "[<h1>This is a top level heading</h1>,\n",
       " <p>A paragraph of text.</p>,\n",
       " <p>Another one</p>,\n",
       " <h2>A second level heading</h2>,\n",
       " <p>And then another paragraph with text.</p>]"
      ]
     },
     "execution_count": 131,
     "metadata": {},
     "output_type": "execute_result"
    }
   ],
   "source": [
    "html_doc.find_all(['p','h1','h2'])"
   ]
  },
  {
   "cell_type": "code",
   "execution_count": 38,
   "metadata": {},
   "outputs": [
    {
     "name": "stdout",
     "output_type": "stream",
     "text": [
      "This is a top level heading\n",
      "A paragraph of text.\n",
      "Another one\n",
      "A second level heading\n",
      "And then another paragraph with text.\n"
     ]
    }
   ],
   "source": [
    "content_tags = html_doc.find_all(['p','h1','h2'])\n",
    "\n",
    "for tag in content_tags:\n",
    "    print(tag.text)"
   ]
  },
  {
   "cell_type": "code",
   "execution_count": 132,
   "metadata": {},
   "outputs": [],
   "source": [
    "content = [t.text for t in content_tags]"
   ]
  },
  {
   "cell_type": "code",
   "execution_count": 133,
   "metadata": {},
   "outputs": [
    {
     "data": {
      "text/plain": [
       "['This is a top level heading',\n",
       " 'A paragraph of text.',\n",
       " 'Another one',\n",
       " 'A second level heading',\n",
       " 'And then another paragraph with text.']"
      ]
     },
     "execution_count": 133,
     "metadata": {},
     "output_type": "execute_result"
    }
   ],
   "source": [
    "content"
   ]
  },
  {
   "cell_type": "code",
   "execution_count": 134,
   "metadata": {},
   "outputs": [
    {
     "data": {
      "text/plain": [
       "[('level', 2),\n",
       " ('heading', 2),\n",
       " ('A', 2),\n",
       " ('paragraph', 2),\n",
       " ('text.', 2),\n",
       " ('This', 1),\n",
       " ('is', 1),\n",
       " ('a', 1),\n",
       " ('top', 1),\n",
       " ('of', 1),\n",
       " ('Another', 1),\n",
       " ('one', 1),\n",
       " ('second', 1),\n",
       " ('And', 1),\n",
       " ('then', 1),\n",
       " ('another', 1),\n",
       " ('with', 1)]"
      ]
     },
     "execution_count": 134,
     "metadata": {},
     "output_type": "execute_result"
    }
   ],
   "source": [
    "Counter('\\n '.join(content).split()).most_common()"
   ]
  },
  {
   "cell_type": "markdown",
   "metadata": {},
   "source": [
    "### Ok a real world example\n",
    "\n",
    "* Example news article: \n",
    "    * https://www.theguardian.com/technology/shortcuts/2019/feb/10/how-did-apples-airpods-go-from-mockery-to-millennial-status-symbol"
   ]
  },
  {
   "cell_type": "code",
   "execution_count": 135,
   "metadata": {},
   "outputs": [],
   "source": [
    "article_url = 'https://www.theguardian.com/technology/shortcuts/2019/feb/10/how-did-apples-airpods-go-from-mockery-to-millennial-status-symbol'"
   ]
  },
  {
   "cell_type": "code",
   "execution_count": 136,
   "metadata": {},
   "outputs": [],
   "source": [
    "page_content = requests.get(article_url).text"
   ]
  },
  {
   "cell_type": "code",
   "execution_count": 137,
   "metadata": {},
   "outputs": [
    {
     "name": "stdout",
     "output_type": "stream",
     "text": [
      "\n",
      "<!DOCTYPE html>\n",
      "<html id=\"js-context\" class=\"js-off is-not-modern id--signed-out\" lang=\"en\" data-page-path=\"/technology/shortcuts/2019/feb/10/how-did-apples-airpods-go-from-mockery-to-millennial-status-symbol\">\n",
      "<head>\n",
      "<!--\n",
      "     __        __                      _     _      _\n",
      "     \\ \\      / /__    __ _ _ __ ___  | |__ (_)_ __(_)_ __   __ _\n",
      "      \\ \\ /\\ / / _ \\  / _` | '__/ _ \\ | '_ \\| | '__| | '_ \\ / _` |\n",
      "       \\ V  V /  __/ | (_| | | |  __/ | | | | | |  | | | | | (_| |\n",
      "        \\_/\\_/ \\___|  \\__,_|_|  \\___| |_| |_|_|_|  |_|_| |_|\\__, |\n",
      "                                                            |___/\n",
      "    Ever thought about joining us?\n",
      "    https://workforus.theguardian.com/careers/digital-development/\n",
      "     --->\n",
      "<title>How did Apple’s AirPods go from mockery to millennial status symbol? | Technology | The Guardian</title>\n",
      "<meta charset=\"utf-8\">\n",
      "<meta http-equiv=\"X-UA-Compatible\" content=\"IE=Edge\"/>\n",
      "<meta name=\"format-detection\" content=\"telephone=no\"/>\n",
      "<meta name=\"HandheldFriendly\" content=\"True\"/>\n",
      "<meta name=\"viewport\" content=\"width=device-width,minimum-scale=1,initial-scale=1\">\n",
      "<link rel=\"dns-prefetch\" href=\"https://assets.guim.co.uk/\"/>\n",
      "<link rel=\"dns-prefetch\" href=\"https://i.guim.co.uk\"/>\n",
      "<link rel=\"dns-prefetch\" href=\"https://api.nextgen.guardianapps.co.uk\"/>\n",
      "<link rel=\"dns-prefetch\" href=\"https://hits-secure.theguardian.com\"/>\n",
      "<link rel=\"dns-prefetch\" href=\"//j.ophan.co.uk\"/>\n",
      "<link rel=\"dns-prefetch\" href=\"//ophan.theguardian.com\"/>\n",
      "<link rel=\"dns-prefetch\" href=\"//phar.gu-web.net\"/>\n",
      "<link rel=\"dns-prefetch\" href=\"//www.google-analytics.com\"/>\n",
      "<link rel=\"preconnect\" href=\"https://assets.guim.co.uk/\"/>\n",
      "<link rel=\"preconnect\" href=\"https://i.guim.co.uk\"/>\n",
      "<link rel=\"preconnect\" href=\"//interactive.guim.co.uk\"/>\n",
      "<link rel=\"preconnect\" href=\"//www.google-analytics.com\"/>\n",
      "<link rel=\"dns-prefetch\" href=\"//sb.scorecardresearch.com\"/>\n",
      "<link rel=\"apple-touch-icon\" sizes=\"152x152\" href=\"https://assets.guim.co.uk/images/favicons/fee5e2d638d1c35f6d501fa397e53329/152x152.png\"/>\n",
      "<link rel=\"apple-touch-icon\" sizes=\"144x144\" href=\"https://assets.guim.co.uk/images/favicons/1fe70b29879674433702d5266abcb0d4/144x144.png\"/>\n",
      "<link rel=\"apple-touch-icon\" sizes=\"120x120\" href=\"https://assets.guim.co.uk/images/favicons/c58143bd2a5b5426b6256cd90ba6eb47/120x120.png\"/>\n",
      "<link rel=\"apple-touch-icon\" sizes=\"114x114\" href=\"https://assets.guim.co.uk/images/favicons/68cbd5cf267598abd6a026f229ef6b45/114x114.png\"/>\n",
      "<link rel=\"apple-touch-icon\" sizes=\"72x72\" href=\"https://assets.guim.co.uk/images/favicons/873381bf11d58e20f551905d51575117/72x72.png\"/>\n",
      "<link rel=\"apple-touch-icon-precomposed\" href=\"https://assets.guim.co.uk/images/favicons/6a2aa0ea5b4b6183e92d0eac49e2f58b/57x57.png\"/>\n",
      "<link rel=\"manifest\" href=\"/2015-06-24-manifest.json\" crossorigin=\"use-credentials\">\n",
      "<link rel=\"amphtml\" href=\"https://amp.theguardian.com/technology/shortcuts/2019/feb/10/how-did-apples-airpods-go-from-mockery-to-millennial-status-symbol\">\n",
      "<link rel=\"shortcut icon\" type=\"image/png\" href=\"https:\n"
     ]
    }
   ],
   "source": [
    "print(page_content[:3000])"
   ]
  },
  {
   "cell_type": "code",
   "execution_count": 138,
   "metadata": {},
   "outputs": [
    {
     "data": {
      "text/plain": [
       "[('(min-width:', 646),\n",
       " ('0', 304),\n",
       " (':', 230),\n",
       " ('.element-pullquote.element--showcase', 160),\n",
       " ('solid', 144),\n",
       " ('<li', 141),\n",
       " ('</li>', 137),\n",
       " ('<a', 135),\n",
       " ('.meta__twitter', 133),\n",
       " ('(max-width:', 130),\n",
       " ('.element-pullquote', 130),\n",
       " ('<div', 126),\n",
       " ('.meta__email', 123),\n",
       " ('</a>', 118),\n",
       " ('data-link-name=\"nav2', 112),\n",
       " ('.inline-garnett-quote', 104),\n",
       " ('</div>', 101),\n",
       " ('<span', 89),\n",
       " ('and', 77),\n",
       " ('.content__meta-container', 77)]"
      ]
     },
     "execution_count": 138,
     "metadata": {},
     "output_type": "execute_result"
    }
   ],
   "source": [
    "Counter(page_content.split()).most_common(20)"
   ]
  },
  {
   "cell_type": "code",
   "execution_count": 139,
   "metadata": {},
   "outputs": [],
   "source": [
    "doc = BeautifulSoup(page_content, 'lxml')"
   ]
  },
  {
   "cell_type": "code",
   "execution_count": 140,
   "metadata": {},
   "outputs": [],
   "source": [
    "article_content = doc.find('div', {'class': 'content__article-body'})"
   ]
  },
  {
   "cell_type": "code",
   "execution_count": 141,
   "metadata": {},
   "outputs": [
    {
     "data": {
      "text/plain": [
       "[<p><span class=\"drop-cap\"><span class=\"drop-cap__inner\">O</span></span>f all the widely ridiculed tech products, Apple’s AirPods have experienced an extraordinary turnaround. Back in 2016, they were roundly mocked by the tech industry. Tiny wireless earbuds? It seemed like a recipe for disaster – streets would be littered with these lost headphones, which would clutter up city pavements like discarded gloves and babies’ socks.</p>,\n",
       " <p>“If only there were an invention that could keep those AirPods tethered together, like a string,” wrote Ashley Esqueda from the tech website CNET <a class=\"u-underline\" data-link-name=\"in body link\" href=\"https://twitter.com/AshleyEsqueda/status/773590547625746432\">on Twitter</a>. “The beauty of the headphone cable is just like the beauty of a tampon string: it is there to help you keep track of a very important item,” wrote <a class=\"u-underline\" data-link-name=\"in body link\" href=\"https://www.theguardian.com/technology/2016/sep/07/apple-airpods-launch-problems-with-wireless-headphones\" title=\"\">Julia Carrie Wong in the Guardian</a>.</p>,\n",
       " <p>But fast-forward to 2019 and, somehow, the £159-a-pair little pods have transformed into a bona fide status symbol. <a class=\"u-underline\" data-link-name=\"in body link\" href=\"https://twitter.com/EmiliaPetrarca/status/951107369571901440\" title=\"\">Diana Ross</a> has a pair, <a class=\"u-underline\" data-link-name=\"in body link\" href=\"https://www.vogue.com/article/kristen-stewart-apple-airpods-headphones-wearable-tech-celebrity-style\" title=\"\">Kristen Stewart</a> wears them and a woman in Virginia has even started a cottage industry by <a class=\"u-underline\" data-link-name=\"in body link\" href=\"https://www.dailymail.co.uk/femail/article-6645823/22-year-old-turns-AirPods-earrings.html\" title=\"\">turning them into earrings</a> for people (which does solve the problem of inevitably losing them).</p>,\n",
       " <p>And so, the butt of the joke is not the AirPods themselves but the wealth and status of the people who wear them. Such as the former New York mayor Rudy Giuliani, who <a class=\"u-underline\" data-link-name=\"in body link\" href=\"https://www.thecut.com/2018/03/rudy-giuliani-apple-airpods-wrong.html\" title=\"\">wore his upside down</a>. As one <a class=\"u-underline\" data-link-name=\"in body link\" href=\"https://twitter.com/khaleed_id/status/1075084273785470976\" title=\"\">viral tweet joked</a>, the world’s Top 10 richest people are: 1. AirPod users; 2. The CEO of Amazon, Jeff Bezos; and 3. Bill Gates. One meme, <a class=\"u-underline\" data-link-name=\"in body link\" href=\"https://me.me/i/airpod-users-welcoming-new-members-who-received-them-for-christmas-d3ae4873ec2344969c70450fb0eefda0\" title=\"\">of a man being knighted by a queen</a>, featured the caption: “AirPod users welcoming new members who received them for Christmas.” All this has now become known as <a class=\"u-underline\" data-link-name=\"in body link\" href=\"https://knowyourmeme.com/memes/airpod-flexing\" title=\"\">“AirPod flexing” –</a> with the implication that showing off the headphones is gauche social signalling.</p>,\n",
       " <p>But is it fair? “The thing is, AirPods aren’t even the most expensive wireless headphones out there,” says Katy Leeson, the managing director of the social media marketing agency Social Chain.</p>,\n",
       " <p>That said, the jokes about them can’t have hurt <a class=\"u-underline\" data-component=\"auto-linked-tag\" data-link-name=\"auto-linked-tag\" href=\"https://www.theguardian.com/technology/apple\">Apple</a> – if anything, the people mocking the product have led to a sales bump. “People who consume memes – millennials and so on – are really hard to reach through traditional advertising,” one digital marketing executive said. This online chatter creates a “desirability” all of its own. And, with rumours of AirPods 2 on the way, it seems like the little earbuds are here to stay.</p>]"
      ]
     },
     "execution_count": 141,
     "metadata": {},
     "output_type": "execute_result"
    }
   ],
   "source": [
    "article_content.find_all('p')"
   ]
  },
  {
   "cell_type": "code",
   "execution_count": 142,
   "metadata": {},
   "outputs": [],
   "source": [
    "para_text=[p.text for p in article_content.find_all('p')]"
   ]
  },
  {
   "cell_type": "code",
   "execution_count": 143,
   "metadata": {},
   "outputs": [
    {
     "name": "stdout",
     "output_type": "stream",
     "text": [
      "['Of all the widely ridiculed tech products, Apple’s AirPods have experienced an extraordinary turnaround. Back in 2016, they were roundly mocked by the tech industry. Tiny wireless earbuds? It seemed like a recipe for disaster – streets would be littered with these lost headphones, which would clutter up city pavements like discarded gloves and babies’ socks.', '“If only there were an invention that could keep those AirPods tethered together, like a string,” wrote Ashley Esqueda from the tech website CNET on Twitter. “The beauty of the headphone cable is just like the beauty of a tampon string: it is there to help you keep track of a very important item,” wrote Julia Carrie Wong in the Guardian.', 'But fast-forward to 2019 and, somehow, the £159-a-pair little pods have transformed into a bona fide status symbol. Diana Ross has a pair, Kristen Stewart wears them and a woman in Virginia has even started a cottage industry by turning them into earrings for people (which does solve the problem of inevitably losing them).', 'And so, the butt of the joke is not the AirPods themselves but the wealth and status of the people who wear them. Such as the former New York mayor Rudy Giuliani, who wore his upside down. As one viral tweet joked, the world’s Top 10 richest people are: 1. AirPod users; 2. The CEO of Amazon, Jeff Bezos; and 3. Bill Gates. One meme, of a man being knighted by a queen, featured the caption: “AirPod users welcoming new members who received them for Christmas.” All this has now become known as “AirPod flexing” – with the implication that showing off the headphones is gauche social signalling.', 'But is it fair? “The thing is, AirPods aren’t even the most expensive wireless headphones out there,” says Katy Leeson, the managing director of the social media marketing agency Social Chain.', 'That said, the jokes about them can’t have hurt Apple – if anything, the people mocking the product have led to a sales bump. “People who consume memes – millennials and so on – are really hard to reach through traditional advertising,” one digital marketing executive said. This online chatter creates a “desirability” all of its own. And, with rumours of AirPods 2 on the way, it seems like the little earbuds are here to stay.']\n"
     ]
    }
   ],
   "source": [
    "print(para_text)"
   ]
  },
  {
   "cell_type": "code",
   "execution_count": 144,
   "metadata": {},
   "outputs": [
    {
     "data": {
      "text/plain": [
       "[('the', 26),\n",
       " ('a', 12),\n",
       " ('of', 11),\n",
       " ('AirPods', 5),\n",
       " ('like', 5),\n",
       " ('–', 5),\n",
       " ('and', 5),\n",
       " ('is', 5),\n",
       " ('to', 5),\n",
       " ('have', 4),\n",
       " ('them', 4),\n",
       " ('people', 4),\n",
       " ('who', 4),\n",
       " ('tech', 3),\n",
       " ('in', 3),\n",
       " ('by', 3),\n",
       " ('for', 3),\n",
       " ('with', 3),\n",
       " ('on', 3),\n",
       " ('it', 3)]"
      ]
     },
     "execution_count": 144,
     "metadata": {},
     "output_type": "execute_result"
    }
   ],
   "source": [
    "Counter('\\n '.join(para_text).split()).most_common(20)"
   ]
  },
  {
   "cell_type": "code",
   "execution_count": null,
   "metadata": {},
   "outputs": [],
   "source": []
  }
 ],
 "metadata": {
  "kernelspec": {
   "display_name": "Python 3",
   "language": "python",
   "name": "python3"
  },
  "language_info": {
   "codemirror_mode": {
    "name": "ipython",
    "version": 3
   },
   "file_extension": ".py",
   "mimetype": "text/x-python",
   "name": "python",
   "nbconvert_exporter": "python",
   "pygments_lexer": "ipython3",
   "version": "3.6.3"
  }
 },
 "nbformat": 4,
 "nbformat_minor": 2
}
