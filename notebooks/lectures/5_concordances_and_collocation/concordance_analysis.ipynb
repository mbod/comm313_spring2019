{
 "cells": [
  {
   "cell_type": "markdown",
   "metadata": {},
   "source": [
    "# Concordance Analysis\n",
    "\n",
    "### COMM313 Spring 2019 (02/25/19)\n",
    "\n",
    "\n",
    "## Overview \n",
    "* Discovering meaning through context\n",
    "* KWIC concordance analysis\n",
    "    * making a simple KWIC object with a list-of-lists structure\n",
    "    * sorting a KWIC object\n",
    "    * sampling lines from a KWIC\n",
    "    * discovering and summarizing patterns\n",
    "\n",
    "\n",
    "\n",
    "\n"
   ]
  },
  {
   "cell_type": "markdown",
   "metadata": {},
   "source": [
    "## Readings\n",
    "\n",
    "\n",
    "* Baker, P. (2006) Using Corpora in Discourse Analysis. London: Continuum - **Read Ch. 4**\n",
    "* NLTK Book Ch. 2 (sections 1, 2 & 4 ) http://www.nltk.org/book/ch02.html \n",
    "\n",
    "\n",
    "    "
   ]
  },
  {
   "cell_type": "markdown",
   "metadata": {},
   "source": [
    "## Setup\n",
    "\n",
    "* import modules needed - best to keep these all at the top of your notebook\n",
    "* set parameter values, e.g., diretory paths, frequently used values like a list of punctuation, etc., that will be used throughout the notebook"
   ]
  },
  {
   "cell_type": "code",
   "execution_count": 93,
   "metadata": {},
   "outputs": [],
   "source": [
    "# import modules\n",
    "\n",
    "%matplotlib inline\n",
    "\n",
    "import os\n",
    "import random\n",
    "import re\n",
    "\n",
    "import matplotlib.pyplot as plt\n",
    "import seaborn as sn\n",
    "\n",
    "from collections import Counter\n",
    "\n",
    "from IPython.display import IFrame"
   ]
  },
  {
   "cell_type": "code",
   "execution_count": 94,
   "metadata": {},
   "outputs": [],
   "source": [
    "### PARAMETERS\n",
    "\n",
    "to_strip = ',.\\xa0:-()\\';$\"/?][!`Ą@Ś§¨’–“”…ï‘>&\\\\%˝˘*'"
   ]
  },
  {
   "cell_type": "markdown",
   "metadata": {},
   "source": [
    "## Functions\n",
    "\n",
    "* Also good to put functions you are going use throughout the notebook at the top\n",
    "* These are some of the functions we have seen in previous notebooks and assignments"
   ]
  },
  {
   "cell_type": "code",
   "execution_count": 95,
   "metadata": {},
   "outputs": [],
   "source": [
    "def tokenize(text, lowercase=True, strip_chars=''):\n",
    "    '''turn a string into a list of whitespace separated tokens - after observing lowercase flag and stripping specified characters\n",
    "    \n",
    "    Args:\n",
    "        text        -- a string object containing the text to be tokenized\n",
    "        lowercase   -- whether the string should be lowercased before tokenization (default: True)\n",
    "        strip_chars -- a string containing a series of characters which should be stripped from text before tokenization (default: empty string)\n",
    "        \n",
    "    \n",
    "    Returns:\n",
    "        list of tokens\n",
    "    '''\n",
    "    if lowercase:\n",
    "        text=text.lower()\n",
    "        \n",
    "    rdict = str.maketrans('','',strip_chars)\n",
    "    text = text.translate(rdict)\n",
    "        \n",
    "    tokens=text.split()\n",
    "    \n",
    "    return tokens"
   ]
  },
  {
   "cell_type": "code",
   "execution_count": 96,
   "metadata": {},
   "outputs": [],
   "source": [
    "def make_kwic(kw, text, win=4):\n",
    "    '''A basic KWIC function for a text\n",
    "    \n",
    "    Args:\n",
    "        kw   -- string match for keyword to match for each line\n",
    "        text -- a list of tokens for the text\n",
    "        \n",
    "    Return:\n",
    "        list of lines of form [ [left context words], kw, [right context words]]\n",
    "    '''\n",
    "    \n",
    "    hits = [(w,i) for i,w in enumerate(text) if w==kw]\n",
    "    \n",
    "    lines = []\n",
    "    for hit in hits:\n",
    "        left = text[hit[1]-win:hit[1]]\n",
    "        kw = text[hit[1]]\n",
    "        right = text[hit[1]+1 : hit[1]+win+1]\n",
    "        \n",
    "        lines.append([left, kw, right])\n",
    "        \n",
    "    return lines"
   ]
  },
  {
   "cell_type": "code",
   "execution_count": 97,
   "metadata": {},
   "outputs": [],
   "source": [
    "def print_kwic(kwic, win=None):\n",
    "    '''A basic print function for a KWIC object\n",
    "    \n",
    "    Args:\n",
    "        kwic -- a list of KWIC lines of the form [ [left words], kw, [right words]]\n",
    "        win  -- if None then use all words provided in context otherwise limit by win\n",
    "        \n",
    "    Prints KWIC lines with left context width/padding win*8 characters\n",
    "    '''\n",
    "    \n",
    "    if not kwic:\n",
    "        return\n",
    "    \n",
    "    if win is None:\n",
    "        win = len(kwic[0][0])\n",
    "    \n",
    "    for line in kwic:\n",
    "        print(\"{: >{}}  {}  {}\".format(' '.join(line[0][-win:]), \n",
    "                                      win*8, \n",
    "                                      line[1], \n",
    "                                      ' '.join(line[2][:win])\n",
    "                                     )\n",
    "             )            "
   ]
  },
  {
   "cell_type": "code",
   "execution_count": 98,
   "metadata": {},
   "outputs": [],
   "source": [
    "def sort_kwic(kwic, order=None):\n",
    "    ''' sort a kwic list using the passed positional arguments \n",
    "    \n",
    "    Args:\n",
    "        kwic   -- a list of lists [ [left tokens], kw, [right tokens]]\n",
    "        order  -- a list of one or more positional arguments of form side-pos, e.g. L1, R3, L4 (default: None)\n",
    "    \n",
    "    Returns:\n",
    "        kwic sorted for each positional argument in reverse, i.e. ['R1','L1'] sorts first by L1 and then R1\n",
    "    '''\n",
    "    if order is None:\n",
    "        return kwic\n",
    "   \n",
    "    order = [order] if not type(order) is list else order\n",
    "    order.reverse()\n",
    "    \n",
    "    for sort_term in order:\n",
    "        if not re.match('[LR][1-4]', sort_term):\n",
    "            pass\n",
    "        \n",
    "        pos1 = 0 if sort_term[0]=='L' else 2\n",
    "        pos2 = int(sort_term[1])-1\n",
    "        pos2 = 3-pos2 if sort_term[0]=='L' else pos2\n",
    "        \n",
    "        kwic.sort(key=lambda l : l[pos1][pos2])\n",
    "    \n",
    "    return kwic"
   ]
  },
  {
   "cell_type": "code",
   "execution_count": null,
   "metadata": {},
   "outputs": [],
   "source": []
  },
  {
   "cell_type": "markdown",
   "metadata": {},
   "source": [
    "## Concordance (KWIC) analysis"
   ]
  },
  {
   "cell_type": "markdown",
   "metadata": {},
   "source": [
    "#### Understanding the list-of-lists structure for KWIC lines\n",
    "\n",
    "* The `make_kwic()` function returns:\n",
    "    * a `list` where each item is one concordance line containing\n",
    "         1. a `list` of tokens to the left of the keyword\n",
    "         2. the keyword\n",
    "         3. a `list` of tokens to the right of the keyword\n",
    "         \n",
    "    * so we have a `list-of-lists` structure\n",
    "    \n",
    "![](kwic_list2.png)"
   ]
  },
  {
   "cell_type": "code",
   "execution_count": 99,
   "metadata": {},
   "outputs": [],
   "source": [
    "three_bears_text = open('/data/kids/threebears.txt').read()\n",
    "three_bears_tokens = tokenize(three_bears_text, lowercase=True, strip_chars=to_strip)"
   ]
  },
  {
   "cell_type": "code",
   "execution_count": 100,
   "metadata": {},
   "outputs": [],
   "source": [
    "bear_kwic=make_kwic('bear', three_bears_tokens)"
   ]
  },
  {
   "cell_type": "code",
   "execution_count": 101,
   "metadata": {},
   "outputs": [
    {
     "data": {
      "text/plain": [
       "[[['porridge', 'growled', 'the', 'papa'],\n",
       "  'bear',\n",
       "  ['someones', 'been', 'eating', 'my']],\n",
       " [['porridge', 'said', 'the', 'mama'],\n",
       "  'bear',\n",
       "  ['someones', 'been', 'eating', 'my']],\n",
       " [['up', 'cried', 'the', 'baby'],\n",
       "  'bear',\n",
       "  ['someones', 'been', 'sitting', 'in']],\n",
       " [['chair', 'growled', 'the', 'papa'],\n",
       "  'bear',\n",
       "  ['someones', 'been', 'sitting', 'in']],\n",
       " [['chair', 'said', 'the', 'mama'],\n",
       "  'bear',\n",
       "  ['someones', 'been', 'sitting', 'in']],\n",
       " [['pieces', 'cried', 'the', 'baby'],\n",
       "  'bear',\n",
       "  ['they', 'decided', 'to', 'look']],\n",
       " [['to', 'the', 'bedroom', 'papa'],\n",
       "  'bear',\n",
       "  ['growled', 'someones', 'been', 'sleeping']],\n",
       " [['too', 'said', 'the', 'mama'],\n",
       "  'bear',\n",
       "  ['someones', 'been', 'sleeping', 'in']],\n",
       " [['still', 'there', 'exclaimed', 'baby'],\n",
       "  'bear',\n",
       "  ['just', 'then', 'goldilocks', 'woke']]]"
      ]
     },
     "execution_count": 101,
     "metadata": {},
     "output_type": "execute_result"
    }
   ],
   "source": [
    "bear_kwic"
   ]
  },
  {
   "cell_type": "code",
   "execution_count": 102,
   "metadata": {},
   "outputs": [
    {
     "name": "stdout",
     "output_type": "stream",
     "text": [
      "Found 9 instances of bear\n"
     ]
    }
   ],
   "source": [
    "print('Found {} instances of bear'.format(len(bear_kwic)))"
   ]
  },
  {
   "cell_type": "markdown",
   "metadata": {},
   "source": [
    "* So to get the first KWIC line we would use the zero index"
   ]
  },
  {
   "cell_type": "code",
   "execution_count": 103,
   "metadata": {},
   "outputs": [
    {
     "data": {
      "text/plain": [
       "[['porridge', 'growled', 'the', 'papa'],\n",
       " 'bear',\n",
       " ['someones', 'been', 'eating', 'my']]"
      ]
     },
     "execution_count": 103,
     "metadata": {},
     "output_type": "execute_result"
    }
   ],
   "source": [
    "bear_kwic[0]"
   ]
  },
  {
   "cell_type": "markdown",
   "metadata": {},
   "source": [
    "* Which you can see is itself a list with 3 items:\n",
    "    * index 0 - left context tokens (a list of length win - here 4 words)\n",
    "    * index 1 - the keyword as a string\n",
    "    * index 2 - right context tokens (a list of length win - here 4 words)\n",
    "    \n",
    "![](kwic_list3.png)"
   ]
  },
  {
   "cell_type": "markdown",
   "metadata": {},
   "source": [
    "* So left context is:"
   ]
  },
  {
   "cell_type": "code",
   "execution_count": 68,
   "metadata": {},
   "outputs": [
    {
     "data": {
      "text/plain": [
       "['porridge', 'growled', 'the', 'papa']"
      ]
     },
     "execution_count": 68,
     "metadata": {},
     "output_type": "execute_result"
    }
   ],
   "source": [
    "bear_kwic[0][0]"
   ]
  },
  {
   "cell_type": "markdown",
   "metadata": {},
   "source": [
    "* The keyword is the 1 index:"
   ]
  },
  {
   "cell_type": "code",
   "execution_count": 104,
   "metadata": {},
   "outputs": [
    {
     "data": {
      "text/plain": [
       "'bear'"
      ]
     },
     "execution_count": 104,
     "metadata": {},
     "output_type": "execute_result"
    }
   ],
   "source": [
    "bear_kwic[0][1]"
   ]
  },
  {
   "cell_type": "markdown",
   "metadata": {},
   "source": [
    "* Right context:"
   ]
  },
  {
   "cell_type": "code",
   "execution_count": 105,
   "metadata": {},
   "outputs": [
    {
     "data": {
      "text/plain": [
       "['someones', 'been', 'eating', 'my']"
      ]
     },
     "execution_count": 105,
     "metadata": {},
     "output_type": "execute_result"
    }
   ],
   "source": [
    "bear_kwic[0][2]"
   ]
  },
  {
   "cell_type": "markdown",
   "metadata": {},
   "source": [
    "* Then if we want to pick out specific words from the context we can use an additional level of indexing!\n",
    "\n",
    "\n",
    "* The fourth word to the left of the keyword is `porridge`. It is the first item in the left context list, so:"
   ]
  },
  {
   "cell_type": "code",
   "execution_count": 71,
   "metadata": {},
   "outputs": [
    {
     "data": {
      "text/plain": [
       "'porridge'"
      ]
     },
     "execution_count": 71,
     "metadata": {},
     "output_type": "execute_result"
    }
   ],
   "source": [
    "bear_kwic[0][0][0]"
   ]
  },
  {
   "cell_type": "markdown",
   "metadata": {},
   "source": [
    "* The second word to the right of the keyword is `been`. It is the second item in the right context list, so:"
   ]
  },
  {
   "cell_type": "code",
   "execution_count": 72,
   "metadata": {},
   "outputs": [
    {
     "data": {
      "text/plain": [
       "'been'"
      ]
     },
     "execution_count": 72,
     "metadata": {},
     "output_type": "execute_result"
    }
   ],
   "source": [
    "bear_kwic[0][2][1]"
   ]
  },
  {
   "cell_type": "markdown",
   "metadata": {},
   "source": [
    "* So each line has this structure and we can use negative indexing to work back from the keyword\n",
    "\n",
    "![](kwic_list4.png)"
   ]
  },
  {
   "cell_type": "markdown",
   "metadata": {},
   "source": [
    "* Here are the first two lines of the KWIC of `bear`"
   ]
  },
  {
   "cell_type": "code",
   "execution_count": 73,
   "metadata": {},
   "outputs": [
    {
     "data": {
      "text/plain": [
       "[[['porridge', 'growled', 'the', 'papa'],\n",
       "  'bear',\n",
       "  ['someones', 'been', 'eating', 'my']],\n",
       " [['porridge', 'said', 'the', 'mama'],\n",
       "  'bear',\n",
       "  ['someones', 'been', 'eating', 'my']]]"
      ]
     },
     "execution_count": 73,
     "metadata": {},
     "output_type": "execute_result"
    }
   ],
   "source": [
    "bear_kwic[0:2]"
   ]
  },
  {
   "cell_type": "markdown",
   "metadata": {},
   "source": [
    "* To get the __L1__ collocate `papa` we'd:\n",
    "    1. select the first line:\n",
    "        ```\n",
    "        bear_kwic[0]\n",
    "        ```\n",
    "    2. select the left context of the first line:\n",
    "        ```\n",
    "        bear_kwic[0][0]\n",
    "        ```\n",
    "    3. select the fourth (or last item) in the left context of the first line:\n",
    "        ```\n",
    "        bear_kwic[0][0][3]\n",
    "        ```\n",
    "        or\n",
    "        ```\n",
    "        bear_kwic[0][0][-1]\n",
    "        ```"
   ]
  },
  {
   "cell_type": "code",
   "execution_count": 74,
   "metadata": {},
   "outputs": [
    {
     "data": {
      "text/plain": [
       "'papa'"
      ]
     },
     "execution_count": 74,
     "metadata": {},
     "output_type": "execute_result"
    }
   ],
   "source": [
    "bear_kwic[0][0][3]"
   ]
  },
  {
   "cell_type": "code",
   "execution_count": 75,
   "metadata": {},
   "outputs": [
    {
     "data": {
      "text/plain": [
       "'papa'"
      ]
     },
     "execution_count": 75,
     "metadata": {},
     "output_type": "execute_result"
    }
   ],
   "source": [
    "bear_kwic[0][0][-1]"
   ]
  },
  {
   "cell_type": "markdown",
   "metadata": {},
   "source": [
    "#### Displaying and sorting KWIC objects\n",
    "\n",
    "* The `list-of-lists` structure is hard to read so we can write a `print_kwic()` function  to display the KWIC lines more nicely"
   ]
  },
  {
   "cell_type": "code",
   "execution_count": 106,
   "metadata": {},
   "outputs": [
    {
     "name": "stdout",
     "output_type": "stream",
     "text": [
      "       porridge growled the papa  bear  someones been eating my\n",
      "          porridge said the mama  bear  someones been eating my\n",
      "               up cried the baby  bear  someones been sitting in\n",
      "          chair growled the papa  bear  someones been sitting in\n",
      "             chair said the mama  bear  someones been sitting in\n",
      "           pieces cried the baby  bear  they decided to look\n",
      "             to the bedroom papa  bear  growled someones been sleeping\n",
      "               too said the mama  bear  someones been sleeping in\n",
      "      still there exclaimed baby  bear  just then goldilocks woke\n"
     ]
    }
   ],
   "source": [
    "print_kwic(bear_kwic)"
   ]
  },
  {
   "cell_type": "markdown",
   "metadata": {},
   "source": [
    "* In order to identify repreated patterns in a KWIC listing you need to be able to sort and reorder the lines according to the words in the right and left context.\n",
    "\n",
    "\n",
    "* For example, if we reorder the lines alphabetically by the L1 position we get:"
   ]
  },
  {
   "cell_type": "code",
   "execution_count": 107,
   "metadata": {},
   "outputs": [
    {
     "name": "stdout",
     "output_type": "stream",
     "text": [
      "               up cried the baby  bear  someones been sitting in\n",
      "           pieces cried the baby  bear  they decided to look\n",
      "      still there exclaimed baby  bear  just then goldilocks woke\n",
      "          porridge said the mama  bear  someones been eating my\n",
      "             chair said the mama  bear  someones been sitting in\n",
      "               too said the mama  bear  someones been sleeping in\n",
      "       porridge growled the papa  bear  someones been eating my\n",
      "          chair growled the papa  bear  someones been sitting in\n",
      "             to the bedroom papa  bear  growled someones been sleeping\n"
     ]
    }
   ],
   "source": [
    "print_kwic(sort_kwic(bear_kwic, order=['L1']))"
   ]
  },
  {
   "cell_type": "markdown",
   "metadata": {},
   "source": [
    "* Or order by one word to the right of the keyword:"
   ]
  },
  {
   "cell_type": "code",
   "execution_count": 109,
   "metadata": {},
   "outputs": [
    {
     "name": "stdout",
     "output_type": "stream",
     "text": [
      "               up cried the baby  bear  someones been sitting in\n",
      "          porridge said the mama  bear  someones been eating my\n",
      "             chair said the mama  bear  someones been sitting in\n",
      "               too said the mama  bear  someones been sleeping in\n",
      "       porridge growled the papa  bear  someones been eating my\n",
      "          chair growled the papa  bear  someones been sitting in\n",
      "           pieces cried the baby  bear  they decided to look\n",
      "             to the bedroom papa  bear  growled someones been sleeping\n",
      "      still there exclaimed baby  bear  just then goldilocks woke\n"
     ]
    }
   ],
   "source": [
    "print_kwic(sort_kwic(bear_kwic, order=['R2']))"
   ]
  },
  {
   "cell_type": "markdown",
   "metadata": {},
   "source": [
    "* The `sort_kwic()` function can take a list of positions to sort by.\n",
    "\n",
    "\n",
    "* So here we sort first by one word to the right and then matching lines, e.g. `someones` get sorted by the word in R3 position."
   ]
  },
  {
   "cell_type": "code",
   "execution_count": 110,
   "metadata": {},
   "outputs": [
    {
     "name": "stdout",
     "output_type": "stream",
     "text": [
      "             to the bedroom papa  bear  growled someones been sleeping\n",
      "      still there exclaimed baby  bear  just then goldilocks woke\n",
      "          porridge said the mama  bear  someones been eating my\n",
      "       porridge growled the papa  bear  someones been eating my\n",
      "               up cried the baby  bear  someones been sitting in\n",
      "             chair said the mama  bear  someones been sitting in\n",
      "          chair growled the papa  bear  someones been sitting in\n",
      "               too said the mama  bear  someones been sleeping in\n",
      "           pieces cried the baby  bear  they decided to look\n"
     ]
    }
   ],
   "source": [
    "print_kwic(sort_kwic(bear_kwic, order=['R1','R3']))"
   ]
  },
  {
   "cell_type": "markdown",
   "metadata": {},
   "source": [
    "* We can also include more than 4 words to the left and the right with the `win` parameter of `make_kwic()` function"
   ]
  },
  {
   "cell_type": "code",
   "execution_count": 111,
   "metadata": {},
   "outputs": [
    {
     "name": "stdout",
     "output_type": "stream",
     "text": [
      "                 just right she said happily and  she  ate it all up after shed\n",
      "                  walk in the forest pretty soon  she  came upon a house she knocked\n",
      "           shed eaten the three bears breakfasts  she  decided she was feeling a little\n",
      "                   bowl this porridge is too hot  she  exclaimed so she tasted the porridge\n",
      "                      feet this chair is too big  she  exclaimed so she sat in the\n",
      "               three bears she screamed help and  she  jumped up and ran out of\n",
      "                      soon she came upon a house  she  knocked and when no one answered\n",
      "                she went upstairs to the bedroom  she  lay down in the first bed\n",
      "                        but it was too hard then  she  lay in the second bed but\n",
      "                        but it was too soft then  she  lay down in the third bed\n",
      "                    ran away into the forest and  she  never returned to the home of\n",
      "                  bowl this porridge is too cold  she  said so she tasted the last\n",
      "                ahhh this porridge is just right  she  said happily and she ate it\n",
      "                     is too big she exclaimed so  she  sat in the second chair this\n",
      "               walked into the living room where  she  saw three chairs goldilocks sat in\n",
      "                      up and saw the three bears  she  screamed help and she jumped up\n",
      "                    right she sighed but just as  she  settled down into the chair to\n",
      "                   ahhh this chair is just right  she  sighed but just as she settled\n",
      "         bowls of porridge goldilocks was hungry  she  tasted the porridge from the first\n",
      "                     is too hot she exclaimed so  she  tasted the porridge from the second\n",
      "                         is too cold she said so  she  tasted the last bowl of porridge\n",
      "                       too big too she whined so  she  tried the last and smallest chair\n",
      "                knocked and when no one answered  she  walked right in at the table\n",
      "                   was feeling a little tired so  she  walked into the living room where\n",
      "          the three bears breakfasts she decided  she  was feeling a little tired so\n",
      "            just right goldilocks fell asleep as  she  was sleeping the three bears came\n",
      "              was a little girl named goldilocks  she  went for a walk in the\n",
      "                      very tired by this time so  she  went upstairs to the bedroom she\n",
      "                       this chair is too big too  she  whined so she tried the last\n"
     ]
    }
   ],
   "source": [
    "she_kwic = make_kwic('she', three_bears_tokens, win=6)\n",
    "she_kwic_R1_sorted = sort_kwic(she_kwic, order=['R1'])\n",
    "print_kwic(she_kwic)"
   ]
  },
  {
   "cell_type": "markdown",
   "metadata": {},
   "source": [
    "### Task\n",
    "\n",
    "* Make sure you understand the list-of-lists structure and practice picking out specific items from specific lines.\n",
    "\n",
    "* Create a few more KWIC lists from the Three Bears text and practice sorting them to discover patterns."
   ]
  },
  {
   "cell_type": "code",
   "execution_count": null,
   "metadata": {},
   "outputs": [],
   "source": []
  },
  {
   "cell_type": "markdown",
   "metadata": {},
   "source": [
    "## A bigger example: Examining _refugee_ in a corpus of news articles\n",
    "\n",
    "* Baker presents a nice example of using concordance analysis on a corpus of newspaper texts discussing refugees.\n",
    "\n",
    "\n",
    "* Here we use a smaller corpus of news articles pulled from _LexisNexis_ using the search term `refugee` and retrieve the first 998 documents in a single text file."
   ]
  },
  {
   "cell_type": "code",
   "execution_count": 112,
   "metadata": {},
   "outputs": [],
   "source": [
    "# read the contents of the file into a string object\n",
    "\n",
    "refugee_texts = open('/data/refugee_corpus/LN_refugee.txt').read()"
   ]
  },
  {
   "cell_type": "code",
   "execution_count": 113,
   "metadata": {},
   "outputs": [
    {
     "name": "stdout",
     "output_type": "stream",
     "text": [
      "Number of characters in the text file: 2364559\n"
     ]
    }
   ],
   "source": [
    "print('Number of characters in the text file:',len(refugee_texts))"
   ]
  },
  {
   "cell_type": "markdown",
   "metadata": {},
   "source": [
    "* This what an article looks like:"
   ]
  },
  {
   "cell_type": "code",
   "execution_count": 115,
   "metadata": {},
   "outputs": [
    {
     "name": "stdout",
     "output_type": "stream",
     "text": [
      "﻿\n",
      "                               1 of 998 DOCUMENTS\n",
      "\n",
      "                            Birmingham Evening Mail\n",
      "\n",
      "                            April 9, 2003, Wednesday\n",
      "\n",
      "REFUGEE PROBLEMS EXPLAINED\n",
      "\n",
      "SECTION: NEWS; Pg. 5\n",
      "\n",
      "LENGTH: 94 words\n",
      "\n",
      "\n",
      "ASYLUM seekers and refugees in Birmingham are having their basic needs met but\n",
      "support groups are facing funding gaps and cultural misunderstandings, a\n",
      "conference in the city heard.\n",
      "\n",
      "Representatives from some of the biggest refugee organisations in Birmingham\n",
      "presented their opinions and experiences of how their groups were managing to\n",
      "integrate in to life in the city.\n",
      "\n",
      "They presented their findings to the British Refugee Council, Refugee Action and\n",
      "the Midlands Refugee Council, among other providers, at the Between Two Worlds\n",
      "conference in Digbeth.\n",
      "\n",
      "LOAD-DATE: April 9, 2003\n",
      "\n",
      "LANGUAGE: ENGLISH\n",
      "\n",
      "PUB-TYPE: PAPER\n",
      "\n",
      "               Copyright 2003 Midland Independent Newspapers plc\n",
      "\n",
      "\n",
      "                               2 of 998 DOCUMENTS\n",
      "\n",
      "\n",
      "\n",
      "                                \n"
     ]
    }
   ],
   "source": [
    "print(refugee_texts[:1000])"
   ]
  },
  {
   "cell_type": "markdown",
   "metadata": {},
   "source": [
    "* For the purpose of concordancing it doesn't matter whether we strip out the header information so much.\n",
    "\n",
    "\n",
    "* And we can keep all 998 documents in one file for ease of analysis for now.\n",
    "\n",
    "\n",
    "* So first we normalize the text and tokenize it:"
   ]
  },
  {
   "cell_type": "code",
   "execution_count": 116,
   "metadata": {},
   "outputs": [],
   "source": [
    "refugee_tokens = tokenize(refugee_texts, lowercase=True, strip_chars=to_strip)"
   ]
  },
  {
   "cell_type": "code",
   "execution_count": 117,
   "metadata": {},
   "outputs": [
    {
     "name": "stdout",
     "output_type": "stream",
     "text": [
      "Number of tokens: 360521\n"
     ]
    }
   ],
   "source": [
    "print('Number of tokens:',len(refugee_tokens))"
   ]
  },
  {
   "cell_type": "code",
   "execution_count": 118,
   "metadata": {},
   "outputs": [
    {
     "name": "stdout",
     "output_type": "stream",
     "text": [
      "Token counts for:\n",
      "\trefugee \t3004\n",
      "\trefugees\t3439\n",
      "\n"
     ]
    }
   ],
   "source": [
    "print('Token counts for:\\n\\trefugee \\t{}\\n\\trefugees\\t{}\\n'.format(\n",
    "                    refugee_tokens.count('refugee'), refugee_tokens.count('refugees')))"
   ]
  },
  {
   "cell_type": "markdown",
   "metadata": {},
   "source": [
    "* Let's make a KWIC object for the keyword `refugee` and look at the first 10 lines"
   ]
  },
  {
   "cell_type": "code",
   "execution_count": 119,
   "metadata": {},
   "outputs": [],
   "source": [
    "refugee_kwic = make_kwic('refugee', refugee_tokens)"
   ]
  },
  {
   "cell_type": "code",
   "execution_count": 83,
   "metadata": {},
   "outputs": [
    {
     "data": {
      "text/plain": [
       "[[['april', '9', '2003', 'wednesday'],\n",
       "  'refugee',\n",
       "  ['problems', 'explained', 'section', 'news']],\n",
       " [['some', 'of', 'the', 'biggest'],\n",
       "  'refugee',\n",
       "  ['organisations', 'in', 'birmingham', 'presented']],\n",
       " [['findings', 'to', 'the', 'british'],\n",
       "  'refugee',\n",
       "  ['council', 'refugee', 'action', 'and']],\n",
       " [['the', 'british', 'refugee', 'council'],\n",
       "  'refugee',\n",
       "  ['action', 'and', 'the', 'midlands']],\n",
       " [['action', 'and', 'the', 'midlands'],\n",
       "  'refugee',\n",
       "  ['council', 'among', 'other', 'providers']],\n",
       " [['may', '15', '2003', 'thursday'],\n",
       "  'refugee',\n",
       "  ['pleas', 'a', 'record', 'byline']],\n",
       " [['a', 'record', 'number', 'of'],\n",
       "  'refugee',\n",
       "  ['applications', 'were', 'received', 'by']],\n",
       " [['poland', 'figures', 'from', 'the'],\n",
       "  'refugee',\n",
       "  ['applications', 'commissioner', 'show', 'only']],\n",
       " [['of', '900', 'were', 'granted'],\n",
       "  'refugee',\n",
       "  ['status', 'they', 'now', 'have']],\n",
       " [['rights', 'as', 'irish', 'citizens'],\n",
       "  'refugee',\n",
       "  ['application', 'commissioner', 'berenice', 'oneill']]]"
      ]
     },
     "execution_count": 83,
     "metadata": {},
     "output_type": "execute_result"
    }
   ],
   "source": [
    "refugee_kwic[:10]"
   ]
  },
  {
   "cell_type": "markdown",
   "metadata": {},
   "source": [
    "* Looking at the first 30 lines in a clearer way with `print_kwic()` function"
   ]
  },
  {
   "cell_type": "code",
   "execution_count": 120,
   "metadata": {},
   "outputs": [
    {
     "name": "stdout",
     "output_type": "stream",
     "text": [
      "          april 9 2003 wednesday  refugee  problems explained section news\n",
      "             some of the biggest  refugee  organisations in birmingham presented\n",
      "         findings to the british  refugee  council refugee action and\n",
      "     the british refugee council  refugee  action and the midlands\n",
      "         action and the midlands  refugee  council among other providers\n",
      "            may 15 2003 thursday  refugee  pleas a record byline\n",
      "              a record number of  refugee  applications were received by\n",
      "         poland figures from the  refugee  applications commissioner show only\n",
      "             of 900 were granted  refugee  status they now have\n",
      "        rights as irish citizens  refugee  application commissioner berenice oneill\n",
      "              ms oneill said the  refugee  application process was significantly\n",
      "               the office of the  refugee  applications commissioner is an\n",
      "     the justice minister grants  refugee  status it also investigates\n",
      "         cases of people granted  refugee  status who wish to\n",
      "        people have been granted  refugee  status so far this\n",
      "      figures prompted the irish  refugee  council to call last\n",
      "           coming to ireland the  refugee  applications commission revealed yesterday\n",
      "                 had to wait for  refugee  status on appeal to\n",
      "       appeal to the independent  refugee  appeals tribunal problem but\n",
      "          its decisions an irish  refugee  council spokesman said it\n",
      "             at the appeal stage  refugee  cases are not published\n",
      "              rac show that 5171  refugee  applications are waiting to\n",
      " 1104 asylumseekers were granted  refugee  status compared with 1990\n",
      "      endofyear review the irish  refugee  council warned that the\n",
      "      visas from people carrying  refugee  travel documents in a\n",
      "          no chance of obtaining  refugee  status because those countries\n",
      "           safe the plan stunned  refugee  groups refugee action boss\n",
      "     plan stunned refugee groups  refugee  action boss sandy buchan\n",
      "       refugees is paramount the  refugee  council warned against a\n",
      "          nobody at the scottish  refugee  council called hickey or\n"
     ]
    }
   ],
   "source": [
    "print_kwic(refugee_kwic[:30])"
   ]
  },
  {
   "cell_type": "markdown",
   "metadata": {},
   "source": [
    "* There are a lot of lines to look at (over 3000).\n",
    "\n",
    "\n",
    "* So usual practice is to subset them and then sort them and look for patterns.\n",
    "\n",
    "\n",
    "* And then repeat the process"
   ]
  },
  {
   "cell_type": "code",
   "execution_count": 88,
   "metadata": {
    "scrolled": false
   },
   "outputs": [
    {
     "name": "stdout",
     "output_type": "stream",
     "text": [
      "          report card on canadas  refugee  and immigration programs thursday\n",
      "             the response of the  refugee  applications commissioner june 14th\n",
      "          helped to organise the  refugee  awareness activities she said\n",
      "      least some immigration and  refugee  board commissioners have toughened\n",
      "       denied by immigration and  refugee  board the national post\n",
      "        says the immigration and  refugee  board summary of the\n",
      "           living at the alamari  refugee  camp in the west\n",
      "    union presidency agreed that  refugee  camps should be set\n",
      "     least 100 palestinians from  refugee  camps in lebanon and\n",
      "     least 100 palestinians from  refugee  camps in lebanon and\n",
      "    spokesman for the vincentian  refugee  centre called on justice\n",
      "       length 205 words coventry  refugee  centre is to get\n",
      "      running costs the coventry  refugee  centre a registered charity\n",
      "          april 17 2003 thursday  refugee  centres cash aid byline\n",
      "                 it focuses on a  refugee  child and will be\n",
      "               up to 160 missing  refugee  children may be working\n",
      "             of journeys made by  refugee  children when they were\n",
      "   words a 15yearold palestinian  refugee  claimant told a crowd\n",
      "       2003 sunday final edition  refugee  claimants march protesters call\n",
      "their approach toward palestinian  refugee  claimants since sept 11\n",
      "        montreal have seen their  refugee  claims in canada denied\n",
      "             bank have had their  refugee  claims denied copyright 2003\n",
      "               840 but the irish  refugee  council spokesman peter omahony\n",
      "        issue even further irish  refugee  council spokesman james stapleton\n",
      "       deeply worrying the irish  refugee  council said almost 3000\n",
      "           and somalia the irish  refugee  council irc accepts there\n",
      "          stapleton of the irish  refugee  council said asylum seekers\n",
      "       immigration law the irish  refugee  council has criticised the\n",
      "     2003 saturday final edition  refugee  delays excessive mennonite group\n",
      "                is assigned to a  refugee  family to help the\n",
      "               claimed she was a  refugee  in need of protection\n",
      "            16 2003 wednesday 20  refugee  jailings daily byline pat\n",
      "          1 2004 graphic tearful  refugee  novia martinez left crying\n",
      "the mennonite central committees  refugee  program said this week\n",
      " federal grant through missouris  refugee  resettlement program the grant\n",
      "             held at the mangere  refugee  resettlement centre in auckland\n",
      "    305 words catholic charities  refugee  services has a wonderful\n",
      "looking ahead catholic charities  refugee  services copyright 2003 st\n",
      "         diplomats said that the  refugee  situation in iraq at\n",
      "         irish law those seeking  refugee  status must prove they\n",
      "                  not in need of  refugee  status the councils policy\n",
      "              them when they get  refugee  status and go into\n",
      "           woman loses claim for  refugee  status source the ottawa\n",
      "     venezuelan womans claim for  refugee  status because she is\n",
      "              6 length 312 words  refugee  support groups predicted chaos\n",
      "         danger in colombia said  refugee  trinidad penalosa who decided\n",
      "               echo june 21 2003  refugee  week inspires pupils artwork\n",
      "                taking part in a  refugee  week a group of\n",
      "            part of a countywide  refugee  week it focuses on\n",
      "                 she said as its  refugee  week we wanted pupils\n"
     ]
    }
   ],
   "source": [
    "print_kwic(sort_kwic(refugee_kwic[50:100], order=['R1']))"
   ]
  },
  {
   "cell_type": "markdown",
   "metadata": {},
   "source": [
    "#### Taking a random sample\n",
    "\n",
    "* You can take a random sample of say 50 lines and repeat this process"
   ]
  },
  {
   "cell_type": "code",
   "execution_count": 124,
   "metadata": {},
   "outputs": [],
   "source": [
    "random.seed(0)"
   ]
  },
  {
   "cell_type": "code",
   "execution_count": 125,
   "metadata": {},
   "outputs": [
    {
     "name": "stdout",
     "output_type": "stream",
     "text": [
      "          home in sneinton notts  refugee  abas amini who sewed\n",
      "amnesty international uk liberty  refugee  action the national assembly\n",
      "  human rights organisations and  refugee  advocates are winning enormous\n",
      "        he argued still canadian  refugee  advocates say a very\n",
      "               found that the un  refugee  agency gives little training\n",
      "      with the londonbased iraqi  refugee  aid council has so\n",
      "    press shameful ernst zundels  refugee  application is an insult\n",
      "   giantonio director of vermont  refugee  assistance some of them\n",
      "       november 13 2003 thursday  refugee  bids section news pg\n",
      "             mothers appeal of a  refugee  boards decision to deny\n",
      "          leone near the gerihun  refugee  camp said yesterday that\n",
      "        british flag in jabaliya  refugee  camp northern gaza strip\n",
      "       camp gaza strip nusseirat  refugee  camp gaza strip israeli\n",
      "               into a gaza strip  refugee  camp yesterday killing eight\n",
      "      were militants calling the  refugee  camp strike a mistake\n",
      "               set up and manage  refugee  camps in iran in\n",
      "              other parts of the  refugee  camps around rafah the\n",
      "               up to 160 missing  refugee  children may be working\n",
      "          refugees from iraq two  refugee  children from iraq arrived\n",
      "          charge of dealing with  refugee  claims in canada since\n",
      "       protection under the 1951  refugee  convention experts and refugee\n",
      "            drafters of the 1951  refugee  convention were not seeking\n",
      "          more generous than the  refugee  convention in its treatment\n",
      "            sevenday rule that a  refugee  could never receive a\n",
      "         peter omahony ceo irish  refugee  council capel street dublin\n",
      " inhumane illegal and ridiculous  refugee  council brands tory asylum\n",
      "              avoid repeat of 91  refugee  crisis byline sonia verma\n",
      "                  the brunt of a  refugee  crisis they include turkey\n",
      "                  may 24 2003 un  refugee  group clear to intervene\n",
      "        an untapped workforce of  refugee  nurses who are already\n",
      "          immediate steps to fix  refugee  policy provide permanent protection\n",
      "       about creating a longterm  refugee  population countries including turkey\n",
      "           an exclusive focus on  refugee  protection and the protection\n",
      "          called for the nations  refugee  quota to be increased\n",
      " eastern afghanistan and closing  refugee  reception centers in four\n",
      "              the reality of the  refugee  situation was being shown\n",
      "        refugees in montreal and  refugee  status claimants criticized the\n",
      "      cases whose assessment for  refugee  status has not even\n",
      "       were accepted and granted  refugee  status exactly the same\n",
      "     the appeal tribunal granted  refugee  status in about three\n",
      "           in leicester who seek  refugee  status 36 per cent\n",
      "        215 words iraqis seeking  refugee  status in ireland are\n",
      "          unhcr has granted them  refugee  status can take several\n",
      "            to grant ahmed zaoui  refugee  status mr zaoui is\n",
      "thursday allround country edition  refugee  truth out of bag\n",
      "                the winners of a  refugee  week schools competition loaddate\n",
      "           from the service said  refugee  week and world refugee\n",
      "          year the general synod  refugee  working party has sent\n",
      "       refugees applies the term  refugee  worldwide to someone who\n",
      "         zealand eventually as a  refugee  you are entitled to\n"
     ]
    }
   ],
   "source": [
    "sample_lines=random.sample(refugee_kwic,50)\n",
    "sample_R1_sort=sort_kwic(sample_lines, order=['R1','L1'])\n",
    "print_kwic(sample_R1_sort)"
   ]
  },
  {
   "cell_type": "markdown",
   "metadata": {},
   "source": [
    "#### Now look for patterns\n",
    "\n",
    "* Look down the lines and try coming up with conceptual groupings:\n",
    "\n",
    "    * __organizations__ : `board`,`council`\n",
    "    * __holding places__ : `camp(s)`, `(detention) centre`\n",
    "    * __issue/crisis__ : `crisis`\n",
    "    * __process__ : `claim`, `status`, `admissions`\n",
    "    "
   ]
  },
  {
   "cell_type": "markdown",
   "metadata": {},
   "source": [
    "#### Now repeat with another sample"
   ]
  },
  {
   "cell_type": "code",
   "execution_count": 126,
   "metadata": {},
   "outputs": [
    {
     "name": "stdout",
     "output_type": "stream",
     "text": [
      "                 alone you are a  refugee  a refugee is a\n",
      "              to seek asylum say  refugee  advocates on both sides\n",
      "         the taliban was toppled  refugee  advocates have reported the\n",
      "              such a ruling with  refugee  advocates arguing that it\n",
      "        words the united nations  refugee  agency unhcr said yesterday\n",
      "                  to help the un  refugee  agency and the world\n",
      "          of the immigration and  refugee  board they are directly\n",
      "              be recorded by the  refugee  board until the next\n",
      "                 a strain on the  refugee  board bloating processing time\n",
      "           radio comment wrong a  refugee  boss last night denied\n",
      "                   bomb lab in a  refugee  camp sparking a gunbattle\n",
      "         also visited the altash  refugee  camp west of baghdad\n",
      "           and wait patiently in  refugee  camps senator eric abetz\n",
      "             required to wait in  refugee  camps abroad until being\n",
      "            400 people have left  refugee  camps in lebanon for\n",
      "           the asylum seeker and  refugee  centre for health has\n",
      "                  to even hear a  refugee  claim by an avowed\n",
      "          the panel rejected her  refugee  claim ms adams appealed\n",
      "           legal aid not illegal  refugee  claimants i look at\n",
      "          where the treatment of  refugee  claimants is widely viewed\n",
      "  immigration officials when the  refugee  claimants return they are\n",
      "               and other help to  refugee  claimants waiting at the\n",
      "            were allowed to make  refugee  claims in canada on\n",
      "     committee care the american  refugee  committee the womens commission\n",
      "              of reform the 1951  refugee  convention emerged out of\n",
      "   criminal prosecution the 1951  refugee  convention was designed to\n",
      "              per cent the irish  refugee  council said it was\n",
      "         action and the midlands  refugee  council among other providers\n",
      "  onlookers outside the scottish  refugee  council offices in glasgow\n",
      "       executive of the scottish  refugee  council said she hoped\n",
      "         to testimony during his  refugee  detention review yesterday he\n",
      "          about 70 east timorese  refugee  farming families will move\n",
      "                     i was not a  refugee  he explained i came\n",
      "     conventions definition of a  refugee  is a person who\n",
      "     refugee council which wants  refugee  issues to be addressed\n",
      "        legal centre e1 brighton  refugee  legal centre leeds howells\n",
      "         september 8 2003 monday  refugee  medics courses section news\n",
      "        to canadas extremely lax  refugee  policies some individuals abuse\n",
      "       bill revising the nations  refugee  policy for the first\n",
      "     final edition rally targets  refugee  policy source canwest news\n",
      "          has the worlds largest  refugee  population other afghans are\n",
      "          in the world affecting  refugee  populations saying that the\n",
      "contact becky herdklotz 4042944352  refugee  resettlement and immigration services\n",
      "         canada by plane claimed  refugee  status were promptly released\n",
      "     canada every month claiming  refugee  status even though they\n",
      "          the authority to grant  refugee  status on compassionate grounds\n",
      "        a criminal distortion of  refugee  status section news and\n",
      "       american pot smokers seek  refugee  status the site details\n",
      "            the removal of their  refugee  status and had been\n",
      "innocent victims of dysfunctional  refugee  system source vancouver sun\n"
     ]
    }
   ],
   "source": [
    "sample_lines=random.sample(refugee_kwic,50)\n",
    "sample_R1_sort=sort_kwic(sample_lines, order=['R1','L1'])\n",
    "print_kwic(sample_R1_sort)"
   ]
  },
  {
   "cell_type": "markdown",
   "metadata": {},
   "source": [
    "* Look down the lines and check with the conceptual groupings:\n",
    "\n",
    "    * __organizations__ : `board`,`council(s)`, `convention`, `organisations`\n",
    "    * __holding places__ : `camp(s)`, `(detention) centre`\n",
    "    * __issue/crisis__ : `crisis`, `problems`\n",
    "    * __process__ : `claim`, `status`, `admissions`, `review`, `hearing`, `status`, `cases`, `board`\n",
    "    * __activisim__ : `advocates`, `aid`\n",
    "    "
   ]
  },
  {
   "cell_type": "markdown",
   "metadata": {},
   "source": [
    "#### And repeat again with another random sample of 50 lines\n"
   ]
  },
  {
   "cell_type": "code",
   "execution_count": 92,
   "metadata": {},
   "outputs": [
    {
     "name": "stdout",
     "output_type": "stream",
     "text": [
      "         other amendments to the  refugee  act comes into force\n",
      "     lawyers public servants and  refugee  advocates they normally sit\n",
      "         the taliban was toppled  refugee  advocates have reported the\n",
      "              length 36 words un  refugee  agency urges governments to\n",
      "         a barrister who handles  refugee  appeals cases ms teresa\n",
      "        successful appeal to the  refugee  appeals tribunal the status\n",
      "    patrick giantonio of vermont  refugee  assistance said coderres assertions\n",
      "          of the immigration and  refugee  board would be refashioned\n",
      "        outsiders from a chechen  refugee  camp in ingushetia in\n",
      "         were destroyed at rafah  refugee  camp reuters homeless palestinian\n",
      "    armored vehicles entered the  refugee  camp and parts of\n",
      "           aid workers the worst  refugee  camp in the world\n",
      "                 one red cent on  refugee  camps it is estimated\n",
      "   specialize in immigration and  refugee  cases say zundel has\n",
      "            the north of england  refugee  centre in newcastle upon\n",
      "                that many of the  refugee  children had significant levels\n",
      "           when large numbers of  refugee  claimants from countries such\n",
      "    migration system by treating  refugee  claimants who arrived by\n",
      "         of those attackers were  refugee  claimants ms jacobs said\n",
      "                 15 or 20 failed  refugee  claims from gays and\n",
      "                a safe place for  refugee  claims to be heard\n",
      "        invited from schools and  refugee  community organisations mr purkis\n",
      "          contingency for a mass  refugee  crisis but so far\n",
      " cellphone company although some  refugee  families complain of having\n",
      "    need volunteers they include  refugee  family services needs volunteers\n",
      "      encouraging a north korean  refugee  flow because of the\n",
      "       2003 monday final edition  refugee  gathering to thank australia\n",
      "    monday tootough exam barring  refugee  gps from working byline\n",
      "          london october 21 2003  refugee  health workers length 194\n",
      " permanently settle the timorese  refugee  issue announcing the plan\n",
      "       is immensely popular with  refugee  lawyers and advocacy groups\n",
      "             or another from the  refugee  legal service she added\n",
      "           a fullscale review of  refugee  policy so people would\n",
      "           a fullscale review of  refugee  policy so people would\n",
      "       countries host far larger  refugee  populations afghanistan has more\n",
      "       under the immigration and  refugee  protection act which allows\n",
      "     undermined us leadership in  refugee  protection for the sake\n",
      "canadas international obligations to  refugee  protection and respecting canadas\n",
      "             held at the mangere  refugee  resettlement centre in auckland\n",
      "                york to lead its  refugee  rights program devoted to\n",
      "         diplomats said that the  refugee  situation in iraq at\n",
      "                of this year and  refugee  status was granted to\n",
      "        wartorn country to claim  refugee  status immigration minister philip\n",
      "           the couples claim for  refugee  status the men who\n",
      "     dissuaded from applying for  refugee  status in australia because\n",
      "             be allowed to grant  refugee  status or reject a\n",
      "           and senior fellow for  refugee  studies and preventive action\n",
      "               sunday as part of  refugee  week the afternoon which\n",
      "                 the view that a  refugee  who does not seek\n",
      "       drastic gesture on sunday  refugee  worker ella sprung said\n"
     ]
    }
   ],
   "source": [
    "sample_lines=random.sample(refugee_kwic,50)\n",
    "sample_R1_sort=sort_kwic(sample_lines, order=['R1','L1'])\n",
    "print_kwic(sample_R1_sort)"
   ]
  },
  {
   "cell_type": "markdown",
   "metadata": {},
   "source": [
    "* Check for any new groups of subgroups that describe the patterns"
   ]
  },
  {
   "cell_type": "markdown",
   "metadata": {},
   "source": []
  },
  {
   "cell_type": "markdown",
   "metadata": {},
   "source": []
  },
  {
   "cell_type": "markdown",
   "metadata": {},
   "source": []
  },
  {
   "cell_type": "code",
   "execution_count": null,
   "metadata": {},
   "outputs": [],
   "source": []
  }
 ],
 "metadata": {
  "kernelspec": {
   "display_name": "Python 3",
   "language": "python",
   "name": "python3"
  },
  "language_info": {
   "codemirror_mode": {
    "name": "ipython",
    "version": 3
   },
   "file_extension": ".py",
   "mimetype": "text/x-python",
   "name": "python",
   "nbconvert_exporter": "python",
   "pygments_lexer": "ipython3",
   "version": "3.6.3"
  }
 },
 "nbformat": 4,
 "nbformat_minor": 2
}
